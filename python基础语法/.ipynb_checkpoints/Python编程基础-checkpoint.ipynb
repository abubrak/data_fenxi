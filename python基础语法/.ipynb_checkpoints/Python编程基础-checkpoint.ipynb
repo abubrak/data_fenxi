{
 "cells": [
  {
   "cell_type": "markdown",
   "id": "2e888040",
   "metadata": {},
   "source": [
    "# Python编程基础"
   ]
  },
  {
   "cell_type": "markdown",
   "id": "fa022a1c",
   "metadata": {},
   "source": [
    "## Page1：函数输入与输出"
   ]
  },
  {
   "cell_type": "markdown",
   "id": "ceaed9f6",
   "metadata": {},
   "source": [
    "### 输出函数"
   ]
  },
  {
   "cell_type": "code",
   "execution_count": 1,
   "id": "1c121a7d",
   "metadata": {},
   "outputs": [
    {
     "name": "stdout",
     "output_type": "stream",
     "text": [
      "输出单个字符串\n"
     ]
    }
   ],
   "source": [
    "print('输出单个字符串')"
   ]
  },
  {
   "cell_type": "code",
   "execution_count": null,
   "id": "31abf47e",
   "metadata": {},
   "outputs": [],
   "source": []
  },
  {
   "cell_type": "code",
   "execution_count": 2,
   "id": "3f3941aa",
   "metadata": {},
   "outputs": [
    {
     "name": "stdout",
     "output_type": "stream",
     "text": [
      "输出 多个信息 用，隔开\n"
     ]
    }
   ],
   "source": [
    "print('输出','多个信息','用，隔开')"
   ]
  },
  {
   "cell_type": "code",
   "execution_count": 3,
   "id": "ff4b4dcd",
   "metadata": {},
   "outputs": [
    {
     "name": "stdout",
     "output_type": "stream",
     "text": [
      "设置*多个信息*的连接符\n"
     ]
    }
   ],
   "source": [
    "print('设置','多个信息','的连接符',sep='*')"
   ]
  },
  {
   "cell_type": "markdown",
   "id": "d1bd4e31",
   "metadata": {},
   "source": [
    "### 输入函数"
   ]
  },
  {
   "cell_type": "code",
   "execution_count": 4,
   "id": "a338062b",
   "metadata": {},
   "outputs": [
    {
     "name": "stdout",
     "output_type": "stream",
     "text": [
      "a\n"
     ]
    },
    {
     "data": {
      "text/plain": [
       "'a'"
      ]
     },
     "execution_count": 4,
     "metadata": {},
     "output_type": "execute_result"
    }
   ],
   "source": [
    "input() #直接调用函数就可以输入"
   ]
  },
  {
   "cell_type": "code",
   "execution_count": 5,
   "id": "95b9d1e1",
   "metadata": {},
   "outputs": [
    {
     "name": "stdout",
     "output_type": "stream",
     "text": [
      "也可以输入提示信息，提示信息不被录入a\n"
     ]
    },
    {
     "data": {
      "text/plain": [
       "'a'"
      ]
     },
     "execution_count": 5,
     "metadata": {},
     "output_type": "execute_result"
    }
   ],
   "source": [
    "input('也可以输入提示信息，提示信息不被录入') "
   ]
  },
  {
   "cell_type": "markdown",
   "id": "fabef501",
   "metadata": {},
   "source": [
    "### 格式化输出"
   ]
  },
  {
   "cell_type": "code",
   "execution_count": 6,
   "id": "633b768e",
   "metadata": {},
   "outputs": [
    {
     "name": "stdout",
     "output_type": "stream",
     "text": [
      "1.110000\n"
     ]
    }
   ],
   "source": [
    "print('%f' % 1.11)  # 默认保留6位小数"
   ]
  },
  {
   "cell_type": "code",
   "execution_count": 7,
   "id": "30cb40af",
   "metadata": {},
   "outputs": [
    {
     "name": "stdout",
     "output_type": "stream",
     "text": [
      "1.1\n"
     ]
    }
   ],
   "source": [
    "print('%.1f' % 1.11)  # 取1位小数"
   ]
  },
  {
   "cell_type": "code",
   "execution_count": 8,
   "id": "0564de35",
   "metadata": {},
   "outputs": [
    {
     "name": "stdout",
     "output_type": "stream",
     "text": [
      "1.110e+00\n"
     ]
    }
   ],
   "source": [
    "print('%.3e' % 1.11)  # 取3位小数，用科学计数法"
   ]
  },
  {
   "cell_type": "code",
   "execution_count": 9,
   "id": "96d230a1",
   "metadata": {},
   "outputs": [
    {
     "name": "stdout",
     "output_type": "stream",
     "text": [
      "1111.111\n"
     ]
    }
   ],
   "source": [
    "print('%.7g' % 1111.1111)  # 取7位有效数字"
   ]
  },
  {
   "cell_type": "code",
   "execution_count": 10,
   "id": "71842f66",
   "metadata": {},
   "outputs": [
    {
     "name": "stdout",
     "output_type": "stream",
     "text": [
      "我叫张三，今年18岁。\n"
     ]
    }
   ],
   "source": [
    "print('我叫{}，今年{}岁。'.format('张三', 18))\n",
    "# 省略字段名传递位置参数"
   ]
  },
  {
   "cell_type": "code",
   "execution_count": 11,
   "id": "871c4679",
   "metadata": {},
   "outputs": [
    {
     "name": "stdout",
     "output_type": "stream",
     "text": [
      "身高180，家住武汉。\n"
     ]
    }
   ],
   "source": [
    "print('身高{0}，家住{1}。'.format(180, '武汉'))\n",
    "# 通过数字形式的简单字段名传递位置参数"
   ]
  },
  {
   "cell_type": "code",
   "execution_count": 12,
   "id": "39d14306",
   "metadata": {},
   "outputs": [
    {
     "name": "stdout",
     "output_type": "stream",
     "text": [
      "我大哥是张二，今年20岁。\n"
     ]
    }
   ],
   "source": [
    "print('我大哥是{name}，今年{age}岁。'.format(age=20,name='张二'))\n",
    "# 使用变量名形式的简单字段名传递关键字参数"
   ]
  },
  {
   "cell_type": "markdown",
   "id": "3f7b4ce9",
   "metadata": {},
   "source": [
    "## Page12：字符串"
   ]
  },
  {
   "cell_type": "markdown",
   "id": "2ff268a3",
   "metadata": {},
   "source": [
    "### 字符串的基本操作"
   ]
  },
  {
   "cell_type": "code",
   "execution_count": 13,
   "id": "3e6f6728",
   "metadata": {},
   "outputs": [],
   "source": [
    "str1='字符串的创建'\n",
    "str2=\"另一种创建方法\"\n",
    "str3='''换行字符串\n",
    "的创建'''"
   ]
  },
  {
   "cell_type": "code",
   "execution_count": 14,
   "id": "26e9f542",
   "metadata": {},
   "outputs": [
    {
     "name": "stdout",
     "output_type": "stream",
     "text": [
      "字符串的创建\n",
      "************\n",
      "另一种创建方法\n",
      "************\n",
      "换行字符串\n",
      "的创建\n"
     ]
    }
   ],
   "source": [
    "print(str1,str2,str3,sep='\\n************\\n')"
   ]
  },
  {
   "cell_type": "code",
   "execution_count": 15,
   "id": "3e099e2f",
   "metadata": {},
   "outputs": [
    {
     "name": "stdout",
     "output_type": "stream",
     "text": [
      "字符串的创建另一种创建方法\n",
      "字符串的创建字符串的创建字符串的创建\n",
      "字符串的构建\n",
      "0\n"
     ]
    }
   ],
   "source": [
    "print(str1+str2)\n",
    "# 合并字符串\n",
    "print(str1*3)\n",
    "# 复制字符串\n",
    "print(str1.replace('创建','构建'))\n",
    "# 修改字符串\n",
    "print(str1.find('字'))\n",
    "# 查找特定字符"
   ]
  },
  {
   "cell_type": "markdown",
   "id": "d3d016f8",
   "metadata": {},
   "source": [
    "### 字符串切片"
   ]
  },
  {
   "cell_type": "code",
   "execution_count": 16,
   "id": "b562c4e2",
   "metadata": {},
   "outputs": [
    {
     "data": {
      "text/plain": [
       "'符'"
      ]
     },
     "execution_count": 16,
     "metadata": {},
     "output_type": "execute_result"
    }
   ],
   "source": [
    "str1[1]\n",
    "# 切取单个元素"
   ]
  },
  {
   "cell_type": "code",
   "execution_count": 17,
   "id": "3a67571a",
   "metadata": {},
   "outputs": [
    {
     "name": "stdout",
     "output_type": "stream",
     "text": [
      "字符串的创建\n",
      "字符串的创建\n",
      "建创的串符字\n"
     ]
    }
   ],
   "source": [
    "#切取完整对象\n",
    "print(str1[:]) #从左往右\n",
    "print(str1[::])   #从左往右\n",
    "print(str1[::-1])#从右往左"
   ]
  },
  {
   "cell_type": "code",
   "execution_count": 18,
   "id": "c8a4bc9f",
   "metadata": {},
   "outputs": [
    {
     "name": "stdout",
     "output_type": "stream",
     "text": [
      "串的\n",
      "字符串的\n",
      "建\n",
      "创建\n",
      "建创的串符字\n"
     ]
    }
   ],
   "source": [
    "## start_index和end_index全为正（+）索引的情况\n",
    "print(str1[2:4]) #step=1，从左往右取值，start_index=2到end_index=4同样表示从左往右取值。\n",
    "print(str1[:4])  #step=1，表示从左往右取值，而start_index省略时，表示从端点开始\n",
    "       #因此这里的端点是“起点”，即从“起点”值0开始一直取到end_index=4（该点不包括）。\n",
    "print(str1[:4:-1])#step=-1，从右往左取值，而start_index省略时，表示从端点开始\n",
    "        #因此这里的端点是“终点”，即从“终点”值9开始一直取到end_index=4（该点不包括）。\n",
    "print(str1[4:])   #step=1，从左往右取值，从start_index=4开始，一直取到“终点”值4。\n",
    "print(str1[6::-1]) #step=-1，从右往左取值，从start_index=4开始，一直取到“起点”0。"
   ]
  },
  {
   "cell_type": "code",
   "execution_count": 19,
   "id": "baf339b7",
   "metadata": {},
   "outputs": [
    {
     "name": "stdout",
     "output_type": "stream",
     "text": [
      "建创的串符\n",
      "字符串的创\n",
      "字符\n",
      "建创的串符\n",
      "串的创建\n",
      "串符字\n"
     ]
    }
   ],
   "source": [
    "## start_index和end_index全为负（-）索引的情况\n",
    "print(str1[-1:-6:-1])  #step=-1，从右往左取值，start_index=-1到end_index=-6同样是从右往左取值。\n",
    "print(str1[-6:-1])  #step=1，从左往右取值，而start_index=-6到end_index=-1同样是从左往右取值。\n",
    "print(str1[:-4]) #step=1，从左往右取值，从“起点”开始一直取到end_index=-4（该点不包括）。\n",
    "print(str1[:-6:-1]) #step=-1，从右往左取值，从“终点”开始一直取到end_index=-6（该点不包括）。\n",
    "print(str1[-4:]) # step=1，从左往右取值，从start_index=-4开始，一直取到“终点”。\n",
    "print(str1[-4::-1]) #step=-1，从右往左取值，从start_index=-4开始，一直取到“起点”。"
   ]
  },
  {
   "cell_type": "markdown",
   "id": "2143119f",
   "metadata": {},
   "source": [
    "## Page13：字符串的相关函数使用"
   ]
  },
  {
   "cell_type": "code",
   "execution_count": 20,
   "id": "0a689d16",
   "metadata": {},
   "outputs": [],
   "source": [
    "S='  aa!bb!cc!dd!EE  '\n",
    "#创建一个字符串"
   ]
  },
  {
   "cell_type": "code",
   "execution_count": 21,
   "id": "4ddb34d4",
   "metadata": {},
   "outputs": [
    {
     "data": {
      "text/plain": [
       "['  aa', 'bb', 'cc', 'dd', 'EE  ']"
      ]
     },
     "execution_count": 21,
     "metadata": {},
     "output_type": "execute_result"
    }
   ],
   "source": [
    "S.split('!')\n",
    "#使用!分割字符串"
   ]
  },
  {
   "cell_type": "code",
   "execution_count": 22,
   "id": "556fc3ec",
   "metadata": {},
   "outputs": [
    {
     "data": {
      "text/plain": [
       "'aa!bb!cc!dd!EE'"
      ]
     },
     "execution_count": 22,
     "metadata": {},
     "output_type": "execute_result"
    }
   ],
   "source": [
    "S.strip()\n",
    "#删除字符串的空格"
   ]
  },
  {
   "cell_type": "code",
   "execution_count": 102,
   "id": "69eff694",
   "metadata": {},
   "outputs": [
    {
     "name": "stdout",
     "output_type": "stream",
     "text": [
      "False\n",
      "True\n"
     ]
    }
   ],
   "source": [
    "print(S.isalnum())\n",
    "#字符串含有数字和字母以外的字符,判断为False\n",
    "print('aabbccddEE'.isalnum())\n",
    "#字符串只有数字和字母,判断为True"
   ]
  },
  {
   "cell_type": "code",
   "execution_count": 24,
   "id": "a7ce7a72",
   "metadata": {},
   "outputs": [
    {
     "data": {
      "text/plain": [
       "4"
      ]
     },
     "execution_count": 24,
     "metadata": {},
     "output_type": "execute_result"
    }
   ],
   "source": [
    "S.count('!')\n",
    "#统计字符串中!字符的个数"
   ]
  },
  {
   "cell_type": "code",
   "execution_count": 103,
   "id": "b661ad02",
   "metadata": {},
   "outputs": [
    {
     "data": {
      "text/plain": [
       "1"
      ]
     },
     "execution_count": 103,
     "metadata": {},
     "output_type": "execute_result"
    }
   ],
   "source": [
    "S.count('!',2,6)\n",
    "#统计索引在2:6的字符串中!出现的次数"
   ]
  },
  {
   "cell_type": "code",
   "execution_count": 26,
   "id": "c1fa39a2",
   "metadata": {},
   "outputs": [
    {
     "data": {
      "text/plain": [
       "'aa!bb!cc!dd!EE  '"
      ]
     },
     "execution_count": 26,
     "metadata": {},
     "output_type": "execute_result"
    }
   ],
   "source": [
    "S.lstrip()\n",
    "#去掉字符串的左边空格"
   ]
  },
  {
   "cell_type": "code",
   "execution_count": 27,
   "id": "fe5fe775",
   "metadata": {},
   "outputs": [
    {
     "data": {
      "text/plain": [
       "'  aa!bb!cc!dd!EE'"
      ]
     },
     "execution_count": 27,
     "metadata": {},
     "output_type": "execute_result"
    }
   ],
   "source": [
    "S.rstrip()\n",
    "#去掉字符串的右边空格"
   ]
  },
  {
   "cell_type": "code",
   "execution_count": 28,
   "id": "06a5728b",
   "metadata": {},
   "outputs": [
    {
     "data": {
      "text/plain": [
       "'  AA!BB!CC!DD!EE  '"
      ]
     },
     "execution_count": 28,
     "metadata": {},
     "output_type": "execute_result"
    }
   ],
   "source": [
    "S.upper()\n",
    "#将小写字母完全变成大写字母"
   ]
  },
  {
   "cell_type": "code",
   "execution_count": 29,
   "id": "f6fd8221",
   "metadata": {},
   "outputs": [
    {
     "data": {
      "text/plain": [
       "'  aa!bb!cc!dd!ee  '"
      ]
     },
     "execution_count": 29,
     "metadata": {},
     "output_type": "execute_result"
    }
   ],
   "source": [
    "S.lower()\n",
    "#将大写字母完全变成小写字母"
   ]
  },
  {
   "cell_type": "code",
   "execution_count": 106,
   "id": "1265510c",
   "metadata": {},
   "outputs": [
    {
     "data": {
      "text/plain": [
       "'  aa!bb!cc!dd!ee  '"
      ]
     },
     "execution_count": 106,
     "metadata": {},
     "output_type": "execute_result"
    }
   ],
   "source": [
    "S.capitalize()\n",
    "#开始是空格的话,此函数不起作用"
   ]
  },
  {
   "cell_type": "code",
   "execution_count": 107,
   "id": "ff7c7b68",
   "metadata": {},
   "outputs": [
    {
     "data": {
      "text/plain": [
       "'Aa!bb!cc!dd!ee  '"
      ]
     },
     "execution_count": 107,
     "metadata": {},
     "output_type": "execute_result"
    }
   ],
   "source": [
    "S.lstrip().capitalize()\n",
    "#把字符串的第一个字母变成大写"
   ]
  },
  {
   "cell_type": "code",
   "execution_count": 109,
   "id": "da336887",
   "metadata": {},
   "outputs": [
    {
     "data": {
      "text/plain": [
       "'  Aa!Bb!Cc!Dd!Ee  '"
      ]
     },
     "execution_count": 109,
     "metadata": {},
     "output_type": "execute_result"
    }
   ],
   "source": [
    "S.title()\n",
    "#把所有单词的第一个字母变成大写"
   ]
  },
  {
   "cell_type": "markdown",
   "id": "8975628d",
   "metadata": {},
   "source": [
    "## Page14：转义字符的使用"
   ]
  },
  {
   "cell_type": "code",
   "execution_count": 33,
   "id": "34455496",
   "metadata": {},
   "outputs": [
    {
     "name": "stdout",
     "output_type": "stream",
     "text": [
      "转义字符示例：\n",
      "换行\n",
      "转义字符示例：\r",
      "回车\n",
      "转义字符示例：\r",
      " 水平制表\n",
      "转义字符示例：\u000b",
      "垂直制表\n",
      "转义字符示例：\u0000空字符\n"
     ]
    }
   ],
   "source": [
    "print('转义字符示例：\\n换行')\n",
    "print('转义字符示例：\\r回车')\n",
    "print('转义字符示例：\\r','水平制表')\n",
    "print('转义字符示例：\\v垂直制表')\n",
    "print('转义字符示例：\\0空字符')"
   ]
  },
  {
   "cell_type": "markdown",
   "id": "cbdf61f4",
   "metadata": {},
   "source": [
    "## Page15：列表"
   ]
  },
  {
   "cell_type": "code",
   "execution_count": 34,
   "id": "c5716a0a",
   "metadata": {},
   "outputs": [
    {
     "data": {
      "text/plain": [
       "['这', '里', '是', '一', '个', '列', '表', '1', '2', '3']"
      ]
     },
     "execution_count": 34,
     "metadata": {},
     "output_type": "execute_result"
    }
   ],
   "source": [
    "List=list('这里是一个列表123')\n",
    "List\n",
    "#创建一个列表"
   ]
  },
  {
   "cell_type": "code",
   "execution_count": 35,
   "id": "d52cae37",
   "metadata": {},
   "outputs": [
    {
     "data": {
      "text/plain": [
       "['这', '里', '是', '%', '一', '个', '列', '表', '1', '2', '3']"
      ]
     },
     "execution_count": 35,
     "metadata": {},
     "output_type": "execute_result"
    }
   ],
   "source": [
    "List.insert(3,'%')\n",
    "List\n",
    "#对列表添加元素"
   ]
  },
  {
   "cell_type": "code",
   "execution_count": 36,
   "id": "cca9e31b",
   "metadata": {},
   "outputs": [
    {
     "name": "stdout",
     "output_type": "stream",
     "text": [
      "3\n"
     ]
    },
    {
     "data": {
      "text/plain": [
       "['这', '里', '是', '一', '个', '列', '表', '1', '2']"
      ]
     },
     "execution_count": 36,
     "metadata": {},
     "output_type": "execute_result"
    }
   ],
   "source": [
    "print(List.pop())   #移除列表中的一个元素（默认最后一个元素），并且返回该元素的值\n",
    "List.pop(3)    #输入索引移除索引位置上的值\n",
    "List"
   ]
  },
  {
   "cell_type": "code",
   "execution_count": 37,
   "id": "17f954f1",
   "metadata": {},
   "outputs": [
    {
     "data": {
      "text/plain": [
       "['这', '里', '是', '一', 'new', '列', '表', '1', '2']"
      ]
     },
     "execution_count": 37,
     "metadata": {},
     "output_type": "execute_result"
    }
   ],
   "source": [
    "List[4]='new'\n",
    "List\n",
    "#将列表索引为4的元素修改成'New'"
   ]
  },
  {
   "cell_type": "code",
   "execution_count": 38,
   "id": "81f77ef6",
   "metadata": {},
   "outputs": [
    {
     "data": {
      "text/plain": [
       "6"
      ]
     },
     "execution_count": 38,
     "metadata": {},
     "output_type": "execute_result"
    }
   ],
   "source": [
    "List.index('表')\n",
    "#查找元素'表'的位置并返回索引"
   ]
  },
  {
   "cell_type": "code",
   "execution_count": 39,
   "id": "19d25faa",
   "metadata": {},
   "outputs": [
    {
     "data": {
      "text/plain": [
       "True"
      ]
     },
     "execution_count": 39,
     "metadata": {},
     "output_type": "execute_result"
    }
   ],
   "source": [
    "'这' in List\n",
    "#判断元素是否存在与列表"
   ]
  },
  {
   "cell_type": "code",
   "execution_count": 40,
   "id": "6facbd80",
   "metadata": {},
   "outputs": [
    {
     "data": {
      "text/plain": [
       "False"
      ]
     },
     "execution_count": 40,
     "metadata": {},
     "output_type": "execute_result"
    }
   ],
   "source": [
    "'不存在' in List"
   ]
  },
  {
   "cell_type": "code",
   "execution_count": 41,
   "id": "3c408d0b",
   "metadata": {},
   "outputs": [
    {
     "data": {
      "text/plain": [
       "['这', '里', '是', '一', 'new', '列', '表', '1', '2', '新', '列', '表']"
      ]
     },
     "execution_count": 41,
     "metadata": {},
     "output_type": "execute_result"
    }
   ],
   "source": [
    "List+list('新列表')\n",
    "#合并列表"
   ]
  },
  {
   "cell_type": "code",
   "execution_count": 110,
   "id": "fc963382",
   "metadata": {},
   "outputs": [
    {
     "data": {
      "text/plain": [
       "['这',\n",
       " '里',\n",
       " '是',\n",
       " '一',\n",
       " '列',\n",
       " '表',\n",
       " '1',\n",
       " '2',\n",
       " 'obj',\n",
       " '新',\n",
       " '列',\n",
       " '表',\n",
       " '这',\n",
       " '里',\n",
       " '是',\n",
       " '一',\n",
       " '列',\n",
       " '表',\n",
       " '1',\n",
       " '2',\n",
       " 'obj',\n",
       " '新',\n",
       " '列',\n",
       " '表',\n",
       " '这',\n",
       " '里',\n",
       " '是',\n",
       " '一',\n",
       " '列',\n",
       " '表',\n",
       " '1',\n",
       " '2',\n",
       " 'obj',\n",
       " '新',\n",
       " '列',\n",
       " '表']"
      ]
     },
     "execution_count": 110,
     "metadata": {},
     "output_type": "execute_result"
    }
   ],
   "source": [
    "List*3\n",
    "#重复列表"
   ]
  },
  {
   "cell_type": "code",
   "execution_count": 43,
   "id": "0f93f0ca",
   "metadata": {},
   "outputs": [],
   "source": [
    "#切片操作省略"
   ]
  },
  {
   "cell_type": "markdown",
   "id": "8f0e3db5",
   "metadata": {},
   "source": [
    "## Page16：列表的其他用法"
   ]
  },
  {
   "cell_type": "code",
   "execution_count": 44,
   "id": "22c23447",
   "metadata": {},
   "outputs": [
    {
     "data": {
      "text/plain": [
       "['这', '里', '是', '一', 'new', '列', '表', '1', '2', 'obj']"
      ]
     },
     "execution_count": 44,
     "metadata": {},
     "output_type": "execute_result"
    }
   ],
   "source": [
    "List.append('obj')\n",
    "List\n",
    "#在列表末尾添加新的对象"
   ]
  },
  {
   "cell_type": "code",
   "execution_count": 45,
   "id": "219b8425",
   "metadata": {},
   "outputs": [
    {
     "data": {
      "text/plain": [
       "1"
      ]
     },
     "execution_count": 45,
     "metadata": {},
     "output_type": "execute_result"
    }
   ],
   "source": [
    "List.count('obj')\n",
    "#统计某个元素在列表中出现的次数"
   ]
  },
  {
   "cell_type": "code",
   "execution_count": 46,
   "id": "c71f0a47",
   "metadata": {},
   "outputs": [
    {
     "data": {
      "text/plain": [
       "['这', '里', '是', '一', 'new', '列', '表', '1', '2', 'obj', '新', '列', '表']"
      ]
     },
     "execution_count": 46,
     "metadata": {},
     "output_type": "execute_result"
    }
   ],
   "source": [
    "List.extend(list('新列表'))\n",
    "List\n",
    "#在列表末尾一次性追加另一个序列中的多个值（用新列表扩展原来的列表）"
   ]
  },
  {
   "cell_type": "code",
   "execution_count": 47,
   "id": "43d909e8",
   "metadata": {},
   "outputs": [
    {
     "data": {
      "text/plain": [
       "['这', '里', '是', '一', '列', '表', '1', '2', 'obj', '新', '列', '表']"
      ]
     },
     "execution_count": 47,
     "metadata": {},
     "output_type": "execute_result"
    }
   ],
   "source": [
    "List.remove('new')\n",
    "List\n",
    "#移除列表中某个值的第一个匹配项"
   ]
  },
  {
   "cell_type": "markdown",
   "id": "04a230d3",
   "metadata": {},
   "source": [
    "## Page17：元组基本操作"
   ]
  },
  {
   "cell_type": "code",
   "execution_count": 111,
   "id": "40c36226",
   "metadata": {},
   "outputs": [
    {
     "data": {
      "text/plain": [
       "('这', '里', '是', '一', '个', '元', '组')"
      ]
     },
     "execution_count": 111,
     "metadata": {},
     "output_type": "execute_result"
    }
   ],
   "source": [
    "Tuple0=(1,) #创建一个元素的元组时,为了避免歧义,需要在元素后面加个,\n",
    "Tuple1=(1,2,3)\n",
    "Tuple=tuple(list('这里是一个元组'))\n",
    "Tuple\n",
    "#创建元组"
   ]
  },
  {
   "cell_type": "code",
   "execution_count": 49,
   "id": "e1a32af2",
   "metadata": {},
   "outputs": [
    {
     "data": {
      "text/plain": [
       "7"
      ]
     },
     "execution_count": 49,
     "metadata": {},
     "output_type": "execute_result"
    }
   ],
   "source": [
    "len(Tuple) \n",
    "#求元组长度"
   ]
  },
  {
   "cell_type": "code",
   "execution_count": 50,
   "id": "234b5b11",
   "metadata": {},
   "outputs": [
    {
     "data": {
      "text/plain": [
       "('这', '里', '是', '一', '个', '元', '组', 1, 2, 3)"
      ]
     },
     "execution_count": 50,
     "metadata": {},
     "output_type": "execute_result"
    }
   ],
   "source": [
    "Tuple+Tuple1\n",
    "#合并两个元组"
   ]
  },
  {
   "cell_type": "code",
   "execution_count": 51,
   "id": "c99574d5",
   "metadata": {},
   "outputs": [
    {
     "data": {
      "text/plain": [
       "('这', '里', '是', '一', '个', '元', '组', '这', '里', '是', '一', '个', '元', '组')"
      ]
     },
     "execution_count": 51,
     "metadata": {},
     "output_type": "execute_result"
    }
   ],
   "source": [
    "Tuple*2\n",
    "#重复元组"
   ]
  },
  {
   "cell_type": "code",
   "execution_count": 52,
   "id": "4a606b96",
   "metadata": {},
   "outputs": [
    {
     "data": {
      "text/plain": [
       "True"
      ]
     },
     "execution_count": 52,
     "metadata": {},
     "output_type": "execute_result"
    }
   ],
   "source": [
    "'这' in Tuple\n",
    "#判断元素是否存在于元组"
   ]
  },
  {
   "cell_type": "code",
   "execution_count": 53,
   "id": "fa0beacc",
   "metadata": {},
   "outputs": [
    {
     "data": {
      "text/plain": [
       "[2, 3, 5, 6, 8]"
      ]
     },
     "execution_count": 53,
     "metadata": {},
     "output_type": "execute_result"
    }
   ],
   "source": [
    "sorted((2,3,5,6,8))\n",
    "#对元组中的元素进行排序"
   ]
  },
  {
   "cell_type": "code",
   "execution_count": 54,
   "id": "5cb44310",
   "metadata": {},
   "outputs": [],
   "source": [
    "#切片操作省略"
   ]
  },
  {
   "cell_type": "markdown",
   "id": "be59543a",
   "metadata": {},
   "source": [
    "## Page18：集合"
   ]
  },
  {
   "cell_type": "code",
   "execution_count": 55,
   "id": "fb4817a8",
   "metadata": {},
   "outputs": [
    {
     "data": {
      "text/plain": [
       "{'一', '个', '合', '是', '这', '里', '集'}"
      ]
     },
     "execution_count": 55,
     "metadata": {},
     "output_type": "execute_result"
    }
   ],
   "source": [
    "Set=set(list('这里是一个集合一'))\n",
    "Set\n",
    "#创建集合,集合元素不重复,所以'一'只有一个"
   ]
  },
  {
   "cell_type": "code",
   "execution_count": 117,
   "id": "d74327f6",
   "metadata": {},
   "outputs": [
    {
     "data": {
      "text/plain": [
       "{'x', '个', '元', '新', '是', '素', '这', '里', '集'}"
      ]
     },
     "execution_count": 117,
     "metadata": {},
     "output_type": "execute_result"
    }
   ],
   "source": [
    "Set.add('x')\n",
    "Set\n",
    "#向集合添加元素"
   ]
  },
  {
   "cell_type": "code",
   "execution_count": 118,
   "id": "0c165445",
   "metadata": {},
   "outputs": [
    {
     "data": {
      "text/plain": [
       "{'x', '个', '元', '新', '是', '素', '这', '里', '集'}"
      ]
     },
     "execution_count": 118,
     "metadata": {},
     "output_type": "execute_result"
    }
   ],
   "source": [
    "Set2=set(list('新元素'))\n",
    "Set.update(Set2)\n",
    "Set\n",
    "#把集合Set2的元素添加到Set"
   ]
  },
  {
   "cell_type": "code",
   "execution_count": 120,
   "id": "32cf66ae",
   "metadata": {},
   "outputs": [
    {
     "data": {
      "text/plain": [
       "{'x', '个', '元', '是', '素', '这', '里', '集'}"
      ]
     },
     "execution_count": 120,
     "metadata": {},
     "output_type": "execute_result"
    }
   ],
   "source": [
    "Set.remove('新')\n",
    "Set\n",
    "#删除集合中的元素'新'"
   ]
  },
  {
   "cell_type": "code",
   "execution_count": 121,
   "id": "acefc9cf",
   "metadata": {},
   "outputs": [
    {
     "data": {
      "text/plain": [
       "{'个', '元', '是', '素', '这', '里', '集'}"
      ]
     },
     "execution_count": 121,
     "metadata": {},
     "output_type": "execute_result"
    }
   ],
   "source": [
    "Set.discard('x')\n",
    "Set\n",
    "#删除指定元素，但是如果集合中没有的话就什么也不做"
   ]
  },
  {
   "cell_type": "code",
   "execution_count": 122,
   "id": "c8f56d0b",
   "metadata": {},
   "outputs": [
    {
     "name": "stdout",
     "output_type": "stream",
     "text": [
      "这\n",
      "{'素', '集', '个', '里', '是', '元'}\n"
     ]
    }
   ],
   "source": [
    "print(Set.pop()) \n",
    "print(Set)\n",
    "#随机删除一个，并返回该值"
   ]
  },
  {
   "cell_type": "markdown",
   "id": "0557e87b",
   "metadata": {},
   "source": [
    "## Page19：集合运算操作简便写法"
   ]
  },
  {
   "cell_type": "code",
   "execution_count": 61,
   "id": "361331e7",
   "metadata": {},
   "outputs": [],
   "source": [
    "# 在对集合做运算时，不会影响原来的集合，而是返回一个运算结果\n",
    "# 创建两个集合\n",
    "A = {1,2,3,4,5}\n",
    "B = {3,4,5,6,7}"
   ]
  },
  {
   "cell_type": "code",
   "execution_count": 62,
   "id": "e3525ce7",
   "metadata": {},
   "outputs": [
    {
     "name": "stdout",
     "output_type": "stream",
     "text": [
      "{1, 2, 3, 4, 5, 6, 7}\n",
      "{1, 2, 3, 4, 5, 6, 7}\n"
     ]
    }
   ],
   "source": [
    "# 并集\n",
    "print(A|B)\n",
    "print(A.union(B) )          "
   ]
  },
  {
   "cell_type": "code",
   "execution_count": 63,
   "id": "d32bf342",
   "metadata": {},
   "outputs": [
    {
     "name": "stdout",
     "output_type": "stream",
     "text": [
      "{3, 4, 5}\n",
      "{3, 4, 5}\n"
     ]
    }
   ],
   "source": [
    "# 交集\n",
    "print(A&B)                                      \n",
    "print(A.intersection(B))                  "
   ]
  },
  {
   "cell_type": "code",
   "execution_count": 64,
   "id": "a9c1d6ec",
   "metadata": {},
   "outputs": [
    {
     "name": "stdout",
     "output_type": "stream",
     "text": [
      "{1, 2}\n",
      "{1, 2}\n"
     ]
    }
   ],
   "source": [
    "# 差集\n",
    "print(A-B)\n",
    "print(A.difference(B))                 "
   ]
  },
  {
   "cell_type": "code",
   "execution_count": 65,
   "id": "4529e8e7",
   "metadata": {},
   "outputs": [
    {
     "name": "stdout",
     "output_type": "stream",
     "text": [
      "{1, 2, 6, 7}\n",
      "{1, 2, 6, 7}\n"
     ]
    }
   ],
   "source": [
    "# 异或集合\n",
    "print(A^B)\n",
    "print(A.symmetric_difference(B))"
   ]
  },
  {
   "cell_type": "markdown",
   "id": "237284bb",
   "metadata": {},
   "source": [
    "## Page20：字典"
   ]
  },
  {
   "cell_type": "code",
   "execution_count": 66,
   "id": "53649df3",
   "metadata": {},
   "outputs": [
    {
     "data": {
      "text/plain": [
       "{'name': '张三', 'age': 18, 'pay': 40000, 'job': 'Python工程师'}"
      ]
     },
     "execution_count": 66,
     "metadata": {},
     "output_type": "execute_result"
    }
   ],
   "source": [
    "#使用大括号来创建字典\n",
    "Dict  = {\"name\":\"张三\",\"age\":18,\"pay\":40000,\"job\":\"Python工程师\"}\n",
    "#使用关键字参数和类型构造函数来创建字典\n",
    "Dict = dict(name=\"张三\",age=18,pay=40000,job=\"Python工程师\")\n",
    "Dict"
   ]
  },
  {
   "cell_type": "code",
   "execution_count": 67,
   "id": "6a53642a",
   "metadata": {},
   "outputs": [
    {
     "data": {
      "text/plain": [
       "{'name': '张三',\n",
       " 'age': 18,\n",
       " 'pay': 40000,\n",
       " 'job': 'Python工程师',\n",
       " 'AddKey': 'AddValue'}"
      ]
     },
     "execution_count": 67,
     "metadata": {},
     "output_type": "execute_result"
    }
   ],
   "source": [
    "Dict.update({'AddKey':'AddValue'})\n",
    "Dict\n",
    "#向字典中添加键值对   'AddKey':'AddValue'"
   ]
  },
  {
   "cell_type": "code",
   "execution_count": 68,
   "id": "1719d69e",
   "metadata": {},
   "outputs": [
    {
     "data": {
      "text/plain": [
       "{'age': 18, 'pay': 40000, 'job': 'Python工程师', 'AddKey': 'AddValue'}"
      ]
     },
     "execution_count": 68,
     "metadata": {},
     "output_type": "execute_result"
    }
   ],
   "source": [
    "Dict.pop('name')\n",
    "Dict\n",
    "#删除'name'对应的键值对"
   ]
  },
  {
   "cell_type": "code",
   "execution_count": 69,
   "id": "9dbcc955",
   "metadata": {},
   "outputs": [
    {
     "data": {
      "text/plain": [
       "{'age': 18, 'pay': 10000, 'job': 'Python工程师', 'AddKey': 'AddValue'}"
      ]
     },
     "execution_count": 69,
     "metadata": {},
     "output_type": "execute_result"
    }
   ],
   "source": [
    "Dict['pay']=10000\n",
    "Dict\n",
    "#修改键'pay'的值为10000"
   ]
  },
  {
   "cell_type": "code",
   "execution_count": 126,
   "id": "b433e2eb",
   "metadata": {},
   "outputs": [
    {
     "data": {
      "text/plain": [
       "{'age': 18,\n",
       " 'pay': 10000,\n",
       " 'job': 'Python工程师',\n",
       " 'AddKey': 'AddValue',\n",
       " 'AddKey1': 'AddValue1',\n",
       " 'AddKey2': 'AddValue2',\n",
       " 'AddKey3': 'AddValue3'}"
      ]
     },
     "execution_count": 126,
     "metadata": {},
     "output_type": "execute_result"
    }
   ],
   "source": [
    "DictMerged = Dict.copy() #复制字典,避免合并结果影响原始字典\n",
    "Dict2={'AddKey1':'AddValue1','AddKey2':'AddValue2','AddKey3':'AddValue3'}# 新字典\n",
    "DictMerged.update(Dict2)#通过updata合并两个字典\n",
    "DictMerged"
   ]
  },
  {
   "cell_type": "code",
   "execution_count": 127,
   "id": "e500c299",
   "metadata": {},
   "outputs": [
    {
     "data": {
      "text/plain": [
       "True"
      ]
     },
     "execution_count": 127,
     "metadata": {},
     "output_type": "execute_result"
    }
   ],
   "source": [
    "'age' in Dict\n",
    "#判断键在不在字典中"
   ]
  },
  {
   "cell_type": "code",
   "execution_count": 72,
   "id": "0e265320",
   "metadata": {},
   "outputs": [
    {
     "data": {
      "text/plain": [
       "dict_keys(['age', 'pay', 'job', 'AddKey'])"
      ]
     },
     "execution_count": 72,
     "metadata": {},
     "output_type": "execute_result"
    }
   ],
   "source": [
    "Dict.keys()#查看所有键"
   ]
  },
  {
   "cell_type": "code",
   "execution_count": 73,
   "id": "6aa55cfc",
   "metadata": {},
   "outputs": [
    {
     "data": {
      "text/plain": [
       "dict_values([18, 10000, 'Python工程师', 'AddValue'])"
      ]
     },
     "execution_count": 73,
     "metadata": {},
     "output_type": "execute_result"
    }
   ],
   "source": [
    "Dict.values()#查看所有值"
   ]
  },
  {
   "cell_type": "code",
   "execution_count": 74,
   "id": "32bf1613",
   "metadata": {},
   "outputs": [
    {
     "data": {
      "text/plain": [
       "dict_items([('age', 18), ('pay', 10000), ('job', 'Python工程师'), ('AddKey', 'AddValue')])"
      ]
     },
     "execution_count": 74,
     "metadata": {},
     "output_type": "execute_result"
    }
   ],
   "source": [
    "Dict.items()#查看键值对"
   ]
  },
  {
   "cell_type": "markdown",
   "id": "dd31f0f3",
   "metadata": {},
   "source": [
    "## Page23：循环"
   ]
  },
  {
   "cell_type": "markdown",
   "id": "1d02939e",
   "metadata": {},
   "source": [
    "### for 循环"
   ]
  },
  {
   "cell_type": "code",
   "execution_count": 75,
   "id": "0ed88119",
   "metadata": {},
   "outputs": [
    {
     "name": "stdout",
     "output_type": "stream",
     "text": [
      "0\n",
      "1\n",
      "2\n",
      "3\n",
      "4\n"
     ]
    }
   ],
   "source": [
    "for i in range(5):\n",
    "    print(i)"
   ]
  },
  {
   "cell_type": "code",
   "execution_count": 76,
   "id": "d3973f6b",
   "metadata": {},
   "outputs": [
    {
     "name": "stdout",
     "output_type": "stream",
     "text": [
      "2\n",
      "3\n",
      "4\n",
      "5\n"
     ]
    }
   ],
   "source": [
    "for i in range(2,6):\n",
    "    print(i)"
   ]
  },
  {
   "cell_type": "code",
   "execution_count": 77,
   "id": "508dfa24",
   "metadata": {},
   "outputs": [
    {
     "name": "stdout",
     "output_type": "stream",
     "text": [
      "2\n",
      "4\n"
     ]
    }
   ],
   "source": [
    "for i in range(2,6,2):\n",
    "    print(i)"
   ]
  },
  {
   "cell_type": "code",
   "execution_count": 78,
   "id": "4f824187",
   "metadata": {},
   "outputs": [
    {
     "name": "stdout",
     "output_type": "stream",
     "text": [
      "列\n",
      "表\n",
      "内\n",
      "容\n",
      "循环结束\n"
     ]
    }
   ],
   "source": [
    "Object=list('列表内容')\n",
    "for var in Object:\n",
    "    print(var)\n",
    "else:\n",
    "    print('循环结束')"
   ]
  },
  {
   "cell_type": "markdown",
   "id": "aee282a7",
   "metadata": {},
   "source": [
    "### while循环"
   ]
  },
  {
   "cell_type": "code",
   "execution_count": 79,
   "id": "82715213",
   "metadata": {},
   "outputs": [
    {
     "name": "stdout",
     "output_type": "stream",
     "text": [
      "2\n",
      "3\n",
      "4\n",
      "循环结束\n"
     ]
    }
   ],
   "source": [
    "a=2\n",
    "while a<5:\n",
    "    print(a)\n",
    "    a+=1\n",
    "else:\n",
    "    print('循环结束')"
   ]
  },
  {
   "cell_type": "markdown",
   "id": "6f9cc6b2",
   "metadata": {},
   "source": [
    "## Page24：分支结构"
   ]
  },
  {
   "cell_type": "markdown",
   "id": "058bdb07",
   "metadata": {},
   "source": [
    "### 单分支"
   ]
  },
  {
   "cell_type": "code",
   "execution_count": 80,
   "id": "fb14c880",
   "metadata": {},
   "outputs": [
    {
     "name": "stdout",
     "output_type": "stream",
     "text": [
      "3\n"
     ]
    }
   ],
   "source": [
    "a=3\n",
    "if a<2:\n",
    "    print(a)    \n",
    "    \n",
    "if a>2:\n",
    "    print(a)"
   ]
  },
  {
   "cell_type": "markdown",
   "id": "c97f58a7",
   "metadata": {},
   "source": [
    "### 双分支"
   ]
  },
  {
   "cell_type": "code",
   "execution_count": 81,
   "id": "eba1f3b1",
   "metadata": {},
   "outputs": [
    {
     "name": "stdout",
     "output_type": "stream",
     "text": [
      "a不小于2\n"
     ]
    }
   ],
   "source": [
    "a=3\n",
    "if a<2:\n",
    "    print(a)\n",
    "else:\n",
    "    print('a不小于2')\n"
   ]
  },
  {
   "cell_type": "markdown",
   "id": "2e53533f",
   "metadata": {},
   "source": [
    "### 多分支"
   ]
  },
  {
   "cell_type": "code",
   "execution_count": 82,
   "id": "8782aadb",
   "metadata": {},
   "outputs": [
    {
     "name": "stdout",
     "output_type": "stream",
     "text": [
      "a等于2\n"
     ]
    }
   ],
   "source": [
    "a=2\n",
    "if a<2:\n",
    "    print('a小于2')\n",
    "elif a>2:\n",
    "    print('a大于2')\n",
    "else:\n",
    "    print('a等于2')"
   ]
  },
  {
   "cell_type": "markdown",
   "id": "1438bc2f",
   "metadata": {},
   "source": [
    "## Page26：列表推导式"
   ]
  },
  {
   "cell_type": "code",
   "execution_count": 83,
   "id": "23a01aa4",
   "metadata": {},
   "outputs": [
    {
     "name": "stdout",
     "output_type": "stream",
     "text": [
      "[0, -1, 0, 3, 8]\n",
      "[0, -1, 0, 3, 8]\n"
     ]
    }
   ],
   "source": [
    "data=[]\n",
    "for i in range(5):\n",
    "    data.append(i**2-i*2)\n",
    "print(data)\n",
    "\n",
    "data1=[i**2-i*2 for i in range(5)]\n",
    "print(data1)"
   ]
  },
  {
   "cell_type": "code",
   "execution_count": 84,
   "id": "9079672e",
   "metadata": {},
   "outputs": [
    {
     "name": "stdout",
     "output_type": "stream",
     "text": [
      "[0, 4, 16, 36, 64]\n",
      "[0, 4, 16, 36, 64]\n"
     ]
    }
   ],
   "source": [
    "data=[]\n",
    "for i in range(10):\n",
    "    if i%2==0:\n",
    "        data.append(i**2)\n",
    "print(data)\n",
    "\n",
    "data1=[i**2 for i in range(10) if i%2==0]\n",
    "print(data1)"
   ]
  },
  {
   "cell_type": "markdown",
   "id": "91824909",
   "metadata": {},
   "source": [
    "## Page26：pass、break和continue"
   ]
  },
  {
   "cell_type": "markdown",
   "id": "caf5ed8a",
   "metadata": {},
   "source": [
    "### pass"
   ]
  },
  {
   "cell_type": "code",
   "execution_count": 85,
   "id": "6c6b176e",
   "metadata": {},
   "outputs": [
    {
     "ename": "SyntaxError",
     "evalue": "unexpected EOF while parsing (<ipython-input-85-5d465df38da5>, line 2)",
     "output_type": "error",
     "traceback": [
      "\u001b[1;36m  File \u001b[1;32m\"<ipython-input-85-5d465df38da5>\"\u001b[1;36m, line \u001b[1;32m2\u001b[0m\n\u001b[1;33m    #没有内容,会报错\u001b[0m\n\u001b[1;37m             ^\u001b[0m\n\u001b[1;31mSyntaxError\u001b[0m\u001b[1;31m:\u001b[0m unexpected EOF while parsing\n"
     ]
    }
   ],
   "source": [
    "for i in range(3):\n",
    "    #没有内容,会报错"
   ]
  },
  {
   "cell_type": "code",
   "execution_count": 86,
   "id": "a04096b0",
   "metadata": {},
   "outputs": [],
   "source": [
    "for i in range(3):\n",
    "    pass\n",
    "    #pass占位 不报错"
   ]
  },
  {
   "cell_type": "markdown",
   "id": "490ff0f5",
   "metadata": {},
   "source": [
    "### break"
   ]
  },
  {
   "cell_type": "code",
   "execution_count": 128,
   "id": "5b5580dc",
   "metadata": {},
   "outputs": [
    {
     "name": "stdout",
     "output_type": "stream",
     "text": [
      "break前\n",
      "0\n"
     ]
    }
   ],
   "source": [
    "for i in range(3):\n",
    "    print('break前')\n",
    "    print(i)\n",
    "    break\n",
    "    print('break后')\n",
    "#break停止整个循环"
   ]
  },
  {
   "cell_type": "markdown",
   "id": "5deb9698",
   "metadata": {},
   "source": [
    "### continue"
   ]
  },
  {
   "cell_type": "code",
   "execution_count": 92,
   "id": "a5ebc0ea",
   "metadata": {},
   "outputs": [
    {
     "name": "stdout",
     "output_type": "stream",
     "text": [
      "continue前\n",
      "0\n",
      "continue前\n",
      "1\n",
      "continue前\n",
      "2\n"
     ]
    }
   ],
   "source": [
    "for i in range(3):\n",
    "    print('continue前')\n",
    "    print(i)\n",
    "    continue\n",
    "    print('continue后')\n",
    "#continue停止一次循环的后半段"
   ]
  },
  {
   "cell_type": "markdown",
   "id": "34df3a9c",
   "metadata": {},
   "source": [
    "## Page28:函数使用"
   ]
  },
  {
   "cell_type": "markdown",
   "id": "bdcea988",
   "metadata": {},
   "source": [
    "### def函数"
   ]
  },
  {
   "cell_type": "code",
   "execution_count": 93,
   "id": "ed276e2f",
   "metadata": {},
   "outputs": [
    {
     "data": {
      "text/plain": [
       "8"
      ]
     },
     "execution_count": 93,
     "metadata": {},
     "output_type": "execute_result"
    }
   ],
   "source": [
    "def fun1(x,y):\n",
    "    return x**y\n",
    "fun1(2,3)#按照顺序传入参数"
   ]
  },
  {
   "cell_type": "code",
   "execution_count": 94,
   "id": "6f534ba3",
   "metadata": {},
   "outputs": [
    {
     "data": {
      "text/plain": [
       "9"
      ]
     },
     "execution_count": 94,
     "metadata": {},
     "output_type": "execute_result"
    }
   ],
   "source": [
    "def fun1(x,y):\n",
    "    return x**y\n",
    "fun1(y=2,x=3)#通过名称传入参数,可以忽略位置顺序"
   ]
  },
  {
   "cell_type": "code",
   "execution_count": 95,
   "id": "540c0d16",
   "metadata": {},
   "outputs": [
    {
     "data": {
      "text/plain": [
       "27"
      ]
     },
     "execution_count": 95,
     "metadata": {},
     "output_type": "execute_result"
    }
   ],
   "source": [
    "def fun1(x,y=3):\n",
    "    return x**y\n",
    "fun1(x=3) #设置默认值,没有传入相应参数时会首先应用默认参数"
   ]
  },
  {
   "cell_type": "markdown",
   "id": "c87c7eac",
   "metadata": {},
   "source": [
    "### lambda函数"
   ]
  },
  {
   "cell_type": "code",
   "execution_count": 96,
   "id": "2a345d1e",
   "metadata": {},
   "outputs": [
    {
     "data": {
      "text/plain": [
       "8"
      ]
     },
     "execution_count": 96,
     "metadata": {},
     "output_type": "execute_result"
    }
   ],
   "source": [
    "f=lambda x,y: x**y\n",
    "f(2,3)"
   ]
  },
  {
   "cell_type": "markdown",
   "id": "a958d935",
   "metadata": {},
   "source": [
    "## Page29:类"
   ]
  },
  {
   "cell_type": "code",
   "execution_count": 97,
   "id": "5d3948c8",
   "metadata": {},
   "outputs": [
    {
     "name": "stdout",
     "output_type": "stream",
     "text": [
      "查看属性值 2\n",
      "输出f1:  5\n",
      "输出f2:  (27, 27)\n"
     ]
    }
   ],
   "source": [
    "class test:\n",
    "    def __init__(self,s1,s2):\n",
    "        self.s1 = s1\n",
    "        self.s2 = s2\n",
    "\n",
    "    def f1(self):\n",
    "        return self.s1 + self.s2\n",
    "\n",
    "    def f2(self, x):\n",
    "        return (x**self.s2, x**self.s2)\n",
    "aa=test(s1=2,s2=3)\n",
    "print('查看属性值',aa.s1)\n",
    "print(\"输出f1: \", aa.f1())\n",
    "print(\"输出f2: \", aa.f2(3))"
   ]
  },
  {
   "cell_type": "markdown",
   "id": "a8d2ceb4",
   "metadata": {},
   "source": [
    "## Page32:读写文件"
   ]
  },
  {
   "cell_type": "markdown",
   "id": "d67ef8ab",
   "metadata": {},
   "source": [
    "### 写文件"
   ]
  },
  {
   "cell_type": "code",
   "execution_count": 98,
   "id": "cdc85e39",
   "metadata": {},
   "outputs": [],
   "source": [
    "with open('test.txt','w') as f:\n",
    "    f.write('Hello, world!\\n')\n",
    "    f.write('Goodbye, world!')"
   ]
  },
  {
   "cell_type": "code",
   "execution_count": 99,
   "id": "da4192a7",
   "metadata": {},
   "outputs": [],
   "source": [
    "f=open('test1.txt','w')\n",
    "f.write('Hello, text!\\n')\n",
    "f.write('Goodbye, text!')\n",
    "f.close()"
   ]
  },
  {
   "cell_type": "markdown",
   "id": "a2f90c99",
   "metadata": {},
   "source": [
    "### 读文件"
   ]
  },
  {
   "cell_type": "code",
   "execution_count": 100,
   "id": "a4e232eb",
   "metadata": {},
   "outputs": [
    {
     "name": "stdout",
     "output_type": "stream",
     "text": [
      "Hello, text!\n",
      "\n",
      "Goodbye, text!\n",
      "H\n",
      "e\n",
      "l\n",
      "l\n",
      "o\n",
      ",\n",
      " \n",
      "t\n",
      "e\n",
      "x\n",
      "t\n",
      "!\n",
      "\n",
      "\n",
      "G\n",
      "o\n",
      "o\n",
      "d\n",
      "b\n",
      "y\n",
      "e\n",
      ",\n",
      " \n",
      "t\n",
      "e\n",
      "x\n",
      "t\n",
      "!\n"
     ]
    }
   ],
   "source": [
    "with open('test1.txt','r') as f:\n",
    "    context=f.readlines()\n",
    "    for i in context:\n",
    "        print(i)\n",
    "        \n",
    "with open('test1.txt','r') as f:\n",
    "    context=f.read()\n",
    "    for i in context:\n",
    "        print(i)"
   ]
  },
  {
   "cell_type": "code",
   "execution_count": 101,
   "id": "d13e29e8",
   "metadata": {},
   "outputs": [
    {
     "name": "stdout",
     "output_type": "stream",
     "text": [
      "Hello, text!\n",
      "\n",
      "Goodbye, text!\n"
     ]
    }
   ],
   "source": [
    "file=open('test1.txt','r')\n",
    "context=file.readlines()\n",
    "for i in context:\n",
    "    print(i)\n",
    "file.close()"
   ]
  }
 ],
 "metadata": {
  "kernelspec": {
   "display_name": "Python 3 (ipykernel)",
   "language": "python",
   "name": "python3"
  },
  "language_info": {
   "codemirror_mode": {
    "name": "ipython",
    "version": 3
   },
   "file_extension": ".py",
   "mimetype": "text/x-python",
   "name": "python",
   "nbconvert_exporter": "python",
   "pygments_lexer": "ipython3",
   "version": "3.10.9"
  },
  "toc": {
   "base_numbering": 1,
   "nav_menu": {},
   "number_sections": true,
   "sideBar": true,
   "skip_h1_title": false,
   "title_cell": "Table of Contents",
   "title_sidebar": "Contents",
   "toc_cell": false,
   "toc_position": {},
   "toc_section_display": true,
   "toc_window_display": true
  }
 },
 "nbformat": 4,
 "nbformat_minor": 5
}
