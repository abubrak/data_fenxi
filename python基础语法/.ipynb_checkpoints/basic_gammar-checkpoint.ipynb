{
 "cells": [
  {
   "cell_type": "code",
   "execution_count": 1,
   "id": "0e459c96-a3f8-4de1-aa00-a9e2ebdea46c",
   "metadata": {
    "scrolled": true
   },
   "outputs": [
    {
     "data": {
      "text/plain": [
       "2"
      ]
     },
     "execution_count": 1,
     "metadata": {},
     "output_type": "execute_result"
    }
   ],
   "source": [
    "1+1"
   ]
  },
  {
   "cell_type": "markdown",
   "id": "551f8d86-9b22-4298-8e48-60cf303c2dfe",
   "metadata": {},
   "source": [
    "# bu"
   ]
  },
  {
   "cell_type": "markdown",
   "id": "2c57261e-fc83-407d-bcd1-fc597acba55a",
   "metadata": {},
   "source": [
    "# jupyter使用"
   ]
  },
  {
   "cell_type": "markdown",
   "id": "0e38b078-db21-4a2f-90a0-fec706426ec6",
   "metadata": {},
   "source": [
    " # jupyter"
   ]
  },
  {
   "cell_type": "markdown",
   "id": "6e73bb47-4c30-4d65-b61c-f21a3332dd8b",
   "metadata": {},
   "source": [
    "### nihao"
   ]
  },
  {
   "cell_type": "code",
   "execution_count": 6,
   "id": "b243784a-26a0-4cf3-a226-05bf7800e77f",
   "metadata": {},
   "outputs": [
    {
     "data": {
      "text/plain": [
       "3.0"
      ]
     },
     "execution_count": 6,
     "metadata": {},
     "output_type": "execute_result"
    }
   ],
   "source": [
    "6/2"
   ]
  },
  {
   "cell_type": "markdown",
   "id": "9e527bbc-37b7-4e3a-bd0f-69385aca88d9",
   "metadata": {},
   "source": [
    "## nihao,world"
   ]
  },
  {
   "cell_type": "markdown",
   "id": "9fe3d19b-e8a8-45d6-8e83-dfe54c18c599",
   "metadata": {},
   "source": [
    "### nihao"
   ]
  },
  {
   "cell_type": "code",
   "execution_count": 15,
   "id": "163b585b-b0b8-427a-a91c-b14eece4969d",
   "metadata": {},
   "outputs": [],
   "source": [
    "x=3"
   ]
  },
  {
   "cell_type": "code",
   "execution_count": 13,
   "id": "2468d4bf-547e-4ebd-a4ef-850693102023",
   "metadata": {},
   "outputs": [],
   "source": [
    "x=x+1"
   ]
  },
  {
   "cell_type": "code",
   "execution_count": 16,
   "id": "43b7b7b9-bb7e-4493-a6b5-01afdfe0b85e",
   "metadata": {},
   "outputs": [
    {
     "data": {
      "text/plain": [
       "3"
      ]
     },
     "execution_count": 16,
     "metadata": {},
     "output_type": "execute_result"
    }
   ],
   "source": [
    "x"
   ]
  },
  {
   "cell_type": "code",
   "execution_count": 4,
   "id": "185a2b4e-4d4d-4aff-a98a-dbc4ec15c146",
   "metadata": {
    "scrolled": true
   },
   "outputs": [
    {
     "name": "stdout",
     "output_type": "stream",
     "text": [
      "Looking in indexes: https://mirrors.aliyun.com/pypi/simple/\n",
      "Collecting pandas\n",
      "  Using cached https://mirrors.aliyun.com/pypi/packages/ed/8c/87ddf1fcb55d11f9f847e3c69bb1c6f8e46e2f40ab1a2d2abadb2401b007/pandas-2.2.3-cp311-cp311-win_amd64.whl (11.6 MB)\n",
      "Requirement already satisfied: numpy>=1.23.2 in f:\\programs\\python\\python311\\lib\\site-packages (from pandas) (2.2.5)\n",
      "Requirement already satisfied: python-dateutil>=2.8.2 in f:\\programs\\python\\python311\\lib\\site-packages (from pandas) (2.9.0.post0)\n",
      "Requirement already satisfied: pytz>=2020.1 in f:\\programs\\python\\python311\\lib\\site-packages (from pandas) (2025.2)\n",
      "Requirement already satisfied: tzdata>=2022.7 in f:\\programs\\python\\python311\\lib\\site-packages (from pandas) (2025.2)\n",
      "Requirement already satisfied: six>=1.5 in f:\\programs\\python\\python311\\lib\\site-packages (from python-dateutil>=2.8.2->pandas) (1.17.0)\n",
      "Installing collected packages: pandas\n",
      "Successfully installed pandas-2.2.3\n",
      "Note: you may need to restart the kernel to use updated packages.\n"
     ]
    },
    {
     "name": "stderr",
     "output_type": "stream",
     "text": [
      "\n",
      "[notice] A new release of pip available: 22.3 -> 25.1.1\n",
      "[notice] To update, run: python.exe -m pip install --upgrade pip\n"
     ]
    }
   ],
   "source": [
    "pip install pandas"
   ]
  },
  {
   "cell_type": "code",
   "execution_count": 5,
   "id": "620f5998-a08a-4e5a-9f9b-1228713f3fd7",
   "metadata": {},
   "outputs": [
    {
     "name": "stdout",
     "output_type": "stream",
     "text": [
      "Looking in indexes: https://mirrors.aliyun.com/pypi/simple/\n",
      "Collecting matplotlib\n",
      "  Downloading https://mirrors.aliyun.com/pypi/packages/d7/68/0d03098b3feb786cbd494df0aac15b571effda7f7cbdec267e8a8d398c16/matplotlib-3.10.1-cp311-cp311-win_amd64.whl (8.1 MB)\n",
      "     ---------------------------------------- 8.1/8.1 MB 597.1 kB/s eta 0:00:00\n",
      "Collecting contourpy>=1.0.1\n",
      "  Downloading https://mirrors.aliyun.com/pypi/packages/5e/fe/4029038b4e1c4485cef18e480b0e2cd2d755448bb071eb9977caac80b77b/contourpy-1.3.2-cp311-cp311-win_amd64.whl (222 kB)\n",
      "     -------------------------------------- 222.0/222.0 kB 2.3 MB/s eta 0:00:00\n",
      "Collecting cycler>=0.10\n",
      "  Downloading https://mirrors.aliyun.com/pypi/packages/e7/05/c19819d5e3d95294a6f5947fb9b9629efb316b96de511b418c53d245aae6/cycler-0.12.1-py3-none-any.whl (8.3 kB)\n",
      "Collecting fonttools>=4.22.0\n",
      "  Downloading https://mirrors.aliyun.com/pypi/packages/13/4c/de2612ea2216eb45cfc8eb91a8501615dd87716feaf5f8fb65cbca576289/fonttools-4.57.0-cp311-cp311-win_amd64.whl (2.2 MB)\n",
      "     ---------------------------------------- 2.2/2.2 MB 709.3 kB/s eta 0:00:00\n",
      "Collecting kiwisolver>=1.3.1\n",
      "  Downloading https://mirrors.aliyun.com/pypi/packages/2d/27/bdf1c769c83f74d98cbc34483a972f221440703054894a37d174fba8aa68/kiwisolver-1.4.8-cp311-cp311-win_amd64.whl (71 kB)\n",
      "     -------------------------------------- 72.0/72.0 kB 302.6 kB/s eta 0:00:00\n",
      "Requirement already satisfied: numpy>=1.23 in f:\\programs\\python\\python311\\lib\\site-packages (from matplotlib) (2.2.5)\n",
      "Requirement already satisfied: packaging>=20.0 in f:\\programs\\python\\python311\\lib\\site-packages (from matplotlib) (25.0)\n",
      "Requirement already satisfied: pillow>=8 in f:\\programs\\python\\python311\\lib\\site-packages (from matplotlib) (11.2.1)\n",
      "Requirement already satisfied: pyparsing>=2.3.1 in f:\\programs\\python\\python311\\lib\\site-packages (from matplotlib) (3.2.3)\n",
      "Requirement already satisfied: python-dateutil>=2.7 in f:\\programs\\python\\python311\\lib\\site-packages (from matplotlib) (2.9.0.post0)\n",
      "Requirement already satisfied: six>=1.5 in f:\\programs\\python\\python311\\lib\\site-packages (from python-dateutil>=2.7->matplotlib) (1.17.0)\n",
      "Installing collected packages: kiwisolver, fonttools, cycler, contourpy, matplotlib\n",
      "Successfully installed contourpy-1.3.2 cycler-0.12.1 fonttools-4.57.0 kiwisolver-1.4.8 matplotlib-3.10.1\n",
      "Note: you may need to restart the kernel to use updated packages.\n"
     ]
    },
    {
     "name": "stderr",
     "output_type": "stream",
     "text": [
      "\n",
      "[notice] A new release of pip available: 22.3 -> 25.1.1\n",
      "[notice] To update, run: python.exe -m pip install --upgrade pip\n"
     ]
    }
   ],
   "source": [
    "pip install matplotlib"
   ]
  },
  {
   "cell_type": "code",
   "execution_count": 6,
   "id": "34d9fcb5-55c1-48fa-9378-c76e1540ab28",
   "metadata": {},
   "outputs": [],
   "source": [
    "import numpy as np\n",
    "import pandas as pd\n",
    "import matplotlib.pyplot as plt"
   ]
  },
  {
   "cell_type": "code",
   "execution_count": 7,
   "id": "cf257f41-9529-4697-a866-d525301c686a",
   "metadata": {},
   "outputs": [
    {
     "data": {
      "text/plain": [
       "True"
      ]
     },
     "execution_count": 7,
     "metadata": {},
     "output_type": "execute_result"
    }
   ],
   "source": [
    "bool(1)"
   ]
  },
  {
   "cell_type": "code",
   "execution_count": 8,
   "id": "ad2f7e1d-6997-444d-9dbb-e25c88d1f934",
   "metadata": {},
   "outputs": [
    {
     "data": {
      "text/plain": [
       "False"
      ]
     },
     "execution_count": 8,
     "metadata": {},
     "output_type": "execute_result"
    }
   ],
   "source": [
    "bool(0)"
   ]
  },
  {
   "cell_type": "code",
   "execution_count": 9,
   "id": "816b1c4a-d46c-4790-b72a-6fbbd5be41ca",
   "metadata": {},
   "outputs": [
    {
     "data": {
      "text/plain": [
       "True"
      ]
     },
     "execution_count": 9,
     "metadata": {},
     "output_type": "execute_result"
    }
   ],
   "source": [
    "bool(2)"
   ]
  },
  {
   "cell_type": "code",
   "execution_count": 10,
   "id": "91a1a797-d810-449a-8239-b8fbb4d29806",
   "metadata": {},
   "outputs": [
    {
     "data": {
      "text/plain": [
       "int"
      ]
     },
     "execution_count": 10,
     "metadata": {},
     "output_type": "execute_result"
    }
   ],
   "source": [
    "x=5\n",
    "type(x)"
   ]
  },
  {
   "cell_type": "code",
   "execution_count": 11,
   "id": "8decf803-6bd3-4c28-837a-c5334f841793",
   "metadata": {},
   "outputs": [
    {
     "data": {
      "text/plain": [
       "int"
      ]
     },
     "execution_count": 11,
     "metadata": {},
     "output_type": "execute_result"
    }
   ],
   "source": [
    "str(x)\n",
    "type(x)"
   ]
  },
  {
   "cell_type": "code",
   "execution_count": 13,
   "id": "6e33cfd9-f1f5-4393-aec5-c91a0cde5c6c",
   "metadata": {
    "scrolled": true
   },
   "outputs": [
    {
     "data": {
      "text/plain": [
       "'布占炎hhh'"
      ]
     },
     "execution_count": 13,
     "metadata": {},
     "output_type": "execute_result"
    }
   ],
   "source": [
    "str=\"布占炎\"\n",
    "str1=\"hhh\"\n",
    "str2=str+str1\n",
    "str2"
   ]
  },
  {
   "cell_type": "code",
   "execution_count": 16,
   "id": "f74728e8-d903-4c03-8bf9-0d3bcd6c6405",
   "metadata": {},
   "outputs": [
    {
     "data": {
      "text/plain": [
       "'bu占炎'"
      ]
     },
     "execution_count": 16,
     "metadata": {},
     "output_type": "execute_result"
    }
   ],
   "source": [
    "str3=str.replace(\"布\",\"bu\")\n",
    "str3"
   ]
  },
  {
   "cell_type": "code",
   "execution_count": 19,
   "id": "623ceec6-b386-4215-9b20-162313a3324a",
   "metadata": {},
   "outputs": [
    {
     "data": {
      "text/plain": [
       "'两个黄鹂'"
      ]
     },
     "execution_count": 19,
     "metadata": {},
     "output_type": "execute_result"
    }
   ],
   "source": [
    "str4=\"两个黄鹂鸣翠柳，一行白鹭上青天\"\n",
    "str4[0:4]"
   ]
  },
  {
   "cell_type": "code",
   "execution_count": 20,
   "id": "67f1adfa-1f46-43c4-960d-e9088317a53f",
   "metadata": {},
   "outputs": [
    {
     "data": {
      "text/plain": [
       "'两黄鸣柳一'"
      ]
     },
     "execution_count": 20,
     "metadata": {},
     "output_type": "execute_result"
    }
   ],
   "source": [
    "str4[0:10:2]"
   ]
  },
  {
   "cell_type": "code",
   "execution_count": 21,
   "id": "23953386-a9c6-4e55-9d2d-64d0ccd8448c",
   "metadata": {},
   "outputs": [
    {
     "data": {
      "text/plain": [
       "'两个黄鹂'"
      ]
     },
     "execution_count": 21,
     "metadata": {},
     "output_type": "execute_result"
    }
   ],
   "source": [
    "str4[-15:-11]"
   ]
  },
  {
   "cell_type": "code",
   "execution_count": 22,
   "id": "18c42b03-99fd-45b8-9016-4b6895c3f139",
   "metadata": {
    "scrolled": true
   },
   "outputs": [
    {
     "data": {
      "text/plain": [
       "'个鸣，'"
      ]
     },
     "execution_count": 22,
     "metadata": {},
     "output_type": "execute_result"
    }
   ],
   "source": [
    "str4[1:10:3]"
   ]
  },
  {
   "cell_type": "markdown",
   "id": "c7986590-2e76-4d1d-9e45-3dceda9572b1",
   "metadata": {},
   "source": [
    "# 列表"
   ]
  },
  {
   "cell_type": "code",
   "execution_count": 1,
   "id": "51b50ba4-de7c-43fa-bf11-bdbddbaeb336",
   "metadata": {},
   "outputs": [
    {
     "data": {
      "text/plain": [
       "['两', '个', '黄', '鹂', '鸣', '翠', '柳']"
      ]
     },
     "execution_count": 1,
     "metadata": {},
     "output_type": "execute_result"
    }
   ],
   "source": [
    "list1=list('两个黄鹂鸣翠柳')\n",
    "list1"
   ]
  },
  {
   "cell_type": "code",
   "execution_count": 6,
   "id": "9fc3cfbb-74c6-4f75-8e49-c888afa9b1dc",
   "metadata": {},
   "outputs": [
    {
     "data": {
      "text/plain": [
       "['两', '个', '黄', '鹂', '鸣', 'c', 'u', 'i', 'l', 'i', 'u']"
      ]
     },
     "execution_count": 6,
     "metadata": {},
     "output_type": "execute_result"
    }
   ],
   "source": [
    "list2=list('两个黄鹂鸣cuiliu')\n",
    "list2"
   ]
  },
  {
   "cell_type": "code",
   "execution_count": 3,
   "id": "645228ed-884d-4d25-8f0d-ebdf5e805a3a",
   "metadata": {},
   "outputs": [
    {
     "data": {
      "text/plain": [
       "['两', '个', '黄', '鹂', '鸣', 'c', 'u', 'i', 'l', 'i', 'u']"
      ]
     },
     "execution_count": 3,
     "metadata": {},
     "output_type": "execute_result"
    }
   ],
   "source": [
    "list2[:]"
   ]
  },
  {
   "cell_type": "code",
   "execution_count": 7,
   "id": "7651c5bd-6193-404c-9da7-ff2b441fdf4e",
   "metadata": {},
   "outputs": [
    {
     "data": {
      "text/plain": [
       "['两', '个', '黄', 'u', '鹂', '鸣', 'c', 'u', 'i', 'l', 'i', 'u']"
      ]
     },
     "execution_count": 7,
     "metadata": {},
     "output_type": "execute_result"
    }
   ],
   "source": [
    "list2.insert(3,'u')\n",
    "list2"
   ]
  },
  {
   "cell_type": "code",
   "execution_count": 8,
   "id": "baf9d2a5-57de-4b1a-95d6-6d84e301dfa3",
   "metadata": {},
   "outputs": [
    {
     "data": {
      "text/plain": [
       "['两', '个', '黄', 'u', '鹂', '鸣', 'c', 'u', 'i', 'l', 'i', 'u', 'hhhhha']"
      ]
     },
     "execution_count": 8,
     "metadata": {},
     "output_type": "execute_result"
    }
   ],
   "source": [
    "list2.append('hhhhha')\n",
    "list2"
   ]
  },
  {
   "cell_type": "code",
   "execution_count": 9,
   "id": "af9a4ad8-5bda-4462-8e64-c6e4f6f4bdd5",
   "metadata": {},
   "outputs": [
    {
     "data": {
      "text/plain": [
       "'hhhhha'"
      ]
     },
     "execution_count": 9,
     "metadata": {},
     "output_type": "execute_result"
    }
   ],
   "source": [
    "list2.pop()"
   ]
  },
  {
   "cell_type": "code",
   "execution_count": 11,
   "id": "459e9823-a9c6-46a8-920d-f66b1faba3c6",
   "metadata": {},
   "outputs": [
    {
     "data": {
      "text/plain": [
       "['两', '个', '黄', 'u', '鹂', '鸣', 'c', 'u', 'i', 'l', 'i', 'u']"
      ]
     },
     "execution_count": 11,
     "metadata": {},
     "output_type": "execute_result"
    }
   ],
   "source": [
    "list2"
   ]
  },
  {
   "cell_type": "code",
   "execution_count": 12,
   "id": "d1f141ad-ea0a-4298-bef3-98f182fd2542",
   "metadata": {},
   "outputs": [
    {
     "data": {
      "text/plain": [
       "True"
      ]
     },
     "execution_count": 12,
     "metadata": {},
     "output_type": "execute_result"
    }
   ],
   "source": [
    "'两' in list2"
   ]
  },
  {
   "cell_type": "code",
   "execution_count": 13,
   "id": "8219a8ba-9991-4ac8-8a17-5b040728fb7a",
   "metadata": {},
   "outputs": [],
   "source": [
    "list2[0]=\"三\""
   ]
  },
  {
   "cell_type": "code",
   "execution_count": 14,
   "id": "b762a524-35c8-45b8-a943-313f33e1a37b",
   "metadata": {},
   "outputs": [
    {
     "data": {
      "text/plain": [
       "False"
      ]
     },
     "execution_count": 14,
     "metadata": {},
     "output_type": "execute_result"
    }
   ],
   "source": [
    "'两' in list2"
   ]
  },
  {
   "cell_type": "code",
   "execution_count": 15,
   "id": "f7a2e182-a04d-4f39-bcdb-12c4a265ad37",
   "metadata": {},
   "outputs": [
    {
     "data": {
      "text/plain": [
       "3"
      ]
     },
     "execution_count": 15,
     "metadata": {},
     "output_type": "execute_result"
    }
   ],
   "source": [
    "list2.index('u')#查找元素序列"
   ]
  },
  {
   "cell_type": "code",
   "execution_count": 16,
   "id": "1e77f0fb-443a-48ab-a776-46046e0bbbbd",
   "metadata": {},
   "outputs": [
    {
     "data": {
      "text/plain": [
       "3"
      ]
     },
     "execution_count": 16,
     "metadata": {},
     "output_type": "execute_result"
    }
   ],
   "source": [
    "list2.count('u')"
   ]
  },
  {
   "cell_type": "markdown",
   "id": "ec7afa5d-bed9-4bb3-a5b8-cc3b90a88319",
   "metadata": {},
   "source": [
    "# 元组"
   ]
  },
  {
   "cell_type": "code",
   "execution_count": 17,
   "id": "44f47f2f-2a4f-430d-9601-cc0ba0d36e6b",
   "metadata": {},
   "outputs": [
    {
     "data": {
      "text/plain": [
       "tuple"
      ]
     },
     "execution_count": 17,
     "metadata": {},
     "output_type": "execute_result"
    }
   ],
   "source": [
    "type((1,2,3))"
   ]
  },
  {
   "cell_type": "code",
   "execution_count": 18,
   "id": "f2593c06-35e8-476b-bc9d-c3d0c5825edd",
   "metadata": {},
   "outputs": [
    {
     "data": {
      "text/plain": [
       "('1', 4, ['三', '个', '黄', 'u', '鹂', '鸣', 'c', 'u', 'i', 'l', 'i', 'u'])"
      ]
     },
     "execution_count": 18,
     "metadata": {},
     "output_type": "execute_result"
    }
   ],
   "source": [
    "tup1=('1',4,list2)\n",
    "tup1"
   ]
  },
  {
   "cell_type": "markdown",
   "id": "82c55425-4a59-4a85-bbce-351b9aae2d49",
   "metadata": {},
   "source": [
    "# 集合"
   ]
  },
  {
   "cell_type": "code",
   "execution_count": 20,
   "id": "9e05f7a5-c592-47f4-9ff4-a7c0fc6b26f7",
   "metadata": {},
   "outputs": [
    {
     "data": {
      "text/plain": [
       "{1, 2, 3, 4, 22}"
      ]
     },
     "execution_count": 20,
     "metadata": {},
     "output_type": "execute_result"
    }
   ],
   "source": [
    "set1={1,2,3,4,2,2,22,4}\n",
    "set1"
   ]
  },
  {
   "cell_type": "code",
   "execution_count": 23,
   "id": "1e4da705-92a1-4777-9517-55a71e8ef56c",
   "metadata": {},
   "outputs": [
    {
     "data": {
      "text/plain": [
       "{'c', 'i', 'l', 'u', '三', '个', '鸣', '鹂', '黄'}"
      ]
     },
     "execution_count": 23,
     "metadata": {},
     "output_type": "execute_result"
    }
   ],
   "source": [
    "set2=set(list2)\n",
    "set2"
   ]
  },
  {
   "cell_type": "code",
   "execution_count": 25,
   "id": "cef6ea7c-0c26-4ba4-9a60-7ea18e34a979",
   "metadata": {},
   "outputs": [
    {
     "data": {
      "text/plain": [
       "{'S', 'c', 'i', 'l', 'u', '三', '个', '鸣', '鹂', '黄'}"
      ]
     },
     "execution_count": 25,
     "metadata": {},
     "output_type": "execute_result"
    }
   ],
   "source": [
    "set2.add('S')\n",
    "set2"
   ]
  },
  {
   "cell_type": "code",
   "execution_count": 26,
   "id": "62316297-b757-4ae7-8378-d0de0a096980",
   "metadata": {},
   "outputs": [
    {
     "data": {
      "text/plain": [
       "{'S', 'c', 'i', 'l', 'u', '三', '个', '鸣', '鹂', '黄'}"
      ]
     },
     "execution_count": 26,
     "metadata": {},
     "output_type": "execute_result"
    }
   ],
   "source": [
    "set2.discard('流')\n",
    "set2"
   ]
  },
  {
   "cell_type": "code",
   "execution_count": 27,
   "id": "1dcf8d58-ac32-4430-a8e6-cc1ba4e467a2",
   "metadata": {
    "scrolled": true
   },
   "outputs": [
    {
     "data": {
      "text/plain": [
       "{'S', 'c', 'i', 'l', 'u', '个', '鸣', '鹂', '黄'}"
      ]
     },
     "execution_count": 27,
     "metadata": {},
     "output_type": "execute_result"
    }
   ],
   "source": [
    "set2.discard('三')\n",
    "set2"
   ]
  },
  {
   "cell_type": "code",
   "execution_count": 36,
   "id": "01e7c8a7-3196-4006-b08d-242a9f9fe683",
   "metadata": {},
   "outputs": [
    {
     "data": {
      "text/plain": [
       "{'S', 'i', 'l', 'u', '鸣', '鹂', '黄'}"
      ]
     },
     "execution_count": 36,
     "metadata": {},
     "output_type": "execute_result"
    }
   ],
   "source": [
    "set2.remove('c')\n",
    "set2"
   ]
  },
  {
   "cell_type": "markdown",
   "id": "5a79f5d4-44e0-40d3-a65f-acc67eda2357",
   "metadata": {},
   "source": [
    "# 字典"
   ]
  },
  {
   "cell_type": "code",
   "execution_count": 41,
   "id": "46320895-cb48-4035-be1d-1b5a5278cd3d",
   "metadata": {},
   "outputs": [
    {
     "data": {
      "text/plain": [
       "{2: 4, 'name': 'bu', '工作': {1, 2, 3, 4}}"
      ]
     },
     "execution_count": 41,
     "metadata": {},
     "output_type": "execute_result"
    }
   ],
   "source": [
    "dict1={2:4,'name':'bu',('工作'):{1,2,3,4}}\n",
    "dict1"
   ]
  },
  {
   "cell_type": "code",
   "execution_count": 43,
   "id": "1071acbd-d3ef-4591-ab46-b60031f1b52f",
   "metadata": {},
   "outputs": [
    {
     "data": {
      "text/plain": [
       "{'姓名': 'bu', '工作': 'students'}"
      ]
     },
     "execution_count": 43,
     "metadata": {},
     "output_type": "execute_result"
    }
   ],
   "source": [
    "dict2=dict([('姓名','bu'),('工作','students')])\n",
    "dict2"
   ]
  },
  {
   "cell_type": "code",
   "execution_count": 44,
   "id": "2e011616-e2b5-4b2b-a62d-ee1e99d66f74",
   "metadata": {},
   "outputs": [
    {
     "data": {
      "text/plain": [
       "dict_keys(['姓名', '工作'])"
      ]
     },
     "execution_count": 44,
     "metadata": {},
     "output_type": "execute_result"
    }
   ],
   "source": [
    "dict2.keys()"
   ]
  },
  {
   "cell_type": "code",
   "execution_count": 45,
   "id": "4d528c39-ec47-4cf4-94b1-29e07ee73715",
   "metadata": {},
   "outputs": [
    {
     "data": {
      "text/plain": [
       "dict_values(['bu', 'students'])"
      ]
     },
     "execution_count": 45,
     "metadata": {},
     "output_type": "execute_result"
    }
   ],
   "source": [
    "dict2.values()"
   ]
  },
  {
   "cell_type": "code",
   "execution_count": 46,
   "id": "b5234724-4117-481a-bae6-ee289f7534f3",
   "metadata": {},
   "outputs": [
    {
     "data": {
      "text/plain": [
       "dict_items([('姓名', 'bu'), ('工作', 'students')])"
      ]
     },
     "execution_count": 46,
     "metadata": {},
     "output_type": "execute_result"
    }
   ],
   "source": [
    "dict2.items()"
   ]
  },
  {
   "cell_type": "code",
   "execution_count": 47,
   "id": "fca251f8-0cee-4ca0-a433-779582ca77e4",
   "metadata": {},
   "outputs": [
    {
     "data": {
      "text/plain": [
       "{'姓名': 'abu', '工作': 'students'}"
      ]
     },
     "execution_count": 47,
     "metadata": {},
     "output_type": "execute_result"
    }
   ],
   "source": [
    "dict2['姓名']='abu'\n",
    "dict2"
   ]
  },
  {
   "cell_type": "code",
   "execution_count": 48,
   "id": "17b293e7-619e-4886-b402-b8d185e54778",
   "metadata": {},
   "outputs": [
    {
     "name": "stdout",
     "output_type": "stream",
     "text": [
      "1\n",
      "3\n",
      "5\n",
      "7\n",
      "9\n"
     ]
    }
   ],
   "source": [
    "for i in range(1,10,2):\n",
    "    print(i)"
   ]
  },
  {
   "cell_type": "code",
   "execution_count": 49,
   "id": "edea71ed-08f0-4969-992a-f1c0f80af5c2",
   "metadata": {
    "scrolled": true
   },
   "outputs": [
    {
     "name": "stdout",
     "output_type": "stream",
     "text": [
      "0\n",
      "2\n",
      "4\n",
      "6\n",
      "8\n",
      "10\n"
     ]
    }
   ],
   "source": [
    "for i in range(0,11,2):\n",
    "    print(i)"
   ]
  },
  {
   "cell_type": "markdown",
   "id": "2b563cad-1588-4d91-8e33-61e0e8a24d6e",
   "metadata": {},
   "source": [
    "# 控制流程"
   ]
  },
  {
   "cell_type": "code",
   "execution_count": 54,
   "id": "43479c12-ece3-45c1-8017-48daa10df21f",
   "metadata": {},
   "outputs": [
    {
     "name": "stdin",
     "output_type": "stream",
     "text": [
      "输入分数 66\n"
     ]
    },
    {
     "name": "stdout",
     "output_type": "stream",
     "text": [
      "合格\n"
     ]
    }
   ],
   "source": [
    "x=int(input(\"输入分数\"))\n",
    "if x<60:\n",
    "    print(\"不及格\")\n",
    "elif x>=60 and x<80:\n",
    "    print(\"合格\")\n",
    "elif x>=80 and x<90:\n",
    "    print(\"良\")\n",
    "else:\n",
    "    print(\"优秀\")"
   ]
  },
  {
   "cell_type": "code",
   "execution_count": 55,
   "id": "e2364bf6-02c4-458f-9ad4-6b1c127afd1a",
   "metadata": {},
   "outputs": [
    {
     "data": {
      "text/plain": [
       "[7, 14, 21, 28, 35, 42, 49, 56, 63, 70, 77, 84, 91, 98]"
      ]
     },
     "execution_count": 55,
     "metadata": {},
     "output_type": "execute_result"
    }
   ],
   "source": [
    "list1=[]\n",
    "for i in range(1,101):\n",
    "    if i%7==0:\n",
    "        list1.append(i)\n",
    "list1"
   ]
  },
  {
   "cell_type": "code",
   "execution_count": null,
   "id": "a30a0261-cc3c-483a-9048-cdfc398dd396",
   "metadata": {},
   "outputs": [],
   "source": []
  },
  {
   "cell_type": "code",
   "execution_count": 56,
   "id": "4a20f98f-0c3c-4cd0-90b1-c1d3ff8da6e2",
   "metadata": {
    "scrolled": true
   },
   "outputs": [
    {
     "data": {
      "text/plain": [
       "['olivia',\n",
       " 'liam',\n",
       " 'emma',\n",
       " 'noah',\n",
       " 'ava',\n",
       " 'oliver',\n",
       " 'charlotte',\n",
       " 'elijah',\n",
       " 'sophia',\n",
       " 'william']"
      ]
     },
     "execution_count": 56,
     "metadata": {},
     "output_type": "execute_result"
    }
   ],
   "source": [
    "list1=['Olivia','Liam',\n",
    "'Emma','Noah','Ava','Oliver','Charlotte','Elijah',\n",
    "'Sophia','wilLiam']\n",
    "list2=[]\n",
    "for i in list1:\n",
    "    list2.append(i.lower())\n",
    "\n",
    "list2"
   ]
  },
  {
   "cell_type": "code",
   "execution_count": 57,
   "id": "d042e331-a910-4500-b44f-97f2a8e4ae40",
   "metadata": {
    "scrolled": true
   },
   "outputs": [
    {
     "data": {
      "text/plain": [
       "['OLIVIA',\n",
       " 'LIAM',\n",
       " 'EMMA',\n",
       " 'NOAH',\n",
       " 'AVA',\n",
       " 'OLIVER',\n",
       " 'CHARLOTTE',\n",
       " 'ELIJAH',\n",
       " 'SOPHIA',\n",
       " 'WILLIAM']"
      ]
     },
     "execution_count": 57,
     "metadata": {},
     "output_type": "execute_result"
    }
   ],
   "source": [
    "name_list_upper = [name.upper() for name in list1]\n",
    "name_list_upper"
   ]
  },
  {
   "cell_type": "code",
   "execution_count": 59,
   "id": "847765fb-4da6-4f77-b2c8-5dd2fda4ec91",
   "metadata": {},
   "outputs": [
    {
     "data": {
      "text/plain": [
       "[0, 7, 14, 21, 28, 35, 42, 49, 56, 63, 70, 77, 84, 91, 98]"
      ]
     },
     "execution_count": 59,
     "metadata": {},
     "output_type": "execute_result"
    }
   ],
   "source": [
    "list4=[i for i in range(0,100) if i % 7==0]\n",
    "list4"
   ]
  },
  {
   "cell_type": "markdown",
   "id": "849e5172-493a-4349-99f7-87dcbe1bcd03",
   "metadata": {},
   "source": [
    "# break continue"
   ]
  },
  {
   "cell_type": "markdown",
   "id": "2543b377-452a-4d9e-9bd9-35e105a14994",
   "metadata": {},
   "source": [
    "### break 终止整个循环\n",
    "### continue 终止当前循环"
   ]
  },
  {
   "cell_type": "markdown",
   "id": "0dc9f939-9214-405f-87c9-b7d472d7c567",
   "metadata": {},
   "source": [
    "##### hhh"
   ]
  },
  {
   "cell_type": "markdown",
   "id": "17650a11-a1d6-48a2-9be2-12e3dd263d87",
   "metadata": {},
   "source": [
    "# 函数"
   ]
  },
  {
   "cell_type": "markdown",
   "id": "c73e5559-7aac-469c-9650-6943b00605e2",
   "metadata": {},
   "source": [
    "#### lambda def"
   ]
  },
  {
   "cell_type": "code",
   "execution_count": 60,
   "id": "c4ef4a5b-fa41-4a77-aafd-e374c5a59506",
   "metadata": {},
   "outputs": [],
   "source": [
    "def fun1():\n",
    "    print(\"好累啊\")"
   ]
  },
  {
   "cell_type": "code",
   "execution_count": 61,
   "id": "f20a196e-8a50-46f3-a23e-7187261d8980",
   "metadata": {},
   "outputs": [
    {
     "name": "stdout",
     "output_type": "stream",
     "text": [
      "好累啊\n"
     ]
    }
   ],
   "source": [
    "fun1()"
   ]
  },
  {
   "cell_type": "code",
   "execution_count": 68,
   "id": "166d1451-ba89-417d-8e0e-f90846e475f1",
   "metadata": {},
   "outputs": [],
   "source": [
    "def fun2(x,y):\n",
    "    return x**2+y**2"
   ]
  },
  {
   "cell_type": "code",
   "execution_count": 69,
   "id": "b64160e0-d827-4bfe-8bb2-89e2a4e52a04",
   "metadata": {},
   "outputs": [
    {
     "data": {
      "text/plain": [
       "5"
      ]
     },
     "execution_count": 69,
     "metadata": {},
     "output_type": "execute_result"
    }
   ],
   "source": [
    "fun2(1,2)"
   ]
  },
  {
   "cell_type": "code",
   "execution_count": 70,
   "id": "1327056b-1cd4-4937-a18a-698b2b83458c",
   "metadata": {},
   "outputs": [],
   "source": [
    "lambdafun = lambda x,y:x**2 + y**2"
   ]
  },
  {
   "cell_type": "code",
   "execution_count": 71,
   "id": "204eda1a-6000-44e6-adc2-3c755fe1ee57",
   "metadata": {},
   "outputs": [
    {
     "data": {
      "text/plain": [
       "5"
      ]
     },
     "execution_count": 71,
     "metadata": {},
     "output_type": "execute_result"
    }
   ],
   "source": [
    "lambdafun(1,2)"
   ]
  },
  {
   "cell_type": "code",
   "execution_count": 67,
   "id": "99094ae8-5dfa-4e9c-a5a7-df8ea4243590",
   "metadata": {
    "scrolled": true
   },
   "outputs": [
    {
     "data": {
      "text/plain": [
       "0"
      ]
     },
     "execution_count": 67,
     "metadata": {},
     "output_type": "execute_result"
    }
   ],
   "source": [
    "2^2"
   ]
  },
  {
   "cell_type": "code",
   "execution_count": 72,
   "id": "cd01295f-f57f-4fa5-a71b-2ecbe99640c0",
   "metadata": {},
   "outputs": [],
   "source": [
    "lambdafun1 = lambda n : n*(n+1)/2"
   ]
  },
  {
   "cell_type": "code",
   "execution_count": 73,
   "id": "d620c532-9f36-491a-be3c-278abc65ab0e",
   "metadata": {},
   "outputs": [
    {
     "data": {
      "text/plain": [
       "15.0"
      ]
     },
     "execution_count": 73,
     "metadata": {},
     "output_type": "execute_result"
    }
   ],
   "source": [
    "lambdafun1(5)"
   ]
  },
  {
   "cell_type": "code",
   "execution_count": 74,
   "id": "0d8821df-944a-4dd5-a169-5b53eb311f86",
   "metadata": {},
   "outputs": [],
   "source": [
    "def fibnacci(n):\n",
    "    ans=[1,1]\n",
    "    if n>3:\n",
    "        for i in range(2,n):\n",
    "            ans.append(ans[i-1]+ans[i-2])\n",
    "        return ans\n",
    "    else:\n",
    "        return ans[:]\n",
    "        "
   ]
  },
  {
   "cell_type": "code",
   "execution_count": 75,
   "id": "543a658f-9659-40c1-a44e-0105eabbd2df",
   "metadata": {},
   "outputs": [
    {
     "data": {
      "text/plain": [
       "[1, 1, 2, 3, 5]"
      ]
     },
     "execution_count": 75,
     "metadata": {},
     "output_type": "execute_result"
    }
   ],
   "source": [
    "fibnacci(5)"
   ]
  }
 ],
 "metadata": {
  "kernelspec": {
   "display_name": "Python 3 (ipykernel)",
   "language": "python",
   "name": "python3"
  },
  "language_info": {
   "codemirror_mode": {
    "name": "ipython",
    "version": 3
   },
   "file_extension": ".py",
   "mimetype": "text/x-python",
   "name": "python",
   "nbconvert_exporter": "python",
   "pygments_lexer": "ipython3",
   "version": "3.11.0"
  }
 },
 "nbformat": 4,
 "nbformat_minor": 5
}
