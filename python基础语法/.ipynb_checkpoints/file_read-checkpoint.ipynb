{
 "cells": [
  {
   "cell_type": "code",
   "execution_count": 3,
   "id": "28502064-520d-423b-b3ec-7bb21012dc47",
   "metadata": {
    "scrolled": true
   },
   "outputs": [],
   "source": [
    "def pingji(x):\n",
    "    if x<60:\n",
    "        print(\"不及格\")\n",
    "    elif x>=60 and x<80:\n",
    "        print(\"合格\")\n",
    "    elif x>=80 and x<90:\n",
    "        print(\"良\")\n",
    "    else:\n",
    "        print(\"优秀\")"
   ]
  },
  {
   "cell_type": "code",
   "execution_count": 4,
   "id": "bf485a0e-8175-4653-91c7-32dfa2c047b2",
   "metadata": {},
   "outputs": [
    {
     "name": "stdout",
     "output_type": "stream",
     "text": [
      "良\n"
     ]
    }
   ],
   "source": [
    "pingji(88)"
   ]
  },
  {
   "cell_type": "markdown",
   "id": "6e41e1bc-b0c3-4dcf-9a86-58b0ad6e3564",
   "metadata": {},
   "source": [
    "# 文件读写"
   ]
  },
  {
   "cell_type": "code",
   "execution_count": 5,
   "id": "c00efc24-cfee-41c5-9677-796ff1b50f73",
   "metadata": {},
   "outputs": [],
   "source": [
    "with open(\"文本文件.txt\",'w') as file:\n",
    "    file.write('学习新思想\\n争做新青年')"
   ]
  },
  {
   "cell_type": "code",
   "execution_count": 6,
   "id": "3b1d6dd4-e0a0-44dc-b4d9-3b7cbdb72bb2",
   "metadata": {},
   "outputs": [],
   "source": [
    "with open(\"文本文件.txt\",'a') as f:\n",
    "    f.write('\\n待到秋来九月八')"
   ]
  },
  {
   "cell_type": "code",
   "execution_count": 7,
   "id": "7fa16165-27ba-40e6-b5f5-a8647cb620a3",
   "metadata": {},
   "outputs": [
    {
     "name": "stdout",
     "output_type": "stream",
     "text": [
      "学习新思想\n",
      "争做新青年\n",
      "待到秋来九月八\n"
     ]
    }
   ],
   "source": [
    "with open(\"文本文件.txt\",'r') as f:\n",
    "    print(f.read())#整个文件读成一个字符串"
   ]
  },
  {
   "cell_type": "code",
   "execution_count": 8,
   "id": "a1457ad1-f5c7-444d-9d2d-aa6b49264dd9",
   "metadata": {},
   "outputs": [
    {
     "name": "stdout",
     "output_type": "stream",
     "text": [
      "['学习新思想\\n', '争做新青年\\n', '待到秋来九月八']\n"
     ]
    }
   ],
   "source": [
    "with open(\"文本文件.txt\",'r') as f:\n",
    "    print(f.readlines())#一行读成一个字符串，整个文件读成一个列"
   ]
  }
 ],
 "metadata": {
  "kernelspec": {
   "display_name": "Python 3 (ipykernel)",
   "language": "python",
   "name": "python3"
  },
  "language_info": {
   "codemirror_mode": {
    "name": "ipython",
    "version": 3
   },
   "file_extension": ".py",
   "mimetype": "text/x-python",
   "name": "python",
   "nbconvert_exporter": "python",
   "pygments_lexer": "ipython3",
   "version": "3.11.0"
  }
 },
 "nbformat": 4,
 "nbformat_minor": 5
}
