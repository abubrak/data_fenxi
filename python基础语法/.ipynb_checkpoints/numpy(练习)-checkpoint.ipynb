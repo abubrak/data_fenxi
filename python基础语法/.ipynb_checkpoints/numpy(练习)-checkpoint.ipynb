{
 "cells": [
  {
   "cell_type": "code",
   "execution_count": 1,
   "id": "a3afc72f-44dd-4fb8-884f-e8c13812c485",
   "metadata": {},
   "outputs": [],
   "source": [
    "import numpy as np"
   ]
  },
  {
   "cell_type": "code",
   "execution_count": 5,
   "id": "ee56fe7f-93d0-4603-8497-84ead58dcd65",
   "metadata": {},
   "outputs": [
    {
     "data": {
      "text/plain": [
       "<module 'numpy.version' from 'F:\\\\Programs\\\\Python\\\\Python311\\\\Lib\\\\site-packages\\\\numpy\\\\version.py'>"
      ]
     },
     "execution_count": 5,
     "metadata": {},
     "output_type": "execute_result"
    }
   ],
   "source": [
    "np.version"
   ]
  },
  {
   "cell_type": "code",
   "execution_count": null,
   "id": "d17acbb9-6515-4d34-a94c-9023309cc653",
   "metadata": {},
   "outputs": [],
   "source": []
  },
  {
   "cell_type": "markdown",
   "id": "9b6aad66-35c9-40ae-8788-899e8c404838",
   "metadata": {},
   "source": [
    "# 创建数组"
   ]
  },
  {
   "cell_type": "code",
   "execution_count": 6,
   "id": "c1d157da-c49f-4c43-817a-3ed073aa9a21",
   "metadata": {},
   "outputs": [
    {
     "data": {
      "text/plain": [
       "array([1, 2, 3, 4, 6])"
      ]
     },
     "execution_count": 6,
     "metadata": {},
     "output_type": "execute_result"
    }
   ],
   "source": [
    "np.array([1,2,3,4,6])"
   ]
  },
  {
   "cell_type": "code",
   "execution_count": 7,
   "id": "f559e56b-9512-4b55-a07d-ad08247e86e8",
   "metadata": {},
   "outputs": [
    {
     "data": {
      "text/plain": [
       "array([1., 2., 3., 4., 6.])"
      ]
     },
     "execution_count": 7,
     "metadata": {},
     "output_type": "execute_result"
    }
   ],
   "source": [
    "np.array([1,2,3,4,6.0])"
   ]
  },
  {
   "cell_type": "code",
   "execution_count": 8,
   "id": "6e256ad1-a4de-4c02-ae73-c73cf5e3ba4c",
   "metadata": {},
   "outputs": [
    {
     "data": {
      "text/plain": [
       "array([[1., 4., 5.],\n",
       "       [3., 4., 5.]])"
      ]
     },
     "execution_count": 8,
     "metadata": {},
     "output_type": "execute_result"
    }
   ],
   "source": [
    "np.array([[1,4,5.0],[3,4,5.0]])"
   ]
  },
  {
   "cell_type": "code",
   "execution_count": 9,
   "id": "8cf5370d-baab-4f76-8583-8cc3962df4a4",
   "metadata": {},
   "outputs": [
    {
     "data": {
      "text/plain": [
       "array([[1, 4, 5],\n",
       "       [3, 4, 5]])"
      ]
     },
     "execution_count": 9,
     "metadata": {},
     "output_type": "execute_result"
    }
   ],
   "source": [
    "arr1=np.array([[1,4,5.0],[3,4,5.0]],dtype=int)\n",
    "arr1"
   ]
  },
  {
   "cell_type": "code",
   "execution_count": 10,
   "id": "87471533-ab1d-4602-a977-a97a1a2e8d99",
   "metadata": {},
   "outputs": [
    {
     "data": {
      "text/plain": [
       "6"
      ]
     },
     "execution_count": 10,
     "metadata": {},
     "output_type": "execute_result"
    }
   ],
   "source": [
    "arr1.size"
   ]
  },
  {
   "cell_type": "code",
   "execution_count": 11,
   "id": "9c6b5faf-87b5-4ff9-9429-01aa734bb804",
   "metadata": {},
   "outputs": [
    {
     "data": {
      "text/plain": [
       "2"
      ]
     },
     "execution_count": 11,
     "metadata": {},
     "output_type": "execute_result"
    }
   ],
   "source": [
    "arr1.ndim"
   ]
  },
  {
   "cell_type": "code",
   "execution_count": 13,
   "id": "51dce9e8-45d8-40f5-8703-dc59f38d81d5",
   "metadata": {},
   "outputs": [
    {
     "data": {
      "text/plain": [
       "dtype('int64')"
      ]
     },
     "execution_count": 13,
     "metadata": {},
     "output_type": "execute_result"
    }
   ],
   "source": [
    "arr1.dtype"
   ]
  },
  {
   "cell_type": "code",
   "execution_count": 14,
   "id": "933226ea-ba88-4f7d-a4cb-829711a1883f",
   "metadata": {},
   "outputs": [
    {
     "data": {
      "text/plain": [
       "(2, 3)"
      ]
     },
     "execution_count": 14,
     "metadata": {},
     "output_type": "execute_result"
    }
   ],
   "source": [
    "arr1.shape"
   ]
  },
  {
   "cell_type": "markdown",
   "id": "f50ae7d5-0597-4df0-9d30-9a28a50daa21",
   "metadata": {},
   "source": [
    "# 规律数组"
   ]
  },
  {
   "cell_type": "code",
   "execution_count": 15,
   "id": "b11aa2eb-63bd-4365-8271-6fe77c92277a",
   "metadata": {},
   "outputs": [
    {
     "data": {
      "text/plain": [
       "array([0, 2, 4])"
      ]
     },
     "execution_count": 15,
     "metadata": {},
     "output_type": "execute_result"
    }
   ],
   "source": [
    "np.arange(0,5,2)"
   ]
  },
  {
   "cell_type": "code",
   "execution_count": 16,
   "id": "add6fe6f-17e7-4070-a850-04b027497742",
   "metadata": {},
   "outputs": [
    {
     "data": {
      "text/plain": [
       "array([0. , 0.1, 0.2, 0.3, 0.4, 0.5, 0.6, 0.7, 0.8, 0.9, 1. , 1.1, 1.2,\n",
       "       1.3, 1.4, 1.5, 1.6, 1.7, 1.8, 1.9, 2. , 2.1, 2.2, 2.3, 2.4, 2.5,\n",
       "       2.6, 2.7, 2.8, 2.9, 3. , 3.1, 3.2, 3.3, 3.4, 3.5, 3.6, 3.7, 3.8,\n",
       "       3.9, 4. , 4.1, 4.2, 4.3, 4.4, 4.5, 4.6, 4.7, 4.8, 4.9])"
      ]
     },
     "execution_count": 16,
     "metadata": {},
     "output_type": "execute_result"
    }
   ],
   "source": [
    "np.arange(0,5,0.1)"
   ]
  },
  {
   "cell_type": "code",
   "execution_count": 17,
   "id": "25e268cf-5f68-487c-ad1e-3e636e9b7bbc",
   "metadata": {},
   "outputs": [],
   "source": [
    "# for i in range(0,5,0.2): 会报错，与arange区别"
   ]
  },
  {
   "cell_type": "code",
   "execution_count": 18,
   "id": "d0218f5c-7cdd-4212-8cf0-27cf90ab524e",
   "metadata": {},
   "outputs": [
    {
     "data": {
      "text/plain": [
       "array([0. , 1.5, 3. , 4.5])"
      ]
     },
     "execution_count": 18,
     "metadata": {},
     "output_type": "execute_result"
    }
   ],
   "source": [
    "np.linspace(0,\n",
    "            6,\n",
    "            num=4, #根据数量自动计算步长\n",
    "            endpoint=False#不包含end\n",
    "           )"
   ]
  },
  {
   "cell_type": "code",
   "execution_count": 19,
   "id": "c6b47601-71ba-4c09-ad5b-7ccfa1484e43",
   "metadata": {},
   "outputs": [
    {
     "data": {
      "text/plain": [
       "array([0., 0., 0., 0.])"
      ]
     },
     "execution_count": 19,
     "metadata": {},
     "output_type": "execute_result"
    }
   ],
   "source": [
    "np.zeros(4)"
   ]
  },
  {
   "cell_type": "code",
   "execution_count": 20,
   "id": "d2cf06a5-a0a9-47a1-9d7b-de41256d43e7",
   "metadata": {},
   "outputs": [
    {
     "data": {
      "text/plain": [
       "array([[0., 0., 0., 0.],\n",
       "       [0., 0., 0., 0.],\n",
       "       [0., 0., 0., 0.]])"
      ]
     },
     "execution_count": 20,
     "metadata": {},
     "output_type": "execute_result"
    }
   ],
   "source": [
    "np.zeros((3,4))"
   ]
  },
  {
   "cell_type": "code",
   "execution_count": 21,
   "id": "27515ff4-a455-4025-b4e0-f855b98bf7cb",
   "metadata": {},
   "outputs": [
    {
     "data": {
      "text/plain": [
       "array([1., 1., 1.])"
      ]
     },
     "execution_count": 21,
     "metadata": {},
     "output_type": "execute_result"
    }
   ],
   "source": [
    "np.ones(3)"
   ]
  },
  {
   "cell_type": "code",
   "execution_count": 23,
   "id": "17c8ef2a-6221-4814-b6b2-a9ab24c82658",
   "metadata": {},
   "outputs": [],
   "source": [
    "arr1=np.ones((3,4))"
   ]
  },
  {
   "cell_type": "code",
   "execution_count": 24,
   "id": "720a33dd-fd66-4dda-9817-2f5296074cc2",
   "metadata": {},
   "outputs": [
    {
     "data": {
      "text/plain": [
       "array([[1., 1., 1., 1.],\n",
       "       [1., 1., 1., 1.],\n",
       "       [1., 1., 1., 1.]])"
      ]
     },
     "execution_count": 24,
     "metadata": {},
     "output_type": "execute_result"
    }
   ],
   "source": [
    "arr1"
   ]
  },
  {
   "cell_type": "code",
   "execution_count": 25,
   "id": "5c60a06b-c470-4d64-86ef-931ce56f9bff",
   "metadata": {},
   "outputs": [
    {
     "data": {
      "text/plain": [
       "array([[1., 1., 1., 1.],\n",
       "       [1., 1., 1., 1.],\n",
       "       [1., 1., 1., 1.]])"
      ]
     },
     "execution_count": 25,
     "metadata": {},
     "output_type": "execute_result"
    }
   ],
   "source": [
    "np.ones_like(arr1)#模仿格式"
   ]
  },
  {
   "cell_type": "code",
   "execution_count": 29,
   "id": "19931109-7622-486a-9859-ec9d982bdbe7",
   "metadata": {},
   "outputs": [
    {
     "data": {
      "text/plain": [
       "array([[4, 2, 2, 4],\n",
       "       [4, 1, 4, 1]], dtype=int32)"
      ]
     },
     "execution_count": 29,
     "metadata": {},
     "output_type": "execute_result"
    }
   ],
   "source": [
    "np.random.randint(1,5,(2,4))"
   ]
  },
  {
   "cell_type": "code",
   "execution_count": 30,
   "id": "57ce02eb-fecc-49c9-af3e-95f370efeefd",
   "metadata": {},
   "outputs": [
    {
     "data": {
      "text/plain": [
       "array([0.06372957, 0.21669381, 0.99063088, 0.06035162])"
      ]
     },
     "execution_count": 30,
     "metadata": {},
     "output_type": "execute_result"
    }
   ],
   "source": [
    "np.random.random(4)"
   ]
  },
  {
   "cell_type": "code",
   "execution_count": 31,
   "id": "0cb0f980-f55c-4029-909c-b9919f99681a",
   "metadata": {},
   "outputs": [
    {
     "data": {
      "text/plain": [
       "array([[0.35481597, 0.50092112, 0.1102336 , 0.32614124, 0.79859931,\n",
       "        0.31494882],\n",
       "       [0.83312713, 0.03998522, 0.53042872, 0.46501994, 0.29603137,\n",
       "        0.07705812],\n",
       "       [0.17009463, 0.12851906, 0.10396465, 0.74371303, 0.00159431,\n",
       "        0.39544577],\n",
       "       [0.23425029, 0.79852215, 0.44335014, 0.36450806, 0.12795756,\n",
       "        0.02653138]])"
      ]
     },
     "execution_count": 31,
     "metadata": {},
     "output_type": "execute_result"
    }
   ],
   "source": [
    "np.random.random((4,6))"
   ]
  },
  {
   "cell_type": "markdown",
   "id": "abf14d89-2120-40d3-9c81-7688a18fae0b",
   "metadata": {},
   "source": [
    "## 数据存储"
   ]
  },
  {
   "cell_type": "code",
   "execution_count": 33,
   "id": "15f8a24e-8950-451a-b825-547bd322b3eb",
   "metadata": {},
   "outputs": [],
   "source": [
    "arr1=np.random.randint(1,5,(2,4))"
   ]
  },
  {
   "cell_type": "code",
   "execution_count": 34,
   "id": "62db02ed-ae2c-40b8-989e-8b47860d2d35",
   "metadata": {
    "scrolled": true
   },
   "outputs": [
    {
     "data": {
      "text/plain": [
       "array([[2, 1, 2, 1],\n",
       "       [2, 2, 3, 4]], dtype=int32)"
      ]
     },
     "execution_count": 34,
     "metadata": {},
     "output_type": "execute_result"
    }
   ],
   "source": [
    "np.save('test_save',arr1) #一个数组不写后缀，默认npy\n",
    "np.load('test_save.npy')"
   ]
  },
  {
   "cell_type": "code",
   "execution_count": 35,
   "id": "bc092f28-617b-43ce-90e7-4cd9910d02d3",
   "metadata": {},
   "outputs": [],
   "source": [
    "np.savez('test_save',数组1=arr1,数组2=arr1)"
   ]
  },
  {
   "cell_type": "code",
   "execution_count": 36,
   "id": "b250205c-c4c0-4946-a10f-867fed231041",
   "metadata": {},
   "outputs": [
    {
     "data": {
      "text/plain": [
       "['数组1', '数组2']"
      ]
     },
     "execution_count": 36,
     "metadata": {},
     "output_type": "execute_result"
    }
   ],
   "source": [
    "file=np.load('test_save.npz')\n",
    "file.files #读取数组名称"
   ]
  },
  {
   "cell_type": "code",
   "execution_count": 37,
   "id": "1d8ed6e3-6f21-4a91-a47c-59942fcfecf2",
   "metadata": {
    "scrolled": true
   },
   "outputs": [
    {
     "data": {
      "text/plain": [
       "array([[2, 1, 2, 1],\n",
       "       [2, 2, 3, 4]], dtype=int32)"
      ]
     },
     "execution_count": 37,
     "metadata": {},
     "output_type": "execute_result"
    }
   ],
   "source": [
    "file['数组2']"
   ]
  },
  {
   "cell_type": "code",
   "execution_count": 39,
   "id": "4c15ba6a-334b-4e23-8174-898e9e0132a2",
   "metadata": {},
   "outputs": [],
   "source": [
    "arr2=np.random.randint(0,10,(5,6))"
   ]
  },
  {
   "cell_type": "code",
   "execution_count": 40,
   "id": "67207ede-f361-4b75-9d1b-29c110b3ecc2",
   "metadata": {},
   "outputs": [
    {
     "data": {
      "text/plain": [
       "array([[9, 7, 6, 0, 4, 1],\n",
       "       [0, 6, 5, 2, 2, 4],\n",
       "       [8, 5, 6, 0, 9, 0],\n",
       "       [7, 1, 3, 5, 7, 0],\n",
       "       [2, 5, 5, 6, 6, 8]], dtype=int32)"
      ]
     },
     "execution_count": 40,
     "metadata": {},
     "output_type": "execute_result"
    }
   ],
   "source": [
    "arr2"
   ]
  },
  {
   "cell_type": "code",
   "execution_count": 41,
   "id": "bf5d4b93-790a-493c-a109-0fbbe6b9a175",
   "metadata": {},
   "outputs": [
    {
     "data": {
      "text/plain": [
       "np.int32(9)"
      ]
     },
     "execution_count": 41,
     "metadata": {},
     "output_type": "execute_result"
    }
   ],
   "source": [
    "arr2[0,0]"
   ]
  },
  {
   "cell_type": "code",
   "execution_count": 42,
   "id": "4ab88c91-f9ed-4d89-9f77-993ff19ca348",
   "metadata": {},
   "outputs": [
    {
     "data": {
      "text/plain": [
       "np.int32(5)"
      ]
     },
     "execution_count": 42,
     "metadata": {},
     "output_type": "execute_result"
    }
   ],
   "source": [
    "arr2[1,2]"
   ]
  },
  {
   "cell_type": "code",
   "execution_count": 43,
   "id": "edea0caf-4bd8-4da9-b143-5dfb93b93214",
   "metadata": {},
   "outputs": [
    {
     "data": {
      "text/plain": [
       "np.int32(6)"
      ]
     },
     "execution_count": 43,
     "metadata": {},
     "output_type": "execute_result"
    }
   ],
   "source": [
    "arr2[4,4]"
   ]
  },
  {
   "cell_type": "code",
   "execution_count": 45,
   "id": "1ea9e1d9-6ce0-4509-bee5-18bd9068fb26",
   "metadata": {},
   "outputs": [
    {
     "data": {
      "text/plain": [
       "array([6, 5, 6, 3, 5], dtype=int32)"
      ]
     },
     "execution_count": 45,
     "metadata": {},
     "output_type": "execute_result"
    }
   ],
   "source": [
    "arr2[:,2]"
   ]
  },
  {
   "cell_type": "code",
   "execution_count": 44,
   "id": "62cff232-9567-4328-83c8-c1fee70363f5",
   "metadata": {},
   "outputs": [
    {
     "data": {
      "text/plain": [
       "array([2, 5, 5, 6, 6, 8], dtype=int32)"
      ]
     },
     "execution_count": 44,
     "metadata": {},
     "output_type": "execute_result"
    }
   ],
   "source": [
    "arr2[4,:]"
   ]
  },
  {
   "cell_type": "code",
   "execution_count": 46,
   "id": "66750f2d-c643-43db-a343-486242ffc243",
   "metadata": {},
   "outputs": [
    {
     "data": {
      "text/plain": [
       "array([[9, 7, 6, 0, 4, 1],\n",
       "       [0, 6, 5, 2, 2, 4],\n",
       "       [8, 5, 6, 0, 9, 0]], dtype=int32)"
      ]
     },
     "execution_count": 46,
     "metadata": {},
     "output_type": "execute_result"
    }
   ],
   "source": [
    "arr2[0:3,:]"
   ]
  },
  {
   "cell_type": "code",
   "execution_count": 47,
   "id": "9c8a06fc-4c77-4546-b9d3-e3e673a359dd",
   "metadata": {},
   "outputs": [
    {
     "data": {
      "text/plain": [
       "array([[9, 7, 6, 0, 4, 1],\n",
       "       [8, 5, 6, 0, 9, 0],\n",
       "       [2, 5, 5, 6, 6, 8]], dtype=int32)"
      ]
     },
     "execution_count": 47,
     "metadata": {},
     "output_type": "execute_result"
    }
   ],
   "source": [
    "arr2[0:5:2,:]"
   ]
  },
  {
   "cell_type": "code",
   "execution_count": 48,
   "id": "24a037e6-684c-4fd1-aca7-565d7216bdcc",
   "metadata": {
    "scrolled": true
   },
   "outputs": [
    {
     "data": {
      "text/plain": [
       "array([[0, 4, 1],\n",
       "       [2, 2, 4],\n",
       "       [0, 9, 0],\n",
       "       [5, 7, 0],\n",
       "       [6, 6, 8]], dtype=int32)"
      ]
     },
     "execution_count": 48,
     "metadata": {},
     "output_type": "execute_result"
    }
   ],
   "source": [
    "arr2[:,-3:]"
   ]
  },
  {
   "cell_type": "code",
   "execution_count": 49,
   "id": "cb52c795-0250-4fe4-ada9-dceba62a6218",
   "metadata": {},
   "outputs": [
    {
     "data": {
      "text/plain": [
       "array([[0, 6, 5, 2, 2, 4],\n",
       "       [7, 1, 3, 5, 7, 0],\n",
       "       [2, 5, 5, 6, 6, 8]], dtype=int32)"
      ]
     },
     "execution_count": 49,
     "metadata": {},
     "output_type": "execute_result"
    }
   ],
   "source": [
    "arr2[[1,3,4],:]"
   ]
  },
  {
   "cell_type": "code",
   "execution_count": 50,
   "id": "88bcf974-683a-40ba-b091-c4518303b0f6",
   "metadata": {},
   "outputs": [
    {
     "data": {
      "text/plain": [
       "array([[1, 4, 5, 3],\n",
       "       [2, 5, 4, 7],\n",
       "       [6, 8, 8, 1],\n",
       "       [2, 7, 3, 4]], dtype=int32)"
      ]
     },
     "execution_count": 50,
     "metadata": {},
     "output_type": "execute_result"
    }
   ],
   "source": [
    "arr3=np.random.randint(1,10,(4,4))\n",
    "arr3"
   ]
  },
  {
   "cell_type": "code",
   "execution_count": 51,
   "id": "bd3bb40c-3769-4824-8a93-78f442dfc8b6",
   "metadata": {},
   "outputs": [
    {
     "data": {
      "text/plain": [
       "array([[7, 4, 9, 1],\n",
       "       [9, 5, 2, 8],\n",
       "       [4, 6, 5, 8],\n",
       "       [1, 9, 3, 2]], dtype=int32)"
      ]
     },
     "execution_count": 51,
     "metadata": {},
     "output_type": "execute_result"
    }
   ],
   "source": [
    "arr4=np.random.randint(1,10,(4,4))\n",
    "arr4"
   ]
  },
  {
   "cell_type": "code",
   "execution_count": 52,
   "id": "117f3e72-7212-4f64-b52b-4f39926e15e5",
   "metadata": {},
   "outputs": [
    {
     "data": {
      "text/plain": [
       "array([[ True, False,  True, False],\n",
       "       [ True, False, False,  True],\n",
       "       [False, False, False,  True],\n",
       "       [False,  True, False, False]])"
      ]
     },
     "execution_count": 52,
     "metadata": {},
     "output_type": "execute_result"
    }
   ],
   "source": [
    "bool_arr=arr4>arr3\n",
    "bool_arr"
   ]
  },
  {
   "cell_type": "code",
   "execution_count": 54,
   "id": "fc4544a6-94cd-4252-8cf2-407c604f40a1",
   "metadata": {},
   "outputs": [
    {
     "data": {
      "text/plain": [
       "array([[9, 6, 4, 4],\n",
       "       [4, 7, 5, 8],\n",
       "       [6, 9, 2, 1],\n",
       "       [8, 7, 1, 4]], dtype=int32)"
      ]
     },
     "execution_count": 54,
     "metadata": {},
     "output_type": "execute_result"
    }
   ],
   "source": [
    "arr5=np.random.randint(1,10,(4,4))\n",
    "arr5"
   ]
  },
  {
   "cell_type": "code",
   "execution_count": 55,
   "id": "a98f11a8-45e3-4751-8d0e-18b60152138c",
   "metadata": {},
   "outputs": [
    {
     "data": {
      "text/plain": [
       "array([9, 4, 4, 8, 1, 7], dtype=int32)"
      ]
     },
     "execution_count": 55,
     "metadata": {},
     "output_type": "execute_result"
    }
   ],
   "source": [
    "arr5[bool_arr] 提取所有为true位置的数值"
   ]
  },
  {
   "cell_type": "code",
   "execution_count": 56,
   "id": "c19dac04-b95b-4ed7-b5cb-af509f09ce4e",
   "metadata": {},
   "outputs": [
    {
     "data": {
      "text/plain": [
       "array([[-1,  6, -1,  4],\n",
       "       [-1,  7,  5, -1],\n",
       "       [ 6,  9,  2, -1],\n",
       "       [ 8, -1,  1,  4]], dtype=int32)"
      ]
     },
     "execution_count": 56,
     "metadata": {},
     "output_type": "execute_result"
    }
   ],
   "source": [
    "arr5[bool_arr]=-1\n",
    "arr5"
   ]
  },
  {
   "cell_type": "markdown",
   "id": "927a2f13-32cc-45c4-bfbe-758e494506ef",
   "metadata": {},
   "source": [
    "## 数组计算"
   ]
  },
  {
   "cell_type": "code",
   "execution_count": 57,
   "id": "03ed6066-2670-4c0b-a727-cdb6a2cc43c7",
   "metadata": {},
   "outputs": [
    {
     "data": {
      "text/plain": [
       "array([[1, 4, 5, 3],\n",
       "       [2, 5, 4, 7],\n",
       "       [6, 8, 8, 1],\n",
       "       [2, 7, 3, 4]], dtype=int32)"
      ]
     },
     "execution_count": 57,
     "metadata": {},
     "output_type": "execute_result"
    }
   ],
   "source": [
    "arr3"
   ]
  },
  {
   "cell_type": "code",
   "execution_count": 58,
   "id": "83d53204-c48e-4747-85fc-f6621d1b3f5a",
   "metadata": {},
   "outputs": [
    {
     "data": {
      "text/plain": [
       "array([[7, 4, 9, 1],\n",
       "       [9, 5, 2, 8],\n",
       "       [4, 6, 5, 8],\n",
       "       [1, 9, 3, 2]], dtype=int32)"
      ]
     },
     "execution_count": 58,
     "metadata": {},
     "output_type": "execute_result"
    }
   ],
   "source": [
    "arr4"
   ]
  },
  {
   "cell_type": "code",
   "execution_count": 59,
   "id": "41983ef9-71a8-4273-8e5c-41f36fde2af6",
   "metadata": {},
   "outputs": [
    {
     "data": {
      "text/plain": [
       "array([[ 8,  8, 14,  4],\n",
       "       [11, 10,  6, 15],\n",
       "       [10, 14, 13,  9],\n",
       "       [ 3, 16,  6,  6]], dtype=int32)"
      ]
     },
     "execution_count": 59,
     "metadata": {},
     "output_type": "execute_result"
    }
   ],
   "source": [
    "arr3+arr4"
   ]
  },
  {
   "cell_type": "code",
   "execution_count": 60,
   "id": "56321499-122a-44fc-9e49-3846926c1c31",
   "metadata": {},
   "outputs": [
    {
     "data": {
      "text/plain": [
       "array([[ 7, 16, 45,  3],\n",
       "       [18, 25,  8, 56],\n",
       "       [24, 48, 40,  8],\n",
       "       [ 2, 63,  9,  8]], dtype=int32)"
      ]
     },
     "execution_count": 60,
     "metadata": {},
     "output_type": "execute_result"
    }
   ],
   "source": [
    "arr3*arr4"
   ]
  },
  {
   "cell_type": "code",
   "execution_count": 61,
   "id": "83081e68-4266-4161-9a6f-7f341f61474c",
   "metadata": {},
   "outputs": [
    {
     "data": {
      "text/plain": [
       "array([[0.14285714, 1.        , 0.55555556, 3.        ],\n",
       "       [0.22222222, 1.        , 2.        , 0.875     ],\n",
       "       [1.5       , 1.33333333, 1.6       , 0.125     ],\n",
       "       [2.        , 0.77777778, 1.        , 2.        ]])"
      ]
     },
     "execution_count": 61,
     "metadata": {},
     "output_type": "execute_result"
    }
   ],
   "source": [
    "arr3/arr4"
   ]
  },
  {
   "cell_type": "code",
   "execution_count": 62,
   "id": "b82e96f3-48db-4869-bce2-3e6fc6c0b43f",
   "metadata": {},
   "outputs": [
    {
     "data": {
      "text/plain": [
       "array([[0, 1, 0, 3],\n",
       "       [0, 1, 2, 0],\n",
       "       [1, 1, 1, 0],\n",
       "       [2, 0, 1, 2]], dtype=int32)"
      ]
     },
     "execution_count": 62,
     "metadata": {},
     "output_type": "execute_result"
    }
   ],
   "source": [
    "arr3//arr4"
   ]
  },
  {
   "cell_type": "code",
   "execution_count": 63,
   "id": "e7e84eeb-3d9d-418d-b52c-d7099f2f2f6d",
   "metadata": {},
   "outputs": [
    {
     "data": {
      "text/plain": [
       "array([[1.        , 2.        , 2.23606798, 1.73205081],\n",
       "       [1.41421356, 2.23606798, 2.        , 2.64575131],\n",
       "       [2.44948974, 2.82842712, 2.82842712, 1.        ],\n",
       "       [1.41421356, 2.64575131, 1.73205081, 2.        ]])"
      ]
     },
     "execution_count": 63,
     "metadata": {},
     "output_type": "execute_result"
    }
   ],
   "source": [
    "np.sqrt(arr3)"
   ]
  },
  {
   "cell_type": "code",
   "execution_count": 65,
   "id": "26b911ff-e652-4790-b625-be3314c8b7e0",
   "metadata": {},
   "outputs": [
    {
     "data": {
      "text/plain": [
       "array([21, 24, 19, 19])"
      ]
     },
     "execution_count": 65,
     "metadata": {},
     "output_type": "execute_result"
    }
   ],
   "source": [
    "arr4.sum(axis=0) #把同一列相加"
   ]
  },
  {
   "cell_type": "code",
   "execution_count": 66,
   "id": "6977c394-76bf-4d9f-aa9c-4fcb610c920a",
   "metadata": {},
   "outputs": [
    {
     "data": {
      "text/plain": [
       "array([21, 24, 23, 15])"
      ]
     },
     "execution_count": 66,
     "metadata": {},
     "output_type": "execute_result"
    }
   ],
   "source": [
    "arr4.sum(axis=1) #把同一行相加"
   ]
  },
  {
   "cell_type": "code",
   "execution_count": 64,
   "id": "d26b4f66-4e0c-49f3-98ec-3af4eee9b394",
   "metadata": {},
   "outputs": [
    {
     "data": {
      "text/plain": [
       "np.int64(83)"
      ]
     },
     "execution_count": 64,
     "metadata": {},
     "output_type": "execute_result"
    }
   ],
   "source": [
    "arr4.sum()"
   ]
  },
  {
   "cell_type": "markdown",
   "id": "d1afe6a4-10b1-4566-be21-8f66117e60af",
   "metadata": {},
   "source": [
    "# 广播机制"
   ]
  },
  {
   "cell_type": "markdown",
   "id": "db3f4f2c-addd-4c9b-ad76-fdef6e2fd089",
   "metadata": {},
   "source": [
    "##### 一维数组特殊性"
   ]
  },
  {
   "cell_type": "code",
   "execution_count": 68,
   "id": "aa5486ec-6713-47a4-938b-338dbe28ce98",
   "metadata": {},
   "outputs": [
    {
     "data": {
      "text/plain": [
       "array([0, 1, 2])"
      ]
     },
     "execution_count": 68,
     "metadata": {},
     "output_type": "execute_result"
    }
   ],
   "source": [
    "np.arange(3)"
   ]
  },
  {
   "cell_type": "code",
   "execution_count": 67,
   "id": "fed8c771-2809-4477-a3c2-00fd3dd755f2",
   "metadata": {},
   "outputs": [
    {
     "data": {
      "text/plain": [
       "array([5, 6, 7])"
      ]
     },
     "execution_count": 67,
     "metadata": {},
     "output_type": "execute_result"
    }
   ],
   "source": [
    "np.arange(3)+5"
   ]
  },
  {
   "cell_type": "code",
   "execution_count": 69,
   "id": "84433778-975e-46fd-ae4b-7a3b5fd90ff4",
   "metadata": {},
   "outputs": [
    {
     "data": {
      "text/plain": [
       "array([[1., 2., 3.],\n",
       "       [1., 2., 3.],\n",
       "       [1., 2., 3.]])"
      ]
     },
     "execution_count": 69,
     "metadata": {},
     "output_type": "execute_result"
    }
   ],
   "source": [
    "np.ones((3,3))+ np.arange(3)"
   ]
  },
  {
   "cell_type": "code",
   "execution_count": 70,
   "id": "748a681f-86e7-4bbf-937d-398323129b7b",
   "metadata": {},
   "outputs": [
    {
     "data": {
      "text/plain": [
       "array([[0, 1, 2],\n",
       "       [1, 2, 3],\n",
       "       [2, 3, 4]])"
      ]
     },
     "execution_count": 70,
     "metadata": {},
     "output_type": "execute_result"
    }
   ],
   "source": [
    "np.arange(3).reshape((3,1))+ np.arange(3)"
   ]
  },
  {
   "cell_type": "code",
   "execution_count": 71,
   "id": "3104b59d-1ee1-4ed0-83c1-d85e11f9065e",
   "metadata": {},
   "outputs": [
    {
     "data": {
      "text/plain": [
       "array([[2],\n",
       "       [4]])"
      ]
     },
     "execution_count": 71,
     "metadata": {},
     "output_type": "execute_result"
    }
   ],
   "source": [
    "np.array([[2],[4]])"
   ]
  },
  {
   "cell_type": "code",
   "execution_count": 72,
   "id": "4ad0e825-166a-4298-a97c-b751051322ef",
   "metadata": {},
   "outputs": [
    {
     "data": {
      "text/plain": [
       "array([0, 1, 2])"
      ]
     },
     "execution_count": 72,
     "metadata": {},
     "output_type": "execute_result"
    }
   ],
   "source": [
    "np.arange(3)"
   ]
  },
  {
   "cell_type": "code",
   "execution_count": 73,
   "id": "4d77b471-c1f6-40d9-9ba9-c5be3ae691af",
   "metadata": {},
   "outputs": [
    {
     "data": {
      "text/plain": [
       "array([[2, 3, 4],\n",
       "       [4, 5, 6]])"
      ]
     },
     "execution_count": 73,
     "metadata": {},
     "output_type": "execute_result"
    }
   ],
   "source": [
    "np.array([[2],[4]])+np.arange(3)"
   ]
  },
  {
   "cell_type": "markdown",
   "id": "6b54a79d-2463-4968-bffd-ce4c7e8feba4",
   "metadata": {},
   "source": [
    "### 去重与唯一值"
   ]
  },
  {
   "cell_type": "code",
   "execution_count": 74,
   "id": "54e0d59d-390e-46ee-ab1c-a451ddd72612",
   "metadata": {},
   "outputs": [],
   "source": [
    "arr = np.random.randint(1,100,(20,3))"
   ]
  },
  {
   "cell_type": "code",
   "execution_count": 75,
   "id": "ae16aa9e-372c-4a89-b6ab-9e768106d1b9",
   "metadata": {},
   "outputs": [
    {
     "data": {
      "text/plain": [
       "array([[79, 91, 82],\n",
       "       [ 6, 82, 63],\n",
       "       [46, 98, 13],\n",
       "       [79, 13, 98],\n",
       "       [ 9, 45, 19],\n",
       "       [46, 46, 20],\n",
       "       [ 6, 13, 99],\n",
       "       [50, 61, 40],\n",
       "       [ 6, 52, 22],\n",
       "       [90, 74,  1],\n",
       "       [27, 43, 76],\n",
       "       [ 6, 47, 52],\n",
       "       [40, 76, 99],\n",
       "       [93, 65, 56],\n",
       "       [75, 87, 23],\n",
       "       [97, 48, 20],\n",
       "       [99, 59, 73],\n",
       "       [55, 36, 31],\n",
       "       [26, 66, 13],\n",
       "       [ 8, 35, 42]], dtype=int32)"
      ]
     },
     "execution_count": 75,
     "metadata": {},
     "output_type": "execute_result"
    }
   ],
   "source": [
    "arr"
   ]
  },
  {
   "cell_type": "code",
   "execution_count": 76,
   "id": "be160b0b-99ff-445b-87ad-89fc12fcea4f",
   "metadata": {},
   "outputs": [
    {
     "data": {
      "text/plain": [
       "np.int64(20)"
      ]
     },
     "execution_count": 76,
     "metadata": {},
     "output_type": "execute_result"
    }
   ],
   "source": [
    "np.argmax(arr)"
   ]
  },
  {
   "cell_type": "code",
   "execution_count": 81,
   "id": "f758a5e0-22fc-4951-8439-36faf13d54af",
   "metadata": {},
   "outputs": [
    {
     "data": {
      "text/plain": [
       "np.int32(59)"
      ]
     },
     "execution_count": 81,
     "metadata": {},
     "output_type": "execute_result"
    }
   ],
   "source": [
    "arr[16,1]"
   ]
  },
  {
   "cell_type": "code",
   "execution_count": 77,
   "id": "8cba48fd-0f4b-4afa-ab24-dee0cab1464e",
   "metadata": {},
   "outputs": [
    {
     "data": {
      "text/plain": [
       "array([16,  2,  6])"
      ]
     },
     "execution_count": 77,
     "metadata": {},
     "output_type": "execute_result"
    }
   ],
   "source": [
    "np.argmax(arr,axis=0)"
   ]
  },
  {
   "cell_type": "code",
   "execution_count": 78,
   "id": "fef292e6-c6fb-451e-9287-098b53fb949e",
   "metadata": {},
   "outputs": [
    {
     "data": {
      "text/plain": [
       "array([1, 1, 1, 2, 1, 0, 2, 1, 1, 0, 2, 2, 2, 0, 1, 0, 0, 0, 1, 2])"
      ]
     },
     "execution_count": 78,
     "metadata": {},
     "output_type": "execute_result"
    }
   ],
   "source": [
    "np.argmax(arr,axis=1)"
   ]
  },
  {
   "cell_type": "code",
   "execution_count": 79,
   "id": "3ce1ff58-0075-4073-b783-a56cfc6896c1",
   "metadata": {},
   "outputs": [
    {
     "data": {
      "text/plain": [
       "array([[79, 91, 82,  6, 82, 63, 46, 98, 13, 79],\n",
       "       [13, 98,  9, 45, 19, 46, 46, 20,  6, 13],\n",
       "       [99, 50, 61, 40,  6, 52, 22, 90, 74,  1],\n",
       "       [27, 43, 76,  6, 47, 52, 40, 76, 99, 93],\n",
       "       [65, 56, 75, 87, 23, 97, 48, 20, 99, 59],\n",
       "       [73, 55, 36, 31, 26, 66, 13,  8, 35, 42]], dtype=int32)"
      ]
     },
     "execution_count": 79,
     "metadata": {},
     "output_type": "execute_result"
    }
   ],
   "source": [
    "arr.reshape(6,10)"
   ]
  },
  {
   "cell_type": "code",
   "execution_count": null,
   "id": "779d0f99-f737-406f-9b03-0447f5e04794",
   "metadata": {},
   "outputs": [],
   "source": []
  }
 ],
 "metadata": {
  "kernelspec": {
   "display_name": "Python 3 (ipykernel)",
   "language": "python",
   "name": "python3"
  },
  "language_info": {
   "codemirror_mode": {
    "name": "ipython",
    "version": 3
   },
   "file_extension": ".py",
   "mimetype": "text/x-python",
   "name": "python",
   "nbconvert_exporter": "python",
   "pygments_lexer": "ipython3",
   "version": "3.11.0"
  }
 },
 "nbformat": 4,
 "nbformat_minor": 5
}
