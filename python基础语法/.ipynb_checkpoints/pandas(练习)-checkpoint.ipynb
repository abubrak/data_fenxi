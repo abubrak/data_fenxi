{
 "cells": [
  {
   "cell_type": "code",
   "execution_count": 5,
   "id": "f82693e7-77e9-4e95-9ab8-24d12eb59b43",
   "metadata": {},
   "outputs": [],
   "source": [
    "import pandas as pd\n",
    "import numpy as np"
   ]
  },
  {
   "cell_type": "code",
   "execution_count": 2,
   "id": "92de67d4-1d02-4f68-ac0b-3d87cd7c1662",
   "metadata": {},
   "outputs": [
    {
     "data": {
      "text/plain": [
       "'2.2.3'"
      ]
     },
     "execution_count": 2,
     "metadata": {},
     "output_type": "execute_result"
    }
   ],
   "source": [
    "pd.__version__"
   ]
  },
  {
   "cell_type": "code",
   "execution_count": 3,
   "id": "9db7d377-24b6-4750-9820-6ddc189a7e24",
   "metadata": {},
   "outputs": [
    {
     "data": {
      "text/plain": [
       "3     1\n",
       "4     2\n",
       "5     3\n",
       "6     4\n",
       "77    5\n",
       "dtype: int64"
      ]
     },
     "execution_count": 3,
     "metadata": {},
     "output_type": "execute_result"
    }
   ],
   "source": [
    "ser1=pd.Series([1,2,3,4,5],index=[3,4,5,6,77])\n",
    "ser1"
   ]
  },
  {
   "cell_type": "code",
   "execution_count": 4,
   "id": "fca7b6ba-07e3-49e4-8de5-4fd5ee6ee660",
   "metadata": {},
   "outputs": [
    {
     "data": {
      "text/plain": [
       "a    1\n",
       "b    2\n",
       "dtype: int64"
      ]
     },
     "execution_count": 4,
     "metadata": {},
     "output_type": "execute_result"
    }
   ],
   "source": [
    "ser2=pd.Series({'a':1,'b':2})\n",
    "ser2"
   ]
  },
  {
   "cell_type": "markdown",
   "id": "b13eacbf-b2a6-4af6-aae2-490e2c67505f",
   "metadata": {},
   "source": [
    "### DataFrame"
   ]
  },
  {
   "cell_type": "code",
   "execution_count": 7,
   "id": "07ed7e4f-2314-4c3f-bf08-a93aefeeda70",
   "metadata": {},
   "outputs": [
    {
     "data": {
      "text/html": [
       "<div>\n",
       "<style scoped>\n",
       "    .dataframe tbody tr th:only-of-type {\n",
       "        vertical-align: middle;\n",
       "    }\n",
       "\n",
       "    .dataframe tbody tr th {\n",
       "        vertical-align: top;\n",
       "    }\n",
       "\n",
       "    .dataframe thead th {\n",
       "        text-align: right;\n",
       "    }\n",
       "</style>\n",
       "<table border=\"1\" class=\"dataframe\">\n",
       "  <thead>\n",
       "    <tr style=\"text-align: right;\">\n",
       "      <th></th>\n",
       "      <th>0</th>\n",
       "      <th>1</th>\n",
       "      <th>2</th>\n",
       "      <th>3</th>\n",
       "      <th>4</th>\n",
       "    </tr>\n",
       "  </thead>\n",
       "  <tbody>\n",
       "    <tr>\n",
       "      <th>0</th>\n",
       "      <td>0.144706</td>\n",
       "      <td>0.640452</td>\n",
       "      <td>0.151843</td>\n",
       "      <td>0.344993</td>\n",
       "      <td>0.627511</td>\n",
       "    </tr>\n",
       "    <tr>\n",
       "      <th>1</th>\n",
       "      <td>0.222912</td>\n",
       "      <td>0.775032</td>\n",
       "      <td>0.495052</td>\n",
       "      <td>0.374616</td>\n",
       "      <td>0.358694</td>\n",
       "    </tr>\n",
       "    <tr>\n",
       "      <th>2</th>\n",
       "      <td>0.986857</td>\n",
       "      <td>0.686813</td>\n",
       "      <td>0.064507</td>\n",
       "      <td>0.672540</td>\n",
       "      <td>0.326550</td>\n",
       "    </tr>\n",
       "    <tr>\n",
       "      <th>3</th>\n",
       "      <td>0.241163</td>\n",
       "      <td>0.395837</td>\n",
       "      <td>0.818621</td>\n",
       "      <td>0.977010</td>\n",
       "      <td>0.557643</td>\n",
       "    </tr>\n",
       "    <tr>\n",
       "      <th>4</th>\n",
       "      <td>0.231688</td>\n",
       "      <td>0.209104</td>\n",
       "      <td>0.535061</td>\n",
       "      <td>0.762178</td>\n",
       "      <td>0.965736</td>\n",
       "    </tr>\n",
       "  </tbody>\n",
       "</table>\n",
       "</div>"
      ],
      "text/plain": [
       "          0         1         2         3         4\n",
       "0  0.144706  0.640452  0.151843  0.344993  0.627511\n",
       "1  0.222912  0.775032  0.495052  0.374616  0.358694\n",
       "2  0.986857  0.686813  0.064507  0.672540  0.326550\n",
       "3  0.241163  0.395837  0.818621  0.977010  0.557643\n",
       "4  0.231688  0.209104  0.535061  0.762178  0.965736"
      ]
     },
     "execution_count": 7,
     "metadata": {},
     "output_type": "execute_result"
    }
   ],
   "source": [
    "pd.DataFrame(np.random.random((5,5)))"
   ]
  },
  {
   "cell_type": "code",
   "execution_count": 8,
   "id": "a9e1949f-94a2-49b1-8777-af0422bf6443",
   "metadata": {
    "scrolled": true
   },
   "outputs": [
    {
     "data": {
      "text/html": [
       "<div>\n",
       "<style scoped>\n",
       "    .dataframe tbody tr th:only-of-type {\n",
       "        vertical-align: middle;\n",
       "    }\n",
       "\n",
       "    .dataframe tbody tr th {\n",
       "        vertical-align: top;\n",
       "    }\n",
       "\n",
       "    .dataframe thead th {\n",
       "        text-align: right;\n",
       "    }\n",
       "</style>\n",
       "<table border=\"1\" class=\"dataframe\">\n",
       "  <thead>\n",
       "    <tr style=\"text-align: right;\">\n",
       "      <th></th>\n",
       "      <th>列</th>\n",
       "      <th>列</th>\n",
       "      <th>列</th>\n",
       "      <th>列</th>\n",
       "      <th>列</th>\n",
       "    </tr>\n",
       "  </thead>\n",
       "  <tbody>\n",
       "    <tr>\n",
       "      <th>这</th>\n",
       "      <td>0.399056</td>\n",
       "      <td>0.989038</td>\n",
       "      <td>0.525757</td>\n",
       "      <td>0.471288</td>\n",
       "      <td>0.944289</td>\n",
       "    </tr>\n",
       "    <tr>\n",
       "      <th>是</th>\n",
       "      <td>0.896057</td>\n",
       "      <td>0.585274</td>\n",
       "      <td>0.419320</td>\n",
       "      <td>0.538476</td>\n",
       "      <td>0.148338</td>\n",
       "    </tr>\n",
       "    <tr>\n",
       "      <th>一</th>\n",
       "      <td>0.727376</td>\n",
       "      <td>0.450607</td>\n",
       "      <td>0.061645</td>\n",
       "      <td>0.978310</td>\n",
       "      <td>0.971427</td>\n",
       "    </tr>\n",
       "    <tr>\n",
       "      <th>个</th>\n",
       "      <td>0.300166</td>\n",
       "      <td>0.819223</td>\n",
       "      <td>0.261697</td>\n",
       "      <td>0.104295</td>\n",
       "      <td>0.144786</td>\n",
       "    </tr>\n",
       "    <tr>\n",
       "      <th>行</th>\n",
       "      <td>0.326267</td>\n",
       "      <td>0.647751</td>\n",
       "      <td>0.895473</td>\n",
       "      <td>0.095875</td>\n",
       "      <td>0.573859</td>\n",
       "    </tr>\n",
       "  </tbody>\n",
       "</table>\n",
       "</div>"
      ],
      "text/plain": [
       "          列         列         列         列         列\n",
       "这  0.399056  0.989038  0.525757  0.471288  0.944289\n",
       "是  0.896057  0.585274  0.419320  0.538476  0.148338\n",
       "一  0.727376  0.450607  0.061645  0.978310  0.971427\n",
       "个  0.300166  0.819223  0.261697  0.104295  0.144786\n",
       "行  0.326267  0.647751  0.895473  0.095875  0.573859"
      ]
     },
     "execution_count": 8,
     "metadata": {},
     "output_type": "execute_result"
    }
   ],
   "source": [
    "pd.DataFrame(np.random.random((5,5)),\n",
    "            index=list(\"这是一个行\"),\n",
    "            columns=list('列列列列列'))"
   ]
  },
  {
   "cell_type": "code",
   "execution_count": 9,
   "id": "3c10f24a-d7dd-4946-89c6-0acfbd73eb81",
   "metadata": {},
   "outputs": [
    {
     "data": {
      "text/html": [
       "<div>\n",
       "<style scoped>\n",
       "    .dataframe tbody tr th:only-of-type {\n",
       "        vertical-align: middle;\n",
       "    }\n",
       "\n",
       "    .dataframe tbody tr th {\n",
       "        vertical-align: top;\n",
       "    }\n",
       "\n",
       "    .dataframe thead th {\n",
       "        text-align: right;\n",
       "    }\n",
       "</style>\n",
       "<table border=\"1\" class=\"dataframe\">\n",
       "  <thead>\n",
       "    <tr style=\"text-align: right;\">\n",
       "      <th></th>\n",
       "      <th>678</th>\n",
       "    </tr>\n",
       "  </thead>\n",
       "  <tbody>\n",
       "    <tr>\n",
       "      <th>3</th>\n",
       "      <td>1</td>\n",
       "    </tr>\n",
       "    <tr>\n",
       "      <th>4</th>\n",
       "      <td>2</td>\n",
       "    </tr>\n",
       "    <tr>\n",
       "      <th>5</th>\n",
       "      <td>3</td>\n",
       "    </tr>\n",
       "    <tr>\n",
       "      <th>6</th>\n",
       "      <td>4</td>\n",
       "    </tr>\n",
       "    <tr>\n",
       "      <th>77</th>\n",
       "      <td>5</td>\n",
       "    </tr>\n",
       "  </tbody>\n",
       "</table>\n",
       "</div>"
      ],
      "text/plain": [
       "    678\n",
       "3     1\n",
       "4     2\n",
       "5     3\n",
       "6     4\n",
       "77    5"
      ]
     },
     "execution_count": 9,
     "metadata": {},
     "output_type": "execute_result"
    }
   ],
   "source": [
    "pd.DataFrame(ser1,columns=['678'])"
   ]
  },
  {
   "cell_type": "code",
   "execution_count": 10,
   "id": "d69a6537-b10d-4b48-92ad-d469da29f661",
   "metadata": {},
   "outputs": [],
   "source": [
    "df1=pd.DataFrame(np.random.random((5,5)),\n",
    "            index=list(\"这是一个行\"),\n",
    "            columns=list('列列列列列'))"
   ]
  },
  {
   "cell_type": "code",
   "execution_count": 11,
   "id": "43f2b14b-9daa-4bab-a4dc-bb31375e3928",
   "metadata": {},
   "outputs": [
    {
     "data": {
      "text/plain": [
       "Index(['列', '列', '列', '列', '列'], dtype='object')"
      ]
     },
     "execution_count": 11,
     "metadata": {},
     "output_type": "execute_result"
    }
   ],
   "source": [
    "df1.columns"
   ]
  },
  {
   "cell_type": "code",
   "execution_count": 12,
   "id": "83b04823-5b20-4365-ac11-207ca43658d7",
   "metadata": {},
   "outputs": [
    {
     "data": {
      "text/html": [
       "<div>\n",
       "<style scoped>\n",
       "    .dataframe tbody tr th:only-of-type {\n",
       "        vertical-align: middle;\n",
       "    }\n",
       "\n",
       "    .dataframe tbody tr th {\n",
       "        vertical-align: top;\n",
       "    }\n",
       "\n",
       "    .dataframe thead th {\n",
       "        text-align: right;\n",
       "    }\n",
       "</style>\n",
       "<table border=\"1\" class=\"dataframe\">\n",
       "  <thead>\n",
       "    <tr style=\"text-align: right;\">\n",
       "      <th></th>\n",
       "      <th>列</th>\n",
       "      <th>列</th>\n",
       "      <th>列</th>\n",
       "      <th>列</th>\n",
       "      <th>列</th>\n",
       "    </tr>\n",
       "  </thead>\n",
       "  <tbody>\n",
       "    <tr>\n",
       "      <th>这</th>\n",
       "      <td>0.434518</td>\n",
       "      <td>0.687395</td>\n",
       "      <td>0.568372</td>\n",
       "      <td>0.947244</td>\n",
       "      <td>0.637213</td>\n",
       "    </tr>\n",
       "    <tr>\n",
       "      <th>是</th>\n",
       "      <td>0.919337</td>\n",
       "      <td>0.048473</td>\n",
       "      <td>0.652764</td>\n",
       "      <td>0.658065</td>\n",
       "      <td>0.235674</td>\n",
       "    </tr>\n",
       "    <tr>\n",
       "      <th>一</th>\n",
       "      <td>0.425496</td>\n",
       "      <td>0.281491</td>\n",
       "      <td>0.103066</td>\n",
       "      <td>0.473352</td>\n",
       "      <td>0.111596</td>\n",
       "    </tr>\n",
       "    <tr>\n",
       "      <th>个</th>\n",
       "      <td>0.116603</td>\n",
       "      <td>0.400381</td>\n",
       "      <td>0.419562</td>\n",
       "      <td>0.467602</td>\n",
       "      <td>0.098488</td>\n",
       "    </tr>\n",
       "  </tbody>\n",
       "</table>\n",
       "</div>"
      ],
      "text/plain": [
       "          列         列         列         列         列\n",
       "这  0.434518  0.687395  0.568372  0.947244  0.637213\n",
       "是  0.919337  0.048473  0.652764  0.658065  0.235674\n",
       "一  0.425496  0.281491  0.103066  0.473352  0.111596\n",
       "个  0.116603  0.400381  0.419562  0.467602  0.098488"
      ]
     },
     "execution_count": 12,
     "metadata": {},
     "output_type": "execute_result"
    }
   ],
   "source": [
    "df1.head(4)"
   ]
  },
  {
   "cell_type": "code",
   "execution_count": 13,
   "id": "f861c834-7b7c-497a-b4bd-1fc5a2dbcd6f",
   "metadata": {},
   "outputs": [
    {
     "name": "stdout",
     "output_type": "stream",
     "text": [
      "<class 'pandas.core.frame.DataFrame'>\n",
      "Index: 5 entries, 这 to 行\n",
      "Data columns (total 5 columns):\n",
      " #   Column  Non-Null Count  Dtype  \n",
      "---  ------  --------------  -----  \n",
      " 0   列       5 non-null      float64\n",
      " 1   列       5 non-null      float64\n",
      " 2   列       5 non-null      float64\n",
      " 3   列       5 non-null      float64\n",
      " 4   列       5 non-null      float64\n",
      "dtypes: float64(5)\n",
      "memory usage: 240.0+ bytes\n"
     ]
    }
   ],
   "source": [
    "df1.info()"
   ]
  },
  {
   "cell_type": "code",
   "execution_count": 14,
   "id": "d44a2935-d4fa-4cb5-8859-eb4dbe0d96d1",
   "metadata": {},
   "outputs": [
    {
     "data": {
      "text/html": [
       "<div>\n",
       "<style scoped>\n",
       "    .dataframe tbody tr th:only-of-type {\n",
       "        vertical-align: middle;\n",
       "    }\n",
       "\n",
       "    .dataframe tbody tr th {\n",
       "        vertical-align: top;\n",
       "    }\n",
       "\n",
       "    .dataframe thead th {\n",
       "        text-align: right;\n",
       "    }\n",
       "</style>\n",
       "<table border=\"1\" class=\"dataframe\">\n",
       "  <thead>\n",
       "    <tr style=\"text-align: right;\">\n",
       "      <th></th>\n",
       "      <th>列</th>\n",
       "      <th>列</th>\n",
       "      <th>列</th>\n",
       "      <th>列</th>\n",
       "      <th>列</th>\n",
       "    </tr>\n",
       "  </thead>\n",
       "  <tbody>\n",
       "    <tr>\n",
       "      <th>count</th>\n",
       "      <td>5.000000</td>\n",
       "      <td>5.000000</td>\n",
       "      <td>5.000000</td>\n",
       "      <td>5.000000</td>\n",
       "      <td>5.000000</td>\n",
       "    </tr>\n",
       "    <tr>\n",
       "      <th>mean</th>\n",
       "      <td>0.433799</td>\n",
       "      <td>0.457024</td>\n",
       "      <td>0.527737</td>\n",
       "      <td>0.670682</td>\n",
       "      <td>0.279340</td>\n",
       "    </tr>\n",
       "    <tr>\n",
       "      <th>std</th>\n",
       "      <td>0.300945</td>\n",
       "      <td>0.324960</td>\n",
       "      <td>0.293323</td>\n",
       "      <td>0.209433</td>\n",
       "      <td>0.219093</td>\n",
       "    </tr>\n",
       "    <tr>\n",
       "      <th>min</th>\n",
       "      <td>0.116603</td>\n",
       "      <td>0.048473</td>\n",
       "      <td>0.103066</td>\n",
       "      <td>0.467602</td>\n",
       "      <td>0.098488</td>\n",
       "    </tr>\n",
       "    <tr>\n",
       "      <th>25%</th>\n",
       "      <td>0.273043</td>\n",
       "      <td>0.281491</td>\n",
       "      <td>0.419562</td>\n",
       "      <td>0.473352</td>\n",
       "      <td>0.111596</td>\n",
       "    </tr>\n",
       "    <tr>\n",
       "      <th>50%</th>\n",
       "      <td>0.425496</td>\n",
       "      <td>0.400381</td>\n",
       "      <td>0.568372</td>\n",
       "      <td>0.658065</td>\n",
       "      <td>0.235674</td>\n",
       "    </tr>\n",
       "    <tr>\n",
       "      <th>75%</th>\n",
       "      <td>0.434518</td>\n",
       "      <td>0.687395</td>\n",
       "      <td>0.652764</td>\n",
       "      <td>0.807147</td>\n",
       "      <td>0.313729</td>\n",
       "    </tr>\n",
       "    <tr>\n",
       "      <th>max</th>\n",
       "      <td>0.919337</td>\n",
       "      <td>0.867380</td>\n",
       "      <td>0.894921</td>\n",
       "      <td>0.947244</td>\n",
       "      <td>0.637213</td>\n",
       "    </tr>\n",
       "  </tbody>\n",
       "</table>\n",
       "</div>"
      ],
      "text/plain": [
       "              列         列         列         列         列\n",
       "count  5.000000  5.000000  5.000000  5.000000  5.000000\n",
       "mean   0.433799  0.457024  0.527737  0.670682  0.279340\n",
       "std    0.300945  0.324960  0.293323  0.209433  0.219093\n",
       "min    0.116603  0.048473  0.103066  0.467602  0.098488\n",
       "25%    0.273043  0.281491  0.419562  0.473352  0.111596\n",
       "50%    0.425496  0.400381  0.568372  0.658065  0.235674\n",
       "75%    0.434518  0.687395  0.652764  0.807147  0.313729\n",
       "max    0.919337  0.867380  0.894921  0.947244  0.637213"
      ]
     },
     "execution_count": 14,
     "metadata": {},
     "output_type": "execute_result"
    }
   ],
   "source": [
    "df1.describe()"
   ]
  },
  {
   "cell_type": "code",
   "execution_count": 15,
   "id": "e66b33aa-2013-467f-9fe2-3ac1cd3de210",
   "metadata": {},
   "outputs": [
    {
     "data": {
      "text/html": [
       "<div>\n",
       "<style scoped>\n",
       "    .dataframe tbody tr th:only-of-type {\n",
       "        vertical-align: middle;\n",
       "    }\n",
       "\n",
       "    .dataframe tbody tr th {\n",
       "        vertical-align: top;\n",
       "    }\n",
       "\n",
       "    .dataframe thead th {\n",
       "        text-align: right;\n",
       "    }\n",
       "</style>\n",
       "<table border=\"1\" class=\"dataframe\">\n",
       "  <thead>\n",
       "    <tr style=\"text-align: right;\">\n",
       "      <th></th>\n",
       "      <th>列</th>\n",
       "      <th>列</th>\n",
       "      <th>列</th>\n",
       "      <th>列</th>\n",
       "      <th>列</th>\n",
       "      <th>新增的列</th>\n",
       "    </tr>\n",
       "  </thead>\n",
       "  <tbody>\n",
       "    <tr>\n",
       "      <th>这</th>\n",
       "      <td>0.434518</td>\n",
       "      <td>0.687395</td>\n",
       "      <td>0.568372</td>\n",
       "      <td>0.947244</td>\n",
       "      <td>0.637213</td>\n",
       "      <td>1</td>\n",
       "    </tr>\n",
       "    <tr>\n",
       "      <th>是</th>\n",
       "      <td>0.919337</td>\n",
       "      <td>0.048473</td>\n",
       "      <td>0.652764</td>\n",
       "      <td>0.658065</td>\n",
       "      <td>0.235674</td>\n",
       "      <td>2</td>\n",
       "    </tr>\n",
       "    <tr>\n",
       "      <th>一</th>\n",
       "      <td>0.425496</td>\n",
       "      <td>0.281491</td>\n",
       "      <td>0.103066</td>\n",
       "      <td>0.473352</td>\n",
       "      <td>0.111596</td>\n",
       "      <td>3</td>\n",
       "    </tr>\n",
       "    <tr>\n",
       "      <th>个</th>\n",
       "      <td>0.116603</td>\n",
       "      <td>0.400381</td>\n",
       "      <td>0.419562</td>\n",
       "      <td>0.467602</td>\n",
       "      <td>0.098488</td>\n",
       "      <td>4</td>\n",
       "    </tr>\n",
       "    <tr>\n",
       "      <th>行</th>\n",
       "      <td>0.273043</td>\n",
       "      <td>0.867380</td>\n",
       "      <td>0.894921</td>\n",
       "      <td>0.807147</td>\n",
       "      <td>0.313729</td>\n",
       "      <td>5</td>\n",
       "    </tr>\n",
       "  </tbody>\n",
       "</table>\n",
       "</div>"
      ],
      "text/plain": [
       "          列         列         列         列         列  新增的列\n",
       "这  0.434518  0.687395  0.568372  0.947244  0.637213     1\n",
       "是  0.919337  0.048473  0.652764  0.658065  0.235674     2\n",
       "一  0.425496  0.281491  0.103066  0.473352  0.111596     3\n",
       "个  0.116603  0.400381  0.419562  0.467602  0.098488     4\n",
       "行  0.273043  0.867380  0.894921  0.807147  0.313729     5"
      ]
     },
     "execution_count": 15,
     "metadata": {},
     "output_type": "execute_result"
    }
   ],
   "source": [
    "df1['新增的列']=[1,2,3,4,5]\n",
    "df1"
   ]
  },
  {
   "cell_type": "code",
   "execution_count": 16,
   "id": "db107430-86a6-471b-b50d-ce417c5b7880",
   "metadata": {},
   "outputs": [],
   "source": [
    "df1.insert(2,'又增一列',value=5)#只能执行一次"
   ]
  },
  {
   "cell_type": "code",
   "execution_count": 17,
   "id": "a35bf6ce-8cc3-49ed-828e-aea53736192a",
   "metadata": {
    "scrolled": true
   },
   "outputs": [
    {
     "data": {
      "text/html": [
       "<div>\n",
       "<style scoped>\n",
       "    .dataframe tbody tr th:only-of-type {\n",
       "        vertical-align: middle;\n",
       "    }\n",
       "\n",
       "    .dataframe tbody tr th {\n",
       "        vertical-align: top;\n",
       "    }\n",
       "\n",
       "    .dataframe thead th {\n",
       "        text-align: right;\n",
       "    }\n",
       "</style>\n",
       "<table border=\"1\" class=\"dataframe\">\n",
       "  <thead>\n",
       "    <tr style=\"text-align: right;\">\n",
       "      <th></th>\n",
       "      <th>列</th>\n",
       "      <th>列</th>\n",
       "      <th>又增一列</th>\n",
       "      <th>列</th>\n",
       "      <th>列</th>\n",
       "      <th>列</th>\n",
       "      <th>新增的列</th>\n",
       "    </tr>\n",
       "  </thead>\n",
       "  <tbody>\n",
       "    <tr>\n",
       "      <th>这</th>\n",
       "      <td>0.434518</td>\n",
       "      <td>0.687395</td>\n",
       "      <td>5</td>\n",
       "      <td>0.568372</td>\n",
       "      <td>0.947244</td>\n",
       "      <td>0.637213</td>\n",
       "      <td>1</td>\n",
       "    </tr>\n",
       "    <tr>\n",
       "      <th>是</th>\n",
       "      <td>0.919337</td>\n",
       "      <td>0.048473</td>\n",
       "      <td>5</td>\n",
       "      <td>0.652764</td>\n",
       "      <td>0.658065</td>\n",
       "      <td>0.235674</td>\n",
       "      <td>2</td>\n",
       "    </tr>\n",
       "    <tr>\n",
       "      <th>一</th>\n",
       "      <td>0.425496</td>\n",
       "      <td>0.281491</td>\n",
       "      <td>5</td>\n",
       "      <td>0.103066</td>\n",
       "      <td>0.473352</td>\n",
       "      <td>0.111596</td>\n",
       "      <td>3</td>\n",
       "    </tr>\n",
       "    <tr>\n",
       "      <th>个</th>\n",
       "      <td>0.116603</td>\n",
       "      <td>0.400381</td>\n",
       "      <td>5</td>\n",
       "      <td>0.419562</td>\n",
       "      <td>0.467602</td>\n",
       "      <td>0.098488</td>\n",
       "      <td>4</td>\n",
       "    </tr>\n",
       "    <tr>\n",
       "      <th>行</th>\n",
       "      <td>0.273043</td>\n",
       "      <td>0.867380</td>\n",
       "      <td>5</td>\n",
       "      <td>0.894921</td>\n",
       "      <td>0.807147</td>\n",
       "      <td>0.313729</td>\n",
       "      <td>5</td>\n",
       "    </tr>\n",
       "  </tbody>\n",
       "</table>\n",
       "</div>"
      ],
      "text/plain": [
       "          列         列  又增一列         列         列         列  新增的列\n",
       "这  0.434518  0.687395     5  0.568372  0.947244  0.637213     1\n",
       "是  0.919337  0.048473     5  0.652764  0.658065  0.235674     2\n",
       "一  0.425496  0.281491     5  0.103066  0.473352  0.111596     3\n",
       "个  0.116603  0.400381     5  0.419562  0.467602  0.098488     4\n",
       "行  0.273043  0.867380     5  0.894921  0.807147  0.313729     5"
      ]
     },
     "execution_count": 17,
     "metadata": {},
     "output_type": "execute_result"
    }
   ],
   "source": [
    "df1"
   ]
  },
  {
   "cell_type": "code",
   "execution_count": 19,
   "id": "123709f9-4844-4412-917c-b8a98363bf73",
   "metadata": {},
   "outputs": [
    {
     "name": "stdout",
     "output_type": "stream",
     "text": [
      "新行索引 Index(['这', '是', '一', 'kkk', '个', '行'], dtype='object')\n"
     ]
    }
   ],
   "source": [
    "newl=df1.index.insert(3,'kkk')\n",
    "print('新行索引',newl)"
   ]
  },
  {
   "cell_type": "code",
   "execution_count": 20,
   "id": "31fde622-3a9b-4b03-bfbd-4eaabadd71bf",
   "metadata": {},
   "outputs": [
    {
     "name": "stdout",
     "output_type": "stream",
     "text": [
      "列索引 Index(['列', '列', '又增一列', '列', '列', '列', '新增的列'], dtype='object')\n"
     ]
    }
   ],
   "source": [
    "newc=df1.columns\n",
    "print('列索引',newc)"
   ]
  },
  {
   "cell_type": "code",
   "execution_count": null,
   "id": "482769b8-d289-478e-829a-a3288e6cfbd9",
   "metadata": {},
   "outputs": [],
   "source": [
    "ndf=df1."
   ]
  }
 ],
 "metadata": {
  "kernelspec": {
   "display_name": "Python 3 (ipykernel)",
   "language": "python",
   "name": "python3"
  },
  "language_info": {
   "codemirror_mode": {
    "name": "ipython",
    "version": 3
   },
   "file_extension": ".py",
   "mimetype": "text/x-python",
   "name": "python",
   "nbconvert_exporter": "python",
   "pygments_lexer": "ipython3",
   "version": "3.11.0"
  }
 },
 "nbformat": 4,
 "nbformat_minor": 5
}
