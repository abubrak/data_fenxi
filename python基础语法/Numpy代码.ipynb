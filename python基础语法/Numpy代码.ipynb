{
 "cells": [
  {
   "cell_type": "markdown",
   "id": "bc301f37",
   "metadata": {},
   "source": [
    "## Page4：模块导入"
   ]
  },
  {
   "cell_type": "code",
   "execution_count": 1,
   "id": "4e5e6c8b",
   "metadata": {},
   "outputs": [],
   "source": [
    "import numpy as np"
   ]
  },
  {
   "cell_type": "markdown",
   "id": "fab8f868",
   "metadata": {},
   "source": [
    "## Page7：数组函数"
   ]
  },
  {
   "cell_type": "code",
   "execution_count": 2,
   "id": "18462396",
   "metadata": {},
   "outputs": [
    {
     "data": {
      "text/plain": [
       "array([1, 2, 3, 4])"
      ]
     },
     "execution_count": 2,
     "metadata": {},
     "output_type": "execute_result"
    }
   ],
   "source": [
    "List=[1,2,3,4]\n",
    "arr=np.array(List)\n",
    "arr"
   ]
  },
  {
   "cell_type": "code",
   "execution_count": 3,
   "id": "0b0150bc",
   "metadata": {},
   "outputs": [
    {
     "data": {
      "text/plain": [
       "array([1., 2., 3., 4.])"
      ]
     },
     "execution_count": 3,
     "metadata": {},
     "output_type": "execute_result"
    }
   ],
   "source": [
    "arr=np.array(List,dtype=float)\n",
    "arr"
   ]
  },
  {
   "cell_type": "code",
   "execution_count": 4,
   "id": "546a1585",
   "metadata": {},
   "outputs": [
    {
     "data": {
      "text/plain": [
       "array([[[1., 2., 3., 4.]]])"
      ]
     },
     "execution_count": 4,
     "metadata": {},
     "output_type": "execute_result"
    }
   ],
   "source": [
    "arr=np.array(List,dtype=float,ndmin=3)\n",
    "arr"
   ]
  },
  {
   "cell_type": "code",
   "execution_count": 8,
   "id": "98fb4b6a",
   "metadata": {},
   "outputs": [
    {
     "name": "stdout",
     "output_type": "stream",
     "text": [
      "4\n",
      "(1, 1, 4)\n",
      "3\n",
      "float64\n"
     ]
    }
   ],
   "source": [
    "print(arr.size)\n",
    "print(arr.shape)\n",
    "print(arr.ndim)\n",
    "print(arr.dtype)"
   ]
  },
  {
   "cell_type": "markdown",
   "id": "939a8850",
   "metadata": {},
   "source": [
    "## Page8：规律数组函数"
   ]
  },
  {
   "cell_type": "code",
   "execution_count": 12,
   "id": "003ab515",
   "metadata": {},
   "outputs": [
    {
     "name": "stdout",
     "output_type": "stream",
     "text": [
      "使用arange生成数组: [1 3]\n",
      "使用arange生成数组(不设置步长): [1 2 3 4]\n",
      "使用arange生成数组(不设置步长和起始值): [0 1 2 3 4]\n"
     ]
    }
   ],
   "source": [
    "a1=np.arange(1, 5, 2, dtype=None)\n",
    "print('使用arange生成数组:', a1)\n",
    "a12=np.arange(1, 5, dtype=None)\n",
    "print('使用arange生成数组(不设置步长):', a12)\n",
    "a13=np.arange(5, dtype=None)\n",
    "print('使用arange生成数组(不设置步长和起始值):', a13)"
   ]
  },
  {
   "cell_type": "code",
   "execution_count": 13,
   "id": "60a16abd",
   "metadata": {},
   "outputs": [
    {
     "name": "stdout",
     "output_type": "stream",
     "text": [
      "使用linspace生成数组,默认状态\n",
      " [2.         2.02040816 2.04081633 2.06122449 2.08163265 2.10204082\n",
      " 2.12244898 2.14285714 2.16326531 2.18367347 2.20408163 2.2244898\n",
      " 2.24489796 2.26530612 2.28571429 2.30612245 2.32653061 2.34693878\n",
      " 2.36734694 2.3877551  2.40816327 2.42857143 2.44897959 2.46938776\n",
      " 2.48979592 2.51020408 2.53061224 2.55102041 2.57142857 2.59183673\n",
      " 2.6122449  2.63265306 2.65306122 2.67346939 2.69387755 2.71428571\n",
      " 2.73469388 2.75510204 2.7755102  2.79591837 2.81632653 2.83673469\n",
      " 2.85714286 2.87755102 2.89795918 2.91836735 2.93877551 2.95918367\n",
      " 2.97959184 3.        ]\n",
      "使用linspace生成数组,显示间距,不使用endpoint\n",
      " (array([2. , 2.2, 2.4, 2.6, 2.8]), 0.2)\n",
      "使用linspace生成数组,显示间距,使用endpoint\n",
      " (array([2.  , 2.25, 2.5 , 2.75, 3.  ]), 0.25)\n",
      "使用linspace生成数组,不显示间距,使用endpoint\n",
      " [2.   2.25 2.5  2.75 3.  ]\n"
     ]
    }
   ],
   "source": [
    "b=np.linspace(2.0, 3.0)\n",
    "print('使用linspace生成数组,默认状态\\n',b)\n",
    "b=np.linspace(2.0, 3.0, num=5, retstep=True,endpoint=False)\n",
    "print('使用linspace生成数组,显示间距,不使用endpoint\\n',b)\n",
    "b=np.linspace(2.0, 3.0, num=5, retstep=True, endpoint=True)\n",
    "print('使用linspace生成数组,显示间距,使用endpoint\\n',b)\n",
    "b=np.linspace(2.0, 3.0, num=5, endpoint=True)\n",
    "print('使用linspace生成数组,不显示间距,使用endpoint\\n',b)"
   ]
  },
  {
   "cell_type": "code",
   "execution_count": 14,
   "id": "9eb65750",
   "metadata": {},
   "outputs": [
    {
     "name": "stdout",
     "output_type": "stream",
     "text": [
      "生成一个linspace数组\n",
      " [1. 2. 3. 4. 5.]\n",
      "上述linspace数组对应的logspace数组\n",
      " [ 2.  4.  8. 16. 32.]\n"
     ]
    }
   ],
   "source": [
    "a=np.linspace(1, 5, num=5, endpoint=True)\n",
    "print('生成一个linspace数组\\n',a)\n",
    "b1=np.logspace(1, 5, num=5, endpoint=True, base=2.0, dtype=None)\n",
    "print('上述linspace数组对应的logspace数组\\n',b1)"
   ]
  },
  {
   "cell_type": "markdown",
   "id": "60a9fcba",
   "metadata": {},
   "source": [
    "## Page9：简便的数组生成函数"
   ]
  },
  {
   "cell_type": "code",
   "execution_count": 15,
   "id": "abe8914e",
   "metadata": {},
   "outputs": [],
   "source": [
    "n=3\n",
    "arr=np.array([[1,2],[3,4]])"
   ]
  },
  {
   "cell_type": "code",
   "execution_count": 16,
   "id": "4924f710",
   "metadata": {},
   "outputs": [
    {
     "name": "stdout",
     "output_type": "stream",
     "text": [
      "[1. 1. 1.]\n",
      "[[1. 1. 1.]\n",
      " [1. 1. 1.]\n",
      " [1. 1. 1.]]\n",
      "[[1 1]\n",
      " [1 1]]\n"
     ]
    }
   ],
   "source": [
    "print(np.ones(n))\n",
    "print(np.ones((n,n)))\n",
    "print(np.ones_like(arr))"
   ]
  },
  {
   "cell_type": "markdown",
   "id": "ef96802c",
   "metadata": {},
   "source": [
    "## Page10：随机数模块"
   ]
  },
  {
   "cell_type": "code",
   "execution_count": 22,
   "id": "6c5a73ee",
   "metadata": {},
   "outputs": [
    {
     "name": "stdout",
     "output_type": "stream",
     "text": [
      "生成一个随机整数\n",
      " 4\n",
      "生成一个随机数组\n",
      " [[3 4 4]\n",
      " [4 1 1]]\n",
      "size可以不写\n",
      " [[4 2 2]\n",
      " [1 4 1]]\n"
     ]
    }
   ],
   "source": [
    "a=np.random.randint(1,5)\n",
    "print('生成一个随机整数\\n',a)\n",
    "arr=np.random.randint(1,5,size=(2,3))\n",
    "print('生成一个随机数组\\n',arr)\n",
    "arr=np.random.randint(1,5,(2,3))\n",
    "print('size可以不写\\n',arr)"
   ]
  },
  {
   "cell_type": "code",
   "execution_count": 25,
   "id": "17837df2",
   "metadata": {},
   "outputs": [
    {
     "name": "stdout",
     "output_type": "stream",
     "text": [
      "生成一个数\n",
      " 0.634779840768332\n",
      "生成一个一维数组\n",
      " [0.44881329 0.53315786 0.28831474]\n",
      "生成一个二维数组\n",
      " [[0.58942783 0.55792818]\n",
      " [0.59935275 0.20314186]\n",
      " [0.8385725  0.25198153]]\n"
     ]
    }
   ],
   "source": [
    "print('生成一个数\\n',np.random.random())\n",
    "print('生成一个一维数组\\n',np.random.random(3))\n",
    "print('生成一个二维数组\\n',np.random.random((3,2)))"
   ]
  },
  {
   "cell_type": "markdown",
   "id": "e3e3a043",
   "metadata": {},
   "source": [
    "## Page11：随机数模块"
   ]
  },
  {
   "cell_type": "code",
   "execution_count": 29,
   "id": "a3492cc5",
   "metadata": {},
   "outputs": [
    {
     "name": "stdout",
     "output_type": "stream",
     "text": [
      "使用seed可以指定随机数 0.417022004702574 0.417022004702574\n"
     ]
    }
   ],
   "source": [
    "np.random.seed(1) \n",
    "a=np.random.random()\n",
    "np.random.seed(1) \n",
    "b=np.random.random()\n",
    "print('使用seed可以指定随机数',a,b)"
   ]
  },
  {
   "cell_type": "code",
   "execution_count": 37,
   "id": "3bca9c2d",
   "metadata": {},
   "outputs": [
    {
     "name": "stdout",
     "output_type": "stream",
     "text": [
      "[1 2 3 4 5 6 7]\n",
      "打款顺序后的数组\n",
      " [4 5 1 7 6 3 2]\n"
     ]
    }
   ],
   "source": [
    "arr=np.arange(1,8)\n",
    "print(arr)\n",
    "arr2=np.random.permutation(arr)\n",
    "print('打乱顺序后的数组\\n',arr2)"
   ]
  },
  {
   "cell_type": "code",
   "execution_count": 40,
   "id": "5eb2a744",
   "metadata": {},
   "outputs": [
    {
     "name": "stdout",
     "output_type": "stream",
     "text": [
      "[1 2 3 4 5 6 7]\n",
      "[4 1 3 2 5 7 6]\n"
     ]
    }
   ],
   "source": [
    "arr =np.arange(1,8)\n",
    "print(arr)\n",
    "np.random.shuffle(arr)\n",
    "print(arr)\n",
    "#函数shuffle与permutation都是对原来的数组进行重新洗牌（即随机打乱原来的元素顺序）；\n",
    "#区别在于shuffle直接在原来的数组上进行操作，改变原来数组的顺序，无返回值。\n",
    "#而permutation不直接在原来的数组上进行操作，而是返回一个新的打乱顺序的数组，并不改变原来的数组。\n"
   ]
  },
  {
   "cell_type": "markdown",
   "id": "c0f6251d",
   "metadata": {},
   "source": [
    "## Page12：数据的读写"
   ]
  },
  {
   "cell_type": "code",
   "execution_count": 136,
   "id": "1319fd89",
   "metadata": {},
   "outputs": [
    {
     "name": "stdout",
     "output_type": "stream",
     "text": [
      "加载已保存的npy文件 [[ 1  2  3  4  5]\n",
      " [ 4  5  6  7  8]\n",
      " [ 7  8  9 10 11]]\n",
      "查看已保存的npy.npz文件的目录\n",
      " ['arr_0', 'arr_1']\n",
      "查看npy.npz文件中arr_1的数据\n",
      " [[ 0  0  0  0  0]\n",
      " [ 4  5  6  7  8]\n",
      " [ 7  8  9 10 11]]\n"
     ]
    }
   ],
   "source": [
    "arr=np.array([[1, 2, 3, 4, 5],\n",
    "              [4, 5, 6, 7, 8],\n",
    "              [7, 8, 9, 10, 11]])\n",
    "np.save(\"save_arr\",arr)\n",
    "print('加载已保存的npy文件',np.load(\"save_arr.npy\"))\n",
    "\n",
    "arr1=np.array([[0, 0, 0, 0, 0],\n",
    "              [4, 5, 6, 7, 8],\n",
    "              [7, 8, 9, 10, 11]])\n",
    "np.savez(\"save_arrz.npy\",arr,arr1)\n",
    "data=np.load(\"save_arrz.npy.npz\")\n",
    "print('查看已保存的npy.npz文件的目录\\n',data.files)\n",
    "print('查看npy.npz文件中arr_1的数据\\n',data['arr_1'])"
   ]
  },
  {
   "cell_type": "code",
   "execution_count": 137,
   "id": "70bec965",
   "metadata": {},
   "outputs": [
    {
     "name": "stdout",
     "output_type": "stream",
     "text": [
      "查看已保存的npz文件的目录\n",
      " ['test1', '第二格表']\n"
     ]
    }
   ],
   "source": [
    "np.savez(\"save_arrz1.npz\",test1=arr,第二格表=arr1)\n",
    "data1=np.load(\"save_arrz1.npz\")\n",
    "print('查看已保存的npz文件的目录\\n',data1.files)"
   ]
  },
  {
   "cell_type": "code",
   "execution_count": 138,
   "id": "de86e975",
   "metadata": {},
   "outputs": [
    {
     "name": "stdout",
     "output_type": "stream",
     "text": [
      "加载用空格键分隔保存txt文件\n",
      " [[ 1.  2.  3.  4.  5.]\n",
      " [ 4.  5.  6.  7.  8.]\n",
      " [ 7.  8.  9. 10. 11.]]\n",
      "加载用空格键分隔保存txt文件\n",
      " [[ 1.  2.  3.  4.  5.]\n",
      " [ 4.  5.  6.  7.  8.]\n",
      " [ 7.  8.  9. 10. 11.]]\n"
     ]
    }
   ],
   "source": [
    "np.savetxt(\"arr.txt\", arr, fmt=\"%d\", delimiter=\" \")\n",
    "print('加载用空格键分隔保存txt文件\\n',np.loadtxt(\"arr.txt\",delimiter=\" \"))\n",
    "print('加载用空格键分隔保存txt文件\\n',np.genfromtxt(\"arr.txt\", delimiter = \" \"))"
   ]
  },
  {
   "cell_type": "markdown",
   "id": "daa3f924",
   "metadata": {},
   "source": [
    "## Page14：数组索引与切片"
   ]
  },
  {
   "cell_type": "code",
   "execution_count": 139,
   "id": "fd28de4b",
   "metadata": {},
   "outputs": [
    {
     "name": "stdout",
     "output_type": "stream",
     "text": [
      "原始数组\n",
      " [1 2 3 4 5 6]\n",
      "访问数组中索引为0的值\n",
      " 1\n",
      "访问数组中索引为1:3的值(不包括3)\n",
      " [2 3]\n",
      "通过索引列表访问数组\n",
      " [1 3 5]\n",
      "通过一定规律访问数组\n",
      " [2 4]\n",
      "反向访问数组\n",
      " [6 4]\n",
      "访问数组最后一个值\n",
      " 6\n",
      "从末尾开始访问数组\n",
      " [6 5 4]\n"
     ]
    }
   ],
   "source": [
    "arr=np.array([1, 2, 3, 4, 5, 6])\n",
    "print('原始数组\\n',arr)\n",
    "print('访问数组中索引为0的值\\n',arr[0])\n",
    "print('访问数组中索引为1:3的值(不包括3)\\n',arr[1:3])\n",
    "print('通过索引列表访问数组\\n',arr[[0,2,4]])\n",
    "print('通过一定规律访问数组\\n',arr[1:5:2])\n",
    "print('反向访问数组\\n',arr[5:1:-2])\n",
    "print('访问数组最后一个值\\n',arr[-1])\n",
    "print('从末尾开始访问数组\\n',arr[-1:-4:-1])"
   ]
  },
  {
   "cell_type": "code",
   "execution_count": 140,
   "id": "cb251f9b",
   "metadata": {},
   "outputs": [
    {
     "name": "stdout",
     "output_type": "stream",
     "text": [
      "原始数组\n",
      " [[ 1  2  3  4  5]\n",
      " [ 4  5  6  7  8]\n",
      " [ 7  8  9 10 11]]\n",
      "访问某个元素示例\n",
      " 4\n",
      "访问多个元素示例1:第二行第二三个元素\n",
      " [5 6]\n",
      "访问多个元素示例2:第二行第一三四个元素\n",
      " [4 6 7]\n",
      "访问多个元素示例2\n",
      " [5 7]\n",
      "访问多个元素示例2\n",
      " [[ 8  6]\n",
      " [11  9]]\n",
      "访问数列第二行\n",
      " [4 5 6 7 8]\n",
      "访问数列第四列\n",
      " [ 4  7 10]\n"
     ]
    }
   ],
   "source": [
    "\n",
    "arr=np.array([[1, 2, 3, 4, 5],\n",
    "              [4, 5, 6, 7, 8],\n",
    "              [7, 8, 9, 10, 11]])\n",
    "print('原始数组\\n',arr)\n",
    "print('访问某个元素示例\\n',arr[1,0])\n",
    "print('访问多个元素示例1:第二行第二三个元素\\n',arr[1,1:3])\n",
    "print('访问多个元素示例2:第二行第一三四个元素\\n',arr[1,[0,2,3]])\n",
    "print('访问多个元素示例2\\n',arr[1,1:5:2])\n",
    "print('访问多个元素示例2\\n',arr[1:3,5:1:-2])\n",
    "print('访问数列第二行\\n',arr[1,:])\n",
    "print('访问数列第四列\\n',arr[:,3])"
   ]
  },
  {
   "cell_type": "markdown",
   "id": "830846cf",
   "metadata": {},
   "source": [
    "## Page15：布尔数组"
   ]
  },
  {
   "cell_type": "code",
   "execution_count": 141,
   "id": "fbfef16a",
   "metadata": {},
   "outputs": [
    {
     "name": "stdout",
     "output_type": "stream",
     "text": [
      "[[ True False False  True]\n",
      " [False  True  True  True]\n",
      " [ True False False  True]\n",
      " [ True False  True  True]\n",
      " [False  True  True False]]\n"
     ]
    }
   ],
   "source": [
    "arr1=np.random.randint(1,8,(5,4))\n",
    "arr2=np.random.randint(1,8,(5,4))\n",
    "b_arr=arr2>arr1\n",
    "print(b_arr)"
   ]
  },
  {
   "cell_type": "code",
   "execution_count": 142,
   "id": "9ae30f3c",
   "metadata": {},
   "outputs": [
    {
     "name": "stdout",
     "output_type": "stream",
     "text": [
      "n_arr所有元素为真的个数\n",
      " 12\n",
      "n_arr每列元素为真的个数\n",
      " [3 2 3 4]\n",
      "n_arr每行元素为真的个数\n",
      " [2 3 2 3 2]\n"
     ]
    }
   ],
   "source": [
    "print('n_arr所有元素为真的个数\\n',b_arr.sum())\n",
    "print('n_arr每列元素为真的个数\\n',b_arr.sum(axis=0))\n",
    "print('n_arr每行元素为真的个数\\n',b_arr.sum(axis=1))"
   ]
  },
  {
   "cell_type": "code",
   "execution_count": 143,
   "id": "41454897",
   "metadata": {},
   "outputs": [
    {
     "name": "stdout",
     "output_type": "stream",
     "text": [
      "检查数组里有没有ture\n",
      " True\n",
      "检查数组里是不是都是ture\n",
      " False\n"
     ]
    }
   ],
   "source": [
    "print('检查数组里有没有ture\\n',b_arr.any())\n",
    "print('检查数组里是不是都是ture\\n',b_arr.all())"
   ]
  },
  {
   "cell_type": "markdown",
   "id": "000b8942",
   "metadata": {},
   "source": [
    "## Page16：布尔索引与切片"
   ]
  },
  {
   "cell_type": "code",
   "execution_count": 144,
   "id": "80c66275",
   "metadata": {},
   "outputs": [
    {
     "name": "stdout",
     "output_type": "stream",
     "text": [
      "直接使用布尔值提取一维数组的元素\n",
      " [1 7]\n"
     ]
    }
   ],
   "source": [
    "arr1D=np.random.randint(1,8,5)\n",
    "print('直接使用布尔值提取一维数组的元素\\n',\n",
    "      arr1D[[False,False,True,False,True]])"
   ]
  },
  {
   "cell_type": "code",
   "execution_count": 145,
   "id": "cd2bf72f",
   "metadata": {},
   "outputs": [
    {
     "name": "stdout",
     "output_type": "stream",
     "text": [
      "直接使用布尔值提取二维数组的行/列元素 \n",
      "行\n",
      " [[4 7 6 2]\n",
      " [2 1 5 1]] \n",
      "列\n",
      " [[5 5]\n",
      " [6 1]\n",
      " [7 2]\n",
      " [4 4]\n",
      " [1 1]]\n"
     ]
    }
   ],
   "source": [
    "arr2D=np.random.randint(1,8,(5,4))\n",
    "print('直接使用布尔值提取二维数组的行/列元素',\n",
    "      '\\n行\\n',\n",
    "    arr2D[[False,False,True,False,True],:],\n",
    "      '\\n列\\n',\n",
    "     arr2D[:,[False,True,False,True]])"
   ]
  },
  {
   "cell_type": "code",
   "execution_count": 146,
   "id": "7380c40d",
   "metadata": {},
   "outputs": [
    {
     "name": "stdout",
     "output_type": "stream",
     "text": [
      "直接使用布尔值提取二维数组的单个元素\n",
      " [4 5 6 2 1 4 2 3 7 4 1 5] \n",
      "提取后元素返回成一个一维数组\n"
     ]
    }
   ],
   "source": [
    "print('直接使用布尔值提取二维数组的单个元素\\n',\n",
    "     arr2D[b_arr],\n",
    "      '\\n提取后元素返回成一个一维数组')"
   ]
  },
  {
   "cell_type": "markdown",
   "id": "08fa9aef",
   "metadata": {},
   "source": [
    "## Page17：数组计算"
   ]
  },
  {
   "cell_type": "code",
   "execution_count": 147,
   "id": "5e321ba6",
   "metadata": {},
   "outputs": [
    {
     "name": "stdout",
     "output_type": "stream",
     "text": [
      "[[-5  3 -8 -5  3]\n",
      " [-1  5 -5 -5 -2]\n",
      " [ 0 -6  8  1 -9]\n",
      " [ 1  5  0 -3  0]\n",
      " [ 1 -3 -8 -6 -4]]\n",
      "[[ 4.          2.          1.         -0.         -0.25      ]\n",
      " [-0.          0.25        1.5        -0.                -inf]\n",
      " [-1.          0.5         1.          0.          0.8       ]\n",
      " [-1.33333333  0.66666667 -1.         -2.5        -1.        ]\n",
      " [        inf -4.          0.6         5.          0.33333333]]\n"
     ]
    },
    {
     "name": "stderr",
     "output_type": "stream",
     "text": [
      "<ipython-input-147-fd9556b6dfd8>:4: RuntimeWarning: divide by zero encountered in true_divide\n",
      "  print(arr1/arr2)\n"
     ]
    }
   ],
   "source": [
    "arr1=np.random.randint(-5,5,(5,5))\n",
    "arr2=np.random.randint(-5,5,(5,5))\n",
    "print(arr1+arr2)\n",
    "print(arr1/arr2)"
   ]
  },
  {
   "cell_type": "markdown",
   "id": "6cb1eb9b",
   "metadata": {},
   "source": [
    "### 一元通用函数举例"
   ]
  },
  {
   "cell_type": "code",
   "execution_count": 148,
   "id": "c8179462",
   "metadata": {},
   "outputs": [
    {
     "data": {
      "text/plain": [
       "array([[4, 2, 4, 0, 1],\n",
       "       [0, 1, 3, 0, 2],\n",
       "       [4, 2, 4, 0, 4],\n",
       "       [4, 2, 2, 5, 3],\n",
       "       [1, 4, 3, 5, 1]])"
      ]
     },
     "execution_count": 148,
     "metadata": {},
     "output_type": "execute_result"
    }
   ],
   "source": [
    "np.abs(arr1)"
   ]
  },
  {
   "cell_type": "code",
   "execution_count": 149,
   "id": "204b4873",
   "metadata": {},
   "outputs": [
    {
     "name": "stderr",
     "output_type": "stream",
     "text": [
      "<ipython-input-149-5201574b8517>:1: RuntimeWarning: divide by zero encountered in log\n",
      "  np.log(np.abs(arr1))\n"
     ]
    },
    {
     "data": {
      "text/plain": [
       "array([[1.38629436, 0.69314718, 1.38629436,       -inf, 0.        ],\n",
       "       [      -inf, 0.        , 1.09861229,       -inf, 0.69314718],\n",
       "       [1.38629436, 0.69314718, 1.38629436,       -inf, 1.38629436],\n",
       "       [1.38629436, 0.69314718, 0.69314718, 1.60943791, 1.09861229],\n",
       "       [0.        , 1.38629436, 1.09861229, 1.60943791, 0.        ]])"
      ]
     },
     "execution_count": 149,
     "metadata": {},
     "output_type": "execute_result"
    }
   ],
   "source": [
    "np.log(np.abs(arr1))"
   ]
  },
  {
   "cell_type": "code",
   "execution_count": 150,
   "id": "e300f019",
   "metadata": {},
   "outputs": [
    {
     "data": {
      "text/plain": [
       "array([[1, 1, 1, 1, 1],\n",
       "       [1, 1, 1, 1, 1],\n",
       "       [1, 1, 1, 1, 1]])"
      ]
     },
     "execution_count": 150,
     "metadata": {},
     "output_type": "execute_result"
    }
   ],
   "source": [
    "np.sign(arr)"
   ]
  },
  {
   "cell_type": "markdown",
   "id": "1d50f60c",
   "metadata": {},
   "source": [
    "### 二元通用函数举例"
   ]
  },
  {
   "cell_type": "code",
   "execution_count": 151,
   "id": "5a5e0837",
   "metadata": {},
   "outputs": [
    {
     "data": {
      "text/plain": [
       "array([[-5,  3, -8, -5,  3],\n",
       "       [-1,  5, -5, -5, -2],\n",
       "       [ 0, -6,  8,  1, -9],\n",
       "       [ 1,  5,  0, -3,  0],\n",
       "       [ 1, -3, -8, -6, -4]])"
      ]
     },
     "execution_count": 151,
     "metadata": {},
     "output_type": "execute_result"
    }
   ],
   "source": [
    "np.add(arr1,arr2)"
   ]
  },
  {
   "cell_type": "code",
   "execution_count": 152,
   "id": "e8427063",
   "metadata": {},
   "outputs": [
    {
     "data": {
      "text/plain": [
       "array([[  4,   2,  16,   0,  -4],\n",
       "       [  0,   4,   6,   0,   0],\n",
       "       [-16,   8,  16,   0,  20],\n",
       "       [-12,   6,  -4, -10,  -9],\n",
       "       [  0,  -4,  15,   5,   3]])"
      ]
     },
     "execution_count": 152,
     "metadata": {},
     "output_type": "execute_result"
    }
   ],
   "source": [
    "np.multiply(arr1,arr2)"
   ]
  },
  {
   "cell_type": "markdown",
   "id": "7bb4a9a6",
   "metadata": {},
   "source": [
    "## Page19：广播规则"
   ]
  },
  {
   "cell_type": "code",
   "execution_count": 153,
   "id": "aab1bc3d",
   "metadata": {},
   "outputs": [
    {
     "name": "stdout",
     "output_type": "stream",
     "text": [
      "一维数组与标量运算\n",
      " [5 6 7]\n",
      "二维数组与一维数组运算\n",
      " [[1. 2. 3.]\n",
      " [1. 2. 3.]\n",
      " [1. 2. 3.]]\n",
      "两个维度有1的数组运算\n",
      " [[0 1 2]\n",
      " [1 2 3]\n",
      " [2 3 4]]\n"
     ]
    }
   ],
   "source": [
    "print('一维数组与标量运算\\n',np.arange(3)+5)\n",
    "print('二维数组与一维数组运算\\n',np.ones((3,3))+np.arange(3))\n",
    "print('两个维度有1的数组运算\\n',np.arange(3).reshape(3,1)+np.arange(3))"
   ]
  },
  {
   "cell_type": "markdown",
   "id": "502c746e",
   "metadata": {},
   "source": [
    "## Page20：排序与唯一值"
   ]
  },
  {
   "cell_type": "code",
   "execution_count": 154,
   "id": "c7b803b2",
   "metadata": {},
   "outputs": [
    {
     "name": "stdout",
     "output_type": "stream",
     "text": [
      "对arr进行正向排序\n",
      " [0 1 2 3 4 5 6 7]\n",
      "原始数组\n",
      " [[ 1  2  5  4  3]\n",
      " [ 7  8  9 10  8]\n",
      " [ 4 11  6  7  5]]\n",
      "沿纵轴排序\n",
      " [[ 1  2  5  4  3]\n",
      " [ 4  8  6  7  5]\n",
      " [ 7 11  9 10  8]]\n",
      "沿横轴排序\n",
      " [[ 1  2  3  4  5]\n",
      " [ 7  8  8  9 10]\n",
      " [ 4  5  6  7 11]]\n",
      "返回值为重新排序值的下标\n",
      " [[0 1 4 3 2]\n",
      " [0 1 4 2 3]\n",
      " [0 4 2 3 1]]\n"
     ]
    }
   ],
   "source": [
    "arr=np.array([5,6,7,0,3,2,1,4])\n",
    "print('对arr进行正向排序\\n',np.sort(arr))\n",
    "\n",
    "arr=np.array([[1, 2, 5, 4, 3],\n",
    "              [7, 8, 9, 10, 8],\n",
    "              [4, 11, 6, 7, 5]])\n",
    "print('原始数组\\n',arr)\n",
    "print('沿纵轴排序\\n',np.sort(arr,axis=0))\n",
    "print('沿横轴排序\\n',np.sort(arr,axis=1))\n",
    "print('返回值为重新排序值的下标\\n',np.argsort(arr))"
   ]
  },
  {
   "cell_type": "code",
   "execution_count": 155,
   "id": "af1dc769",
   "metadata": {},
   "outputs": [
    {
     "name": "stdout",
     "output_type": "stream",
     "text": [
      "以a为主要顺序进行排序的索引\n",
      " [2 0 4 6 5 3 1]\n",
      "[1, 0]\n",
      "[1, 9]\n",
      "[3, 0]\n",
      "[4, 1]\n",
      "[4, 2]\n",
      "[4, 4]\n",
      "[5, 4]\n",
      "找出数组中的唯一值并返回已排序的结果\n",
      " [1 3 4 5]\n"
     ]
    }
   ],
   "source": [
    "a = [1,5,1,4,3,4,4]\n",
    "b = [9,4,0,4,0,2,1]\n",
    "ind = np.lexsort((b,a)) # 先排a,后排b\n",
    "print('以a为主要顺序进行排序的索引\\n',ind)\n",
    "[print([a[i],b[i]]) for i in ind]\n",
    "a = np.array([1,5,1,4,3,4,4])\n",
    "print('找出数组中的唯一值并返回已排序的结果\\n',np.unique(a))"
   ]
  },
  {
   "cell_type": "markdown",
   "id": "ac483f4c",
   "metadata": {},
   "source": [
    "## Page21：去重与重复数据"
   ]
  },
  {
   "cell_type": "code",
   "execution_count": 156,
   "id": "7070840e",
   "metadata": {},
   "outputs": [
    {
     "data": {
      "text/plain": [
       "array([0, 1, 2, 3, 4, 5, 6, 7])"
      ]
     },
     "execution_count": 156,
     "metadata": {},
     "output_type": "execute_result"
    }
   ],
   "source": [
    "arr=np.array([5,6,7,0,3,2,1,4])\n",
    "np.unique(arr)"
   ]
  },
  {
   "cell_type": "code",
   "execution_count": 157,
   "id": "ce29a932",
   "metadata": {},
   "outputs": [
    {
     "data": {
      "text/plain": [
       "array([5, 6, 7, 0, 3, 2, 1, 4, 5, 6, 7, 0, 3, 2, 1, 4, 5, 6, 7, 0, 3, 2,\n",
       "       1, 4])"
      ]
     },
     "execution_count": 157,
     "metadata": {},
     "output_type": "execute_result"
    }
   ],
   "source": [
    "np.tile(arr,3)"
   ]
  },
  {
   "cell_type": "code",
   "execution_count": 158,
   "id": "918d51e9",
   "metadata": {},
   "outputs": [
    {
     "data": {
      "text/plain": [
       "array([[-4,  2, -4,  0, -1],\n",
       "       [-4,  2, -4,  0, -1],\n",
       "       [-4,  2, -4,  0, -1],\n",
       "       [ 0,  1, -3,  0, -2],\n",
       "       [ 0,  1, -3,  0, -2],\n",
       "       [ 0,  1, -3,  0, -2],\n",
       "       [ 4, -2,  4,  0, -4],\n",
       "       [ 4, -2,  4,  0, -4],\n",
       "       [ 4, -2,  4,  0, -4],\n",
       "       [ 4,  2,  2, -5,  3],\n",
       "       [ 4,  2,  2, -5,  3],\n",
       "       [ 4,  2,  2, -5,  3],\n",
       "       [ 1, -4, -3, -5, -1],\n",
       "       [ 1, -4, -3, -5, -1],\n",
       "       [ 1, -4, -3, -5, -1]])"
      ]
     },
     "execution_count": 158,
     "metadata": {},
     "output_type": "execute_result"
    }
   ],
   "source": [
    "np.repeat(arr1,3,axis=0)"
   ]
  },
  {
   "cell_type": "markdown",
   "id": "272e18bc",
   "metadata": {},
   "source": [
    "## Page22：统计函数"
   ]
  },
  {
   "cell_type": "code",
   "execution_count": 161,
   "id": "0dfa2552",
   "metadata": {},
   "outputs": [
    {
     "data": {
      "text/plain": [
       "array([  5,  30, 210,   0,   0,   0,   0,   0], dtype=int32)"
      ]
     },
     "execution_count": 161,
     "metadata": {},
     "output_type": "execute_result"
    }
   ],
   "source": [
    "arr=np.array([5,6,7,0,3,2,1,4])\n",
    "print('计算和\\n'arr.sum())\n",
    "print('计算平均值\\n'arr.mean())\n",
    "print('计算标准差\\n'arr.std())\n",
    "print('计算方差\\n'arr.var())\n",
    "print('计算最小值\\n'arr.min())\n",
    "print('计算最大值\\n'arr.max())\n",
    "print('计算最小值索引\\n'arr.argmin())\n",
    "print('计算最大值索引\\n'arr.argmax())\n",
    "print('计算累积和\\n'arr.cumsum())\n",
    "print('计算累积积\\n'arr.cumprod())"
   ]
  },
  {
   "cell_type": "markdown",
   "id": "2c3c6a93",
   "metadata": {},
   "source": [
    "## Page23：改变数组形状"
   ]
  },
  {
   "cell_type": "code",
   "execution_count": 163,
   "id": "e4d81518",
   "metadata": {},
   "outputs": [
    {
     "name": "stdout",
     "output_type": "stream",
     "text": [
      "原始数组\n",
      " [ 0  1  2  3  4  5  6  7  8  9 10 11]\n",
      "更改数组成3×4\n",
      " [[ 0  1  2  3]\n",
      " [ 4  5  6  7]\n",
      " [ 8  9 10 11]]\n",
      "更改数组成3×4\n",
      " [[ 0  1  2  3  4  5]\n",
      " [ 6  7  8  9 10 11]]\n",
      "对两个数组横向组合\n",
      " [[0.85931781 0.83039957 0.57849958 0.27411978]\n",
      " [0.6491542  0.67369842 0.56052999 0.67172978]]\n",
      "原始数组\n",
      " [[0.35242963 0.85582837 0.19503749 0.74732081]\n",
      " [0.28960275 0.77379929 0.42773733 0.80769841]\n",
      " [0.35353486 0.21369324 0.76728451 0.30864195]\n",
      " [0.73324507 0.74447315 0.2213967  0.21411214]]\n",
      "数组横向分割\n",
      " [array([[0.35242963],\n",
      "       [0.28960275],\n",
      "       [0.35353486],\n",
      "       [0.73324507]]), array([[0.85582837],\n",
      "       [0.77379929],\n",
      "       [0.21369324],\n",
      "       [0.74447315]]), array([[0.19503749],\n",
      "       [0.42773733],\n",
      "       [0.76728451],\n",
      "       [0.2213967 ]]), array([[0.74732081],\n",
      "       [0.80769841],\n",
      "       [0.30864195],\n",
      "       [0.21411214]])]\n",
      "数组纵向分割\n",
      " [array([[0.35242963, 0.85582837, 0.19503749, 0.74732081],\n",
      "       [0.28960275, 0.77379929, 0.42773733, 0.80769841]]), array([[0.35353486, 0.21369324, 0.76728451, 0.30864195],\n",
      "       [0.73324507, 0.74447315, 0.2213967 , 0.21411214]])]\n"
     ]
    }
   ],
   "source": [
    "arr=np.arange(12)\n",
    "print('原始数组\\n',arr)\n",
    "print('更改数组成3×4\\n',np.reshape(arr,(3,4)))\n",
    "print('更改数组成3×4\\n',arr.reshape((2,6)))\n",
    "\n",
    "arr1=np.random.random((2,2))\n",
    "arr2=np.random.random((2,2))\n",
    "print('对两个数组横向组合\\n',np.hstack((arr1,arr2)))\n",
    "\n",
    "arr=np.random.random((4,4))\n",
    "print('原始数组\\n',arr)\n",
    "print('数组横向分割\\n',np.hsplit(arr,4))\n",
    "print('数组纵向分割\\n',np.split(arr,2,axis=0))\n"
   ]
  },
  {
   "cell_type": "markdown",
   "id": "43deb639",
   "metadata": {},
   "source": [
    "## Page25：矩阵计算"
   ]
  },
  {
   "cell_type": "code",
   "execution_count": 165,
   "id": "a24e6fa5",
   "metadata": {},
   "outputs": [
    {
     "name": "stdout",
     "output_type": "stream",
     "text": [
      "四个矩阵的合并示例1\n",
      " [[1 1 2 2]\n",
      " [1 0 2 2]\n",
      " [3 4 7 8]\n",
      " [5 6 9 0]]\n",
      "四个矩阵的合并示例2\n",
      " [[1 1 2 2]\n",
      " [1 0 2 2]\n",
      " [3 4 7 8]\n",
      " [5 6 9 0]]\n",
      "矩阵转置\n",
      " [[1 1]\n",
      " [1 0]]\n"
     ]
    }
   ],
   "source": [
    "A = np.mat('1 1; 1 0')\n",
    "B = np.mat('2 2; 2 2')\n",
    "C = np.mat('3 4; 5 6')\n",
    "D = np.mat('7 8; 9 0')\n",
    "print('四个矩阵的合并示例1\\n',np.bmat([[A, B], [C, D]]))\n",
    "print('四个矩阵的合并示例2\\n',np.bmat('A,B; C,D'))\n",
    "print('矩阵转置\\n',A.T)\n"
   ]
  },
  {
   "cell_type": "markdown",
   "id": "b10d29ec",
   "metadata": {},
   "source": [
    "## Page26：线性函数"
   ]
  },
  {
   "cell_type": "code",
   "execution_count": 166,
   "id": "7e6fd6f3",
   "metadata": {},
   "outputs": [
    {
     "name": "stdout",
     "output_type": "stream",
     "text": [
      "[[37 40]\n",
      " [85 92]]\n"
     ]
    }
   ],
   "source": [
    "a = np.array([[1,2],[3,4]])\n",
    "b = np.array([[11,12],[13,14]])\n",
    "#[[1*11+2*13, 1*12+2*14],[3*11+4*13, 3*12+4*14]]\n",
    "print(np.dot(a,b))"
   ]
  },
  {
   "cell_type": "code",
   "execution_count": 167,
   "id": "5f07eec9",
   "metadata": {},
   "outputs": [
    {
     "name": "stdout",
     "output_type": "stream",
     "text": [
      "数组 a：\n",
      "[[ 1  1  1]\n",
      " [ 0  2  5]\n",
      " [ 2  5 -1]]\n",
      "a 的逆：\n",
      "[[ 1.28571429 -0.28571429 -0.14285714]\n",
      " [-0.47619048  0.14285714  0.23809524]\n",
      " [ 0.19047619  0.14285714 -0.0952381 ]]\n",
      "矩阵 b：\n",
      "[[ 6]\n",
      " [-4]\n",
      " [27]]\n",
      "计算：A^(-1)B：\n",
      "[[ 5.]\n",
      " [ 3.]\n",
      " [-2.]]\n"
     ]
    }
   ],
   "source": [
    "a = np.array([[1,1,1],[0,2,5],[2,5,-1]]) \n",
    " \n",
    "print ('数组 a：')\n",
    "print (a)\n",
    "ainv = np.linalg.inv(a) \n",
    " \n",
    "print ('a 的逆：')\n",
    "print (ainv)\n",
    " \n",
    "print ('矩阵 b：')\n",
    "b = np.array([[6],[-4],[27]]) \n",
    "print (b)\n",
    " \n",
    "print ('计算：A^(-1)B：')\n",
    "x = np.linalg.solve(a,b) \n",
    "print (x)\n",
    "# 这就是线性方向 x = 5, y = 3, z = -2 的解"
   ]
  }
 ],
 "metadata": {
  "kernelspec": {
   "display_name": "Python 3 (ipykernel)",
   "language": "python",
   "name": "python3"
  },
  "language_info": {
   "codemirror_mode": {
    "name": "ipython",
    "version": 3
   },
   "file_extension": ".py",
   "mimetype": "text/x-python",
   "name": "python",
   "nbconvert_exporter": "python",
   "pygments_lexer": "ipython3",
   "version": "3.10.9"
  },
  "toc": {
   "base_numbering": 1,
   "nav_menu": {},
   "number_sections": true,
   "sideBar": true,
   "skip_h1_title": false,
   "title_cell": "Table of Contents",
   "title_sidebar": "Contents",
   "toc_cell": false,
   "toc_position": {},
   "toc_section_display": true,
   "toc_window_display": false
  }
 },
 "nbformat": 4,
 "nbformat_minor": 5
}
