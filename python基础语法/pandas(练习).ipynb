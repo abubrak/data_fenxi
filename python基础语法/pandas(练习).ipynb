{
 "cells": [
  {
   "cell_type": "code",
   "execution_count": 2,
   "id": "f82693e7-77e9-4e95-9ab8-24d12eb59b43",
   "metadata": {},
   "outputs": [],
   "source": [
    "import pandas as pd\n",
    "import numpy as np"
   ]
  },
  {
   "cell_type": "code",
   "execution_count": 3,
   "id": "92de67d4-1d02-4f68-ac0b-3d87cd7c1662",
   "metadata": {},
   "outputs": [
    {
     "data": {
      "text/plain": [
       "'2.2.3'"
      ]
     },
     "execution_count": 3,
     "metadata": {},
     "output_type": "execute_result"
    }
   ],
   "source": [
    "pd.__version__"
   ]
  },
  {
   "cell_type": "code",
   "execution_count": 4,
   "id": "9db7d377-24b6-4750-9820-6ddc189a7e24",
   "metadata": {},
   "outputs": [
    {
     "data": {
      "text/plain": [
       "3     1\n",
       "4     2\n",
       "5     3\n",
       "6     4\n",
       "77    5\n",
       "dtype: int64"
      ]
     },
     "execution_count": 4,
     "metadata": {},
     "output_type": "execute_result"
    }
   ],
   "source": [
    "ser1=pd.Series([1,2,3,4,5],index=[3,4,5,6,77])\n",
    "ser1"
   ]
  },
  {
   "cell_type": "code",
   "execution_count": 5,
   "id": "fca7b6ba-07e3-49e4-8de5-4fd5ee6ee660",
   "metadata": {},
   "outputs": [
    {
     "data": {
      "text/plain": [
       "a    1\n",
       "b    2\n",
       "dtype: int64"
      ]
     },
     "execution_count": 5,
     "metadata": {},
     "output_type": "execute_result"
    }
   ],
   "source": [
    "ser2=pd.Series({'a':1,'b':2})\n",
    "ser2"
   ]
  },
  {
   "cell_type": "markdown",
   "id": "b13eacbf-b2a6-4af6-aae2-490e2c67505f",
   "metadata": {},
   "source": [
    "### DataFrame"
   ]
  },
  {
   "cell_type": "code",
   "execution_count": 6,
   "id": "07ed7e4f-2314-4c3f-bf08-a93aefeeda70",
   "metadata": {},
   "outputs": [
    {
     "data": {
      "text/html": [
       "<div>\n",
       "<style scoped>\n",
       "    .dataframe tbody tr th:only-of-type {\n",
       "        vertical-align: middle;\n",
       "    }\n",
       "\n",
       "    .dataframe tbody tr th {\n",
       "        vertical-align: top;\n",
       "    }\n",
       "\n",
       "    .dataframe thead th {\n",
       "        text-align: right;\n",
       "    }\n",
       "</style>\n",
       "<table border=\"1\" class=\"dataframe\">\n",
       "  <thead>\n",
       "    <tr style=\"text-align: right;\">\n",
       "      <th></th>\n",
       "      <th>0</th>\n",
       "      <th>1</th>\n",
       "      <th>2</th>\n",
       "      <th>3</th>\n",
       "      <th>4</th>\n",
       "    </tr>\n",
       "  </thead>\n",
       "  <tbody>\n",
       "    <tr>\n",
       "      <th>0</th>\n",
       "      <td>0.117697</td>\n",
       "      <td>0.007914</td>\n",
       "      <td>0.979064</td>\n",
       "      <td>0.179393</td>\n",
       "      <td>0.346635</td>\n",
       "    </tr>\n",
       "    <tr>\n",
       "      <th>1</th>\n",
       "      <td>0.178542</td>\n",
       "      <td>0.021758</td>\n",
       "      <td>0.663496</td>\n",
       "      <td>0.580895</td>\n",
       "      <td>0.312689</td>\n",
       "    </tr>\n",
       "    <tr>\n",
       "      <th>2</th>\n",
       "      <td>0.417333</td>\n",
       "      <td>0.558925</td>\n",
       "      <td>0.880506</td>\n",
       "      <td>0.834585</td>\n",
       "      <td>0.412767</td>\n",
       "    </tr>\n",
       "    <tr>\n",
       "      <th>3</th>\n",
       "      <td>0.506871</td>\n",
       "      <td>0.984313</td>\n",
       "      <td>0.922759</td>\n",
       "      <td>0.870619</td>\n",
       "      <td>0.841596</td>\n",
       "    </tr>\n",
       "    <tr>\n",
       "      <th>4</th>\n",
       "      <td>0.433826</td>\n",
       "      <td>0.888400</td>\n",
       "      <td>0.307659</td>\n",
       "      <td>0.406869</td>\n",
       "      <td>0.689315</td>\n",
       "    </tr>\n",
       "  </tbody>\n",
       "</table>\n",
       "</div>"
      ],
      "text/plain": [
       "          0         1         2         3         4\n",
       "0  0.117697  0.007914  0.979064  0.179393  0.346635\n",
       "1  0.178542  0.021758  0.663496  0.580895  0.312689\n",
       "2  0.417333  0.558925  0.880506  0.834585  0.412767\n",
       "3  0.506871  0.984313  0.922759  0.870619  0.841596\n",
       "4  0.433826  0.888400  0.307659  0.406869  0.689315"
      ]
     },
     "execution_count": 6,
     "metadata": {},
     "output_type": "execute_result"
    }
   ],
   "source": [
    "pd.DataFrame(np.random.random((5,5)))"
   ]
  },
  {
   "cell_type": "code",
   "execution_count": 7,
   "id": "a9e1949f-94a2-49b1-8777-af0422bf6443",
   "metadata": {
    "scrolled": true
   },
   "outputs": [
    {
     "data": {
      "text/html": [
       "<div>\n",
       "<style scoped>\n",
       "    .dataframe tbody tr th:only-of-type {\n",
       "        vertical-align: middle;\n",
       "    }\n",
       "\n",
       "    .dataframe tbody tr th {\n",
       "        vertical-align: top;\n",
       "    }\n",
       "\n",
       "    .dataframe thead th {\n",
       "        text-align: right;\n",
       "    }\n",
       "</style>\n",
       "<table border=\"1\" class=\"dataframe\">\n",
       "  <thead>\n",
       "    <tr style=\"text-align: right;\">\n",
       "      <th></th>\n",
       "      <th>列</th>\n",
       "      <th>列</th>\n",
       "      <th>列</th>\n",
       "      <th>列</th>\n",
       "      <th>列</th>\n",
       "    </tr>\n",
       "  </thead>\n",
       "  <tbody>\n",
       "    <tr>\n",
       "      <th>这</th>\n",
       "      <td>0.784305</td>\n",
       "      <td>0.472594</td>\n",
       "      <td>0.143886</td>\n",
       "      <td>0.275600</td>\n",
       "      <td>0.339694</td>\n",
       "    </tr>\n",
       "    <tr>\n",
       "      <th>是</th>\n",
       "      <td>0.351140</td>\n",
       "      <td>0.830758</td>\n",
       "      <td>0.267983</td>\n",
       "      <td>0.702042</td>\n",
       "      <td>0.770388</td>\n",
       "    </tr>\n",
       "    <tr>\n",
       "      <th>一</th>\n",
       "      <td>0.984817</td>\n",
       "      <td>0.802006</td>\n",
       "      <td>0.840123</td>\n",
       "      <td>0.502468</td>\n",
       "      <td>0.694204</td>\n",
       "    </tr>\n",
       "    <tr>\n",
       "      <th>个</th>\n",
       "      <td>0.039507</td>\n",
       "      <td>0.137605</td>\n",
       "      <td>0.451205</td>\n",
       "      <td>0.658018</td>\n",
       "      <td>0.276729</td>\n",
       "    </tr>\n",
       "    <tr>\n",
       "      <th>行</th>\n",
       "      <td>0.553317</td>\n",
       "      <td>0.698086</td>\n",
       "      <td>0.285948</td>\n",
       "      <td>0.604156</td>\n",
       "      <td>0.131049</td>\n",
       "    </tr>\n",
       "  </tbody>\n",
       "</table>\n",
       "</div>"
      ],
      "text/plain": [
       "          列         列         列         列         列\n",
       "这  0.784305  0.472594  0.143886  0.275600  0.339694\n",
       "是  0.351140  0.830758  0.267983  0.702042  0.770388\n",
       "一  0.984817  0.802006  0.840123  0.502468  0.694204\n",
       "个  0.039507  0.137605  0.451205  0.658018  0.276729\n",
       "行  0.553317  0.698086  0.285948  0.604156  0.131049"
      ]
     },
     "execution_count": 7,
     "metadata": {},
     "output_type": "execute_result"
    }
   ],
   "source": [
    "pd.DataFrame(np.random.random((5,5)),\n",
    "            index=list(\"这是一个行\"),\n",
    "            columns=list('列列列列列'))"
   ]
  },
  {
   "cell_type": "code",
   "execution_count": 8,
   "id": "3c10f24a-d7dd-4946-89c6-0acfbd73eb81",
   "metadata": {},
   "outputs": [
    {
     "data": {
      "text/html": [
       "<div>\n",
       "<style scoped>\n",
       "    .dataframe tbody tr th:only-of-type {\n",
       "        vertical-align: middle;\n",
       "    }\n",
       "\n",
       "    .dataframe tbody tr th {\n",
       "        vertical-align: top;\n",
       "    }\n",
       "\n",
       "    .dataframe thead th {\n",
       "        text-align: right;\n",
       "    }\n",
       "</style>\n",
       "<table border=\"1\" class=\"dataframe\">\n",
       "  <thead>\n",
       "    <tr style=\"text-align: right;\">\n",
       "      <th></th>\n",
       "      <th>678</th>\n",
       "    </tr>\n",
       "  </thead>\n",
       "  <tbody>\n",
       "    <tr>\n",
       "      <th>3</th>\n",
       "      <td>1</td>\n",
       "    </tr>\n",
       "    <tr>\n",
       "      <th>4</th>\n",
       "      <td>2</td>\n",
       "    </tr>\n",
       "    <tr>\n",
       "      <th>5</th>\n",
       "      <td>3</td>\n",
       "    </tr>\n",
       "    <tr>\n",
       "      <th>6</th>\n",
       "      <td>4</td>\n",
       "    </tr>\n",
       "    <tr>\n",
       "      <th>77</th>\n",
       "      <td>5</td>\n",
       "    </tr>\n",
       "  </tbody>\n",
       "</table>\n",
       "</div>"
      ],
      "text/plain": [
       "    678\n",
       "3     1\n",
       "4     2\n",
       "5     3\n",
       "6     4\n",
       "77    5"
      ]
     },
     "execution_count": 8,
     "metadata": {},
     "output_type": "execute_result"
    }
   ],
   "source": [
    "pd.DataFrame(ser1,columns=['678'])"
   ]
  },
  {
   "cell_type": "code",
   "execution_count": 9,
   "id": "d69a6537-b10d-4b48-92ad-d469da29f661",
   "metadata": {},
   "outputs": [],
   "source": [
    "df1=pd.DataFrame(np.random.random((5,5)),\n",
    "            index=list(\"这是一个行\"),\n",
    "            columns=list('列列列列列'))"
   ]
  },
  {
   "cell_type": "code",
   "execution_count": 10,
   "id": "43f2b14b-9daa-4bab-a4dc-bb31375e3928",
   "metadata": {},
   "outputs": [
    {
     "data": {
      "text/plain": [
       "Index(['列', '列', '列', '列', '列'], dtype='object')"
      ]
     },
     "execution_count": 10,
     "metadata": {},
     "output_type": "execute_result"
    }
   ],
   "source": [
    "df1.columns"
   ]
  },
  {
   "cell_type": "code",
   "execution_count": 11,
   "id": "83b04823-5b20-4365-ac11-207ca43658d7",
   "metadata": {},
   "outputs": [
    {
     "data": {
      "text/html": [
       "<div>\n",
       "<style scoped>\n",
       "    .dataframe tbody tr th:only-of-type {\n",
       "        vertical-align: middle;\n",
       "    }\n",
       "\n",
       "    .dataframe tbody tr th {\n",
       "        vertical-align: top;\n",
       "    }\n",
       "\n",
       "    .dataframe thead th {\n",
       "        text-align: right;\n",
       "    }\n",
       "</style>\n",
       "<table border=\"1\" class=\"dataframe\">\n",
       "  <thead>\n",
       "    <tr style=\"text-align: right;\">\n",
       "      <th></th>\n",
       "      <th>列</th>\n",
       "      <th>列</th>\n",
       "      <th>列</th>\n",
       "      <th>列</th>\n",
       "      <th>列</th>\n",
       "    </tr>\n",
       "  </thead>\n",
       "  <tbody>\n",
       "    <tr>\n",
       "      <th>这</th>\n",
       "      <td>0.254147</td>\n",
       "      <td>0.321630</td>\n",
       "      <td>0.022391</td>\n",
       "      <td>0.781841</td>\n",
       "      <td>0.114172</td>\n",
       "    </tr>\n",
       "    <tr>\n",
       "      <th>是</th>\n",
       "      <td>0.916784</td>\n",
       "      <td>0.949221</td>\n",
       "      <td>0.816105</td>\n",
       "      <td>0.451936</td>\n",
       "      <td>0.460851</td>\n",
       "    </tr>\n",
       "    <tr>\n",
       "      <th>一</th>\n",
       "      <td>0.627872</td>\n",
       "      <td>0.791732</td>\n",
       "      <td>0.156392</td>\n",
       "      <td>0.676503</td>\n",
       "      <td>0.768608</td>\n",
       "    </tr>\n",
       "    <tr>\n",
       "      <th>个</th>\n",
       "      <td>0.637335</td>\n",
       "      <td>0.417068</td>\n",
       "      <td>0.139315</td>\n",
       "      <td>0.070863</td>\n",
       "      <td>0.461894</td>\n",
       "    </tr>\n",
       "  </tbody>\n",
       "</table>\n",
       "</div>"
      ],
      "text/plain": [
       "          列         列         列         列         列\n",
       "这  0.254147  0.321630  0.022391  0.781841  0.114172\n",
       "是  0.916784  0.949221  0.816105  0.451936  0.460851\n",
       "一  0.627872  0.791732  0.156392  0.676503  0.768608\n",
       "个  0.637335  0.417068  0.139315  0.070863  0.461894"
      ]
     },
     "execution_count": 11,
     "metadata": {},
     "output_type": "execute_result"
    }
   ],
   "source": [
    "df1.head(4)"
   ]
  },
  {
   "cell_type": "code",
   "execution_count": 12,
   "id": "f861c834-7b7c-497a-b4bd-1fc5a2dbcd6f",
   "metadata": {},
   "outputs": [
    {
     "name": "stdout",
     "output_type": "stream",
     "text": [
      "<class 'pandas.core.frame.DataFrame'>\n",
      "Index: 5 entries, 这 to 行\n",
      "Data columns (total 5 columns):\n",
      " #   Column  Non-Null Count  Dtype  \n",
      "---  ------  --------------  -----  \n",
      " 0   列       5 non-null      float64\n",
      " 1   列       5 non-null      float64\n",
      " 2   列       5 non-null      float64\n",
      " 3   列       5 non-null      float64\n",
      " 4   列       5 non-null      float64\n",
      "dtypes: float64(5)\n",
      "memory usage: 240.0+ bytes\n"
     ]
    }
   ],
   "source": [
    "df1.info()"
   ]
  },
  {
   "cell_type": "code",
   "execution_count": 13,
   "id": "d44a2935-d4fa-4cb5-8859-eb4dbe0d96d1",
   "metadata": {},
   "outputs": [
    {
     "data": {
      "text/html": [
       "<div>\n",
       "<style scoped>\n",
       "    .dataframe tbody tr th:only-of-type {\n",
       "        vertical-align: middle;\n",
       "    }\n",
       "\n",
       "    .dataframe tbody tr th {\n",
       "        vertical-align: top;\n",
       "    }\n",
       "\n",
       "    .dataframe thead th {\n",
       "        text-align: right;\n",
       "    }\n",
       "</style>\n",
       "<table border=\"1\" class=\"dataframe\">\n",
       "  <thead>\n",
       "    <tr style=\"text-align: right;\">\n",
       "      <th></th>\n",
       "      <th>列</th>\n",
       "      <th>列</th>\n",
       "      <th>列</th>\n",
       "      <th>列</th>\n",
       "      <th>列</th>\n",
       "    </tr>\n",
       "  </thead>\n",
       "  <tbody>\n",
       "    <tr>\n",
       "      <th>count</th>\n",
       "      <td>5.000000</td>\n",
       "      <td>5.000000</td>\n",
       "      <td>5.000000</td>\n",
       "      <td>5.000000</td>\n",
       "      <td>5.000000</td>\n",
       "    </tr>\n",
       "    <tr>\n",
       "      <th>mean</th>\n",
       "      <td>0.500215</td>\n",
       "      <td>0.587090</td>\n",
       "      <td>0.374399</td>\n",
       "      <td>0.441832</td>\n",
       "      <td>0.520916</td>\n",
       "    </tr>\n",
       "    <tr>\n",
       "      <th>std</th>\n",
       "      <td>0.338617</td>\n",
       "      <td>0.269087</td>\n",
       "      <td>0.372109</td>\n",
       "      <td>0.297537</td>\n",
       "      <td>0.278946</td>\n",
       "    </tr>\n",
       "    <tr>\n",
       "      <th>min</th>\n",
       "      <td>0.064935</td>\n",
       "      <td>0.321630</td>\n",
       "      <td>0.022391</td>\n",
       "      <td>0.070863</td>\n",
       "      <td>0.114172</td>\n",
       "    </tr>\n",
       "    <tr>\n",
       "      <th>25%</th>\n",
       "      <td>0.254147</td>\n",
       "      <td>0.417068</td>\n",
       "      <td>0.139315</td>\n",
       "      <td>0.228019</td>\n",
       "      <td>0.460851</td>\n",
       "    </tr>\n",
       "    <tr>\n",
       "      <th>50%</th>\n",
       "      <td>0.627872</td>\n",
       "      <td>0.455799</td>\n",
       "      <td>0.156392</td>\n",
       "      <td>0.451936</td>\n",
       "      <td>0.461894</td>\n",
       "    </tr>\n",
       "    <tr>\n",
       "      <th>75%</th>\n",
       "      <td>0.637335</td>\n",
       "      <td>0.791732</td>\n",
       "      <td>0.737792</td>\n",
       "      <td>0.676503</td>\n",
       "      <td>0.768608</td>\n",
       "    </tr>\n",
       "    <tr>\n",
       "      <th>max</th>\n",
       "      <td>0.916784</td>\n",
       "      <td>0.949221</td>\n",
       "      <td>0.816105</td>\n",
       "      <td>0.781841</td>\n",
       "      <td>0.799055</td>\n",
       "    </tr>\n",
       "  </tbody>\n",
       "</table>\n",
       "</div>"
      ],
      "text/plain": [
       "              列         列         列         列         列\n",
       "count  5.000000  5.000000  5.000000  5.000000  5.000000\n",
       "mean   0.500215  0.587090  0.374399  0.441832  0.520916\n",
       "std    0.338617  0.269087  0.372109  0.297537  0.278946\n",
       "min    0.064935  0.321630  0.022391  0.070863  0.114172\n",
       "25%    0.254147  0.417068  0.139315  0.228019  0.460851\n",
       "50%    0.627872  0.455799  0.156392  0.451936  0.461894\n",
       "75%    0.637335  0.791732  0.737792  0.676503  0.768608\n",
       "max    0.916784  0.949221  0.816105  0.781841  0.799055"
      ]
     },
     "execution_count": 13,
     "metadata": {},
     "output_type": "execute_result"
    }
   ],
   "source": [
    "df1.describe()"
   ]
  },
  {
   "cell_type": "code",
   "execution_count": 14,
   "id": "e66b33aa-2013-467f-9fe2-3ac1cd3de210",
   "metadata": {},
   "outputs": [
    {
     "data": {
      "text/html": [
       "<div>\n",
       "<style scoped>\n",
       "    .dataframe tbody tr th:only-of-type {\n",
       "        vertical-align: middle;\n",
       "    }\n",
       "\n",
       "    .dataframe tbody tr th {\n",
       "        vertical-align: top;\n",
       "    }\n",
       "\n",
       "    .dataframe thead th {\n",
       "        text-align: right;\n",
       "    }\n",
       "</style>\n",
       "<table border=\"1\" class=\"dataframe\">\n",
       "  <thead>\n",
       "    <tr style=\"text-align: right;\">\n",
       "      <th></th>\n",
       "      <th>列</th>\n",
       "      <th>列</th>\n",
       "      <th>列</th>\n",
       "      <th>列</th>\n",
       "      <th>列</th>\n",
       "      <th>新增的列</th>\n",
       "    </tr>\n",
       "  </thead>\n",
       "  <tbody>\n",
       "    <tr>\n",
       "      <th>这</th>\n",
       "      <td>0.254147</td>\n",
       "      <td>0.321630</td>\n",
       "      <td>0.022391</td>\n",
       "      <td>0.781841</td>\n",
       "      <td>0.114172</td>\n",
       "      <td>1</td>\n",
       "    </tr>\n",
       "    <tr>\n",
       "      <th>是</th>\n",
       "      <td>0.916784</td>\n",
       "      <td>0.949221</td>\n",
       "      <td>0.816105</td>\n",
       "      <td>0.451936</td>\n",
       "      <td>0.460851</td>\n",
       "      <td>2</td>\n",
       "    </tr>\n",
       "    <tr>\n",
       "      <th>一</th>\n",
       "      <td>0.627872</td>\n",
       "      <td>0.791732</td>\n",
       "      <td>0.156392</td>\n",
       "      <td>0.676503</td>\n",
       "      <td>0.768608</td>\n",
       "      <td>3</td>\n",
       "    </tr>\n",
       "    <tr>\n",
       "      <th>个</th>\n",
       "      <td>0.637335</td>\n",
       "      <td>0.417068</td>\n",
       "      <td>0.139315</td>\n",
       "      <td>0.070863</td>\n",
       "      <td>0.461894</td>\n",
       "      <td>4</td>\n",
       "    </tr>\n",
       "    <tr>\n",
       "      <th>行</th>\n",
       "      <td>0.064935</td>\n",
       "      <td>0.455799</td>\n",
       "      <td>0.737792</td>\n",
       "      <td>0.228019</td>\n",
       "      <td>0.799055</td>\n",
       "      <td>5</td>\n",
       "    </tr>\n",
       "  </tbody>\n",
       "</table>\n",
       "</div>"
      ],
      "text/plain": [
       "          列         列         列         列         列  新增的列\n",
       "这  0.254147  0.321630  0.022391  0.781841  0.114172     1\n",
       "是  0.916784  0.949221  0.816105  0.451936  0.460851     2\n",
       "一  0.627872  0.791732  0.156392  0.676503  0.768608     3\n",
       "个  0.637335  0.417068  0.139315  0.070863  0.461894     4\n",
       "行  0.064935  0.455799  0.737792  0.228019  0.799055     5"
      ]
     },
     "execution_count": 14,
     "metadata": {},
     "output_type": "execute_result"
    }
   ],
   "source": [
    "df1['新增的列']=[1,2,3,4,5]\n",
    "df1"
   ]
  },
  {
   "cell_type": "code",
   "execution_count": 15,
   "id": "db107430-86a6-471b-b50d-ce417c5b7880",
   "metadata": {},
   "outputs": [],
   "source": [
    "df1.insert(2,'又增一列',value=5)#只能执行一次"
   ]
  },
  {
   "cell_type": "code",
   "execution_count": 16,
   "id": "a35bf6ce-8cc3-49ed-828e-aea53736192a",
   "metadata": {
    "scrolled": true
   },
   "outputs": [
    {
     "data": {
      "text/html": [
       "<div>\n",
       "<style scoped>\n",
       "    .dataframe tbody tr th:only-of-type {\n",
       "        vertical-align: middle;\n",
       "    }\n",
       "\n",
       "    .dataframe tbody tr th {\n",
       "        vertical-align: top;\n",
       "    }\n",
       "\n",
       "    .dataframe thead th {\n",
       "        text-align: right;\n",
       "    }\n",
       "</style>\n",
       "<table border=\"1\" class=\"dataframe\">\n",
       "  <thead>\n",
       "    <tr style=\"text-align: right;\">\n",
       "      <th></th>\n",
       "      <th>列</th>\n",
       "      <th>列</th>\n",
       "      <th>又增一列</th>\n",
       "      <th>列</th>\n",
       "      <th>列</th>\n",
       "      <th>列</th>\n",
       "      <th>新增的列</th>\n",
       "    </tr>\n",
       "  </thead>\n",
       "  <tbody>\n",
       "    <tr>\n",
       "      <th>这</th>\n",
       "      <td>0.254147</td>\n",
       "      <td>0.321630</td>\n",
       "      <td>5</td>\n",
       "      <td>0.022391</td>\n",
       "      <td>0.781841</td>\n",
       "      <td>0.114172</td>\n",
       "      <td>1</td>\n",
       "    </tr>\n",
       "    <tr>\n",
       "      <th>是</th>\n",
       "      <td>0.916784</td>\n",
       "      <td>0.949221</td>\n",
       "      <td>5</td>\n",
       "      <td>0.816105</td>\n",
       "      <td>0.451936</td>\n",
       "      <td>0.460851</td>\n",
       "      <td>2</td>\n",
       "    </tr>\n",
       "    <tr>\n",
       "      <th>一</th>\n",
       "      <td>0.627872</td>\n",
       "      <td>0.791732</td>\n",
       "      <td>5</td>\n",
       "      <td>0.156392</td>\n",
       "      <td>0.676503</td>\n",
       "      <td>0.768608</td>\n",
       "      <td>3</td>\n",
       "    </tr>\n",
       "    <tr>\n",
       "      <th>个</th>\n",
       "      <td>0.637335</td>\n",
       "      <td>0.417068</td>\n",
       "      <td>5</td>\n",
       "      <td>0.139315</td>\n",
       "      <td>0.070863</td>\n",
       "      <td>0.461894</td>\n",
       "      <td>4</td>\n",
       "    </tr>\n",
       "    <tr>\n",
       "      <th>行</th>\n",
       "      <td>0.064935</td>\n",
       "      <td>0.455799</td>\n",
       "      <td>5</td>\n",
       "      <td>0.737792</td>\n",
       "      <td>0.228019</td>\n",
       "      <td>0.799055</td>\n",
       "      <td>5</td>\n",
       "    </tr>\n",
       "  </tbody>\n",
       "</table>\n",
       "</div>"
      ],
      "text/plain": [
       "          列         列  又增一列         列         列         列  新增的列\n",
       "这  0.254147  0.321630     5  0.022391  0.781841  0.114172     1\n",
       "是  0.916784  0.949221     5  0.816105  0.451936  0.460851     2\n",
       "一  0.627872  0.791732     5  0.156392  0.676503  0.768608     3\n",
       "个  0.637335  0.417068     5  0.139315  0.070863  0.461894     4\n",
       "行  0.064935  0.455799     5  0.737792  0.228019  0.799055     5"
      ]
     },
     "execution_count": 16,
     "metadata": {},
     "output_type": "execute_result"
    }
   ],
   "source": [
    "df1"
   ]
  },
  {
   "cell_type": "code",
   "execution_count": 17,
   "id": "123709f9-4844-4412-917c-b8a98363bf73",
   "metadata": {},
   "outputs": [
    {
     "name": "stdout",
     "output_type": "stream",
     "text": [
      "新行索引 Index(['这', '是', '一', 'kkk', '个', '行'], dtype='object')\n"
     ]
    }
   ],
   "source": [
    "newl=df1.index.insert(3,'kkk')\n",
    "print('新行索引',newl)"
   ]
  },
  {
   "cell_type": "code",
   "execution_count": 18,
   "id": "31fde622-3a9b-4b03-bfbd-4eaabadd71bf",
   "metadata": {},
   "outputs": [
    {
     "name": "stdout",
     "output_type": "stream",
     "text": [
      "列索引 Index(['列', '列', '又增一列', '列', '列', '列', '新增的列'], dtype='object')\n"
     ]
    }
   ],
   "source": [
    "newc=df1.columns\n",
    "print('列索引',newc)"
   ]
  },
  {
   "cell_type": "code",
   "execution_count": 19,
   "id": "482769b8-d289-478e-829a-a3288e6cfbd9",
   "metadata": {},
   "outputs": [],
   "source": [
    "#ndf=df1."
   ]
  },
  {
   "cell_type": "code",
   "execution_count": 20,
   "id": "a06ec32f-b020-43c8-b0d2-af3399960d28",
   "metadata": {
    "scrolled": true
   },
   "outputs": [
    {
     "data": {
      "text/html": [
       "<div>\n",
       "<style scoped>\n",
       "    .dataframe tbody tr th:only-of-type {\n",
       "        vertical-align: middle;\n",
       "    }\n",
       "\n",
       "    .dataframe tbody tr th {\n",
       "        vertical-align: top;\n",
       "    }\n",
       "\n",
       "    .dataframe thead th {\n",
       "        text-align: right;\n",
       "    }\n",
       "</style>\n",
       "<table border=\"1\" class=\"dataframe\">\n",
       "  <thead>\n",
       "    <tr style=\"text-align: right;\">\n",
       "      <th></th>\n",
       "      <th>1</th>\n",
       "      <th>2</th>\n",
       "      <th>3</th>\n",
       "    </tr>\n",
       "    <tr>\n",
       "      <th>0</th>\n",
       "      <th></th>\n",
       "      <th></th>\n",
       "      <th></th>\n",
       "    </tr>\n",
       "  </thead>\n",
       "  <tbody>\n",
       "    <tr>\n",
       "      <th>NaN</th>\n",
       "      <td>a</td>\n",
       "      <td>b</td>\n",
       "      <td>c</td>\n",
       "    </tr>\n",
       "    <tr>\n",
       "      <th>0.0</th>\n",
       "      <td>1</td>\n",
       "      <td>1</td>\n",
       "      <td>1</td>\n",
       "    </tr>\n",
       "    <tr>\n",
       "      <th>1.0</th>\n",
       "      <td>1</td>\n",
       "      <td>1</td>\n",
       "      <td>2</td>\n",
       "    </tr>\n",
       "    <tr>\n",
       "      <th>2.0</th>\n",
       "      <td>1</td>\n",
       "      <td>2</td>\n",
       "      <td>1</td>\n",
       "    </tr>\n",
       "    <tr>\n",
       "      <th>3.0</th>\n",
       "      <td>2</td>\n",
       "      <td>2</td>\n",
       "      <td>2</td>\n",
       "    </tr>\n",
       "    <tr>\n",
       "      <th>4.0</th>\n",
       "      <td>2</td>\n",
       "      <td>3</td>\n",
       "      <td>1</td>\n",
       "    </tr>\n",
       "    <tr>\n",
       "      <th>5.0</th>\n",
       "      <td>2</td>\n",
       "      <td>3</td>\n",
       "      <td>2</td>\n",
       "    </tr>\n",
       "  </tbody>\n",
       "</table>\n",
       "</div>"
      ],
      "text/plain": [
       "     1  2  3\n",
       "0           \n",
       "NaN  a  b  c\n",
       "0.0  1  1  1\n",
       "1.0  1  1  2\n",
       "2.0  1  2  1\n",
       "3.0  2  2  2\n",
       "4.0  2  3  1\n",
       "5.0  2  3  2"
      ]
     },
     "execution_count": 20,
     "metadata": {},
     "output_type": "execute_result"
    }
   ],
   "source": [
    "pd.read_csv('CSV数据.csv',\n",
    "           index_col=0,\n",
    "           header=None,\n",
    "           encoding='utf-8') #gbk,gb18030"
   ]
  },
  {
   "cell_type": "code",
   "execution_count": 21,
   "id": "da6cdd02-f01a-4878-b053-cc2ee409f8c3",
   "metadata": {},
   "outputs": [
    {
     "data": {
      "text/html": [
       "<div>\n",
       "<style scoped>\n",
       "    .dataframe tbody tr th:only-of-type {\n",
       "        vertical-align: middle;\n",
       "    }\n",
       "\n",
       "    .dataframe tbody tr th {\n",
       "        vertical-align: top;\n",
       "    }\n",
       "\n",
       "    .dataframe thead th {\n",
       "        text-align: right;\n",
       "    }\n",
       "</style>\n",
       "<table border=\"1\" class=\"dataframe\">\n",
       "  <thead>\n",
       "    <tr style=\"text-align: right;\">\n",
       "      <th></th>\n",
       "      <th>1.1</th>\n",
       "      <th>1.2</th>\n",
       "    </tr>\n",
       "    <tr>\n",
       "      <th>1</th>\n",
       "      <th></th>\n",
       "      <th></th>\n",
       "    </tr>\n",
       "  </thead>\n",
       "  <tbody>\n",
       "    <tr>\n",
       "      <th>1</th>\n",
       "      <td>1</td>\n",
       "      <td>1</td>\n",
       "    </tr>\n",
       "    <tr>\n",
       "      <th>1</th>\n",
       "      <td>1</td>\n",
       "      <td>1</td>\n",
       "    </tr>\n",
       "    <tr>\n",
       "      <th>1</th>\n",
       "      <td>1</td>\n",
       "      <td>1</td>\n",
       "    </tr>\n",
       "    <tr>\n",
       "      <th>1</th>\n",
       "      <td>1</td>\n",
       "      <td>1</td>\n",
       "    </tr>\n",
       "    <tr>\n",
       "      <th>1</th>\n",
       "      <td>1</td>\n",
       "      <td>1</td>\n",
       "    </tr>\n",
       "    <tr>\n",
       "      <th>1</th>\n",
       "      <td>1</td>\n",
       "      <td>1</td>\n",
       "    </tr>\n",
       "    <tr>\n",
       "      <th>1</th>\n",
       "      <td>1</td>\n",
       "      <td>1</td>\n",
       "    </tr>\n",
       "    <tr>\n",
       "      <th>1</th>\n",
       "      <td>1</td>\n",
       "      <td>1</td>\n",
       "    </tr>\n",
       "    <tr>\n",
       "      <th>1</th>\n",
       "      <td>1</td>\n",
       "      <td>1</td>\n",
       "    </tr>\n",
       "    <tr>\n",
       "      <th>1</th>\n",
       "      <td>1</td>\n",
       "      <td>1</td>\n",
       "    </tr>\n",
       "  </tbody>\n",
       "</table>\n",
       "</div>"
      ],
      "text/plain": [
       "   1.1  1.2\n",
       "1          \n",
       "1    1    1\n",
       "1    1    1\n",
       "1    1    1\n",
       "1    1    1\n",
       "1    1    1\n",
       "1    1    1\n",
       "1    1    1\n",
       "1    1    1\n",
       "1    1    1\n",
       "1    1    1"
      ]
     },
     "execution_count": 21,
     "metadata": {},
     "output_type": "execute_result"
    }
   ],
   "source": [
    "pd.read_excel('Excel数据.xlsx',\n",
    "           index_col=0,\n",
    "           header=0,\n",
    "           sheet_name=1) "
   ]
  },
  {
   "cell_type": "code",
   "execution_count": 22,
   "id": "520f43f1-35f3-44e5-8414-722adbdb7128",
   "metadata": {},
   "outputs": [
    {
     "data": {
      "text/html": [
       "<div>\n",
       "<style scoped>\n",
       "    .dataframe tbody tr th:only-of-type {\n",
       "        vertical-align: middle;\n",
       "    }\n",
       "\n",
       "    .dataframe tbody tr th {\n",
       "        vertical-align: top;\n",
       "    }\n",
       "\n",
       "    .dataframe thead th {\n",
       "        text-align: right;\n",
       "    }\n",
       "</style>\n",
       "<table border=\"1\" class=\"dataframe\">\n",
       "  <thead>\n",
       "    <tr style=\"text-align: right;\">\n",
       "      <th></th>\n",
       "      <th>1.1</th>\n",
       "      <th>1.2</th>\n",
       "    </tr>\n",
       "    <tr>\n",
       "      <th>1</th>\n",
       "      <th></th>\n",
       "      <th></th>\n",
       "    </tr>\n",
       "  </thead>\n",
       "  <tbody>\n",
       "    <tr>\n",
       "      <th>1</th>\n",
       "      <td>1</td>\n",
       "      <td>1</td>\n",
       "    </tr>\n",
       "    <tr>\n",
       "      <th>1</th>\n",
       "      <td>1</td>\n",
       "      <td>1</td>\n",
       "    </tr>\n",
       "    <tr>\n",
       "      <th>1</th>\n",
       "      <td>1</td>\n",
       "      <td>1</td>\n",
       "    </tr>\n",
       "    <tr>\n",
       "      <th>1</th>\n",
       "      <td>1</td>\n",
       "      <td>1</td>\n",
       "    </tr>\n",
       "    <tr>\n",
       "      <th>1</th>\n",
       "      <td>1</td>\n",
       "      <td>1</td>\n",
       "    </tr>\n",
       "    <tr>\n",
       "      <th>1</th>\n",
       "      <td>1</td>\n",
       "      <td>1</td>\n",
       "    </tr>\n",
       "    <tr>\n",
       "      <th>1</th>\n",
       "      <td>1</td>\n",
       "      <td>1</td>\n",
       "    </tr>\n",
       "    <tr>\n",
       "      <th>1</th>\n",
       "      <td>1</td>\n",
       "      <td>1</td>\n",
       "    </tr>\n",
       "    <tr>\n",
       "      <th>1</th>\n",
       "      <td>1</td>\n",
       "      <td>1</td>\n",
       "    </tr>\n",
       "    <tr>\n",
       "      <th>1</th>\n",
       "      <td>1</td>\n",
       "      <td>1</td>\n",
       "    </tr>\n",
       "  </tbody>\n",
       "</table>\n",
       "</div>"
      ],
      "text/plain": [
       "   1.1  1.2\n",
       "1          \n",
       "1    1    1\n",
       "1    1    1\n",
       "1    1    1\n",
       "1    1    1\n",
       "1    1    1\n",
       "1    1    1\n",
       "1    1    1\n",
       "1    1    1\n",
       "1    1    1\n",
       "1    1    1"
      ]
     },
     "execution_count": 22,
     "metadata": {},
     "output_type": "execute_result"
    }
   ],
   "source": [
    "pd.read_excel(r'D:\\桌面\\python基础语法\\Excel数据.xlsx',\n",
    "           index_col=0,\n",
    "           header=0,\n",
    "           sheet_name=1) "
   ]
  },
  {
   "cell_type": "code",
   "execution_count": null,
   "id": "82f124d8-6493-44d0-96b9-682650d74fb0",
   "metadata": {},
   "outputs": [],
   "source": []
  }
 ],
 "metadata": {
  "kernelspec": {
   "display_name": "Python 3 (ipykernel)",
   "language": "python",
   "name": "python3"
  },
  "language_info": {
   "codemirror_mode": {
    "name": "ipython",
    "version": 3
   },
   "file_extension": ".py",
   "mimetype": "text/x-python",
   "name": "python",
   "nbconvert_exporter": "python",
   "pygments_lexer": "ipython3",
   "version": "3.11.0"
  }
 },
 "nbformat": 4,
 "nbformat_minor": 5
}
