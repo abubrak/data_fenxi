{
 "cells": [
  {
   "cell_type": "code",
   "execution_count": 1,
   "id": "1ea58b7f",
   "metadata": {},
   "outputs": [],
   "source": [
    "import torch"
   ]
  },
  {
   "cell_type": "code",
   "execution_count": null,
   "id": "0fcd1327",
   "metadata": {},
   "outputs": [],
   "source": [
    "import numpy as np\n",
    "import pandas as pd"
   ]
  },
  {
   "cell_type": "code",
   "execution_count": 2,
   "id": "67189d3d",
   "metadata": {},
   "outputs": [
    {
     "data": {
      "text/plain": [
       "tensor(4)"
      ]
     },
     "execution_count": 2,
     "metadata": {},
     "output_type": "execute_result"
    }
   ],
   "source": [
    "torch.tensor(4)"
   ]
  },
  {
   "cell_type": "code",
   "execution_count": 3,
   "id": "f12c0606",
   "metadata": {},
   "outputs": [
    {
     "data": {
      "text/plain": [
       "tensor([1, 2, 3])"
      ]
     },
     "execution_count": 3,
     "metadata": {},
     "output_type": "execute_result"
    }
   ],
   "source": [
    "torch.tensor([1,2,3])"
   ]
  },
  {
   "cell_type": "code",
   "execution_count": 4,
   "id": "87ae2072",
   "metadata": {},
   "outputs": [],
   "source": [
    "ten1=torch.tensor([1,2,3,4])"
   ]
  },
  {
   "cell_type": "code",
   "execution_count": 5,
   "id": "d675a8d0",
   "metadata": {},
   "outputs": [
    {
     "data": {
      "text/plain": [
       "torch.Size([4])"
      ]
     },
     "execution_count": 5,
     "metadata": {},
     "output_type": "execute_result"
    }
   ],
   "source": [
    "ten1.shape #查看尺寸"
   ]
  },
  {
   "cell_type": "code",
   "execution_count": 6,
   "id": "ee8aabde",
   "metadata": {},
   "outputs": [
    {
     "data": {
      "text/plain": [
       "torch.int64"
      ]
     },
     "execution_count": 6,
     "metadata": {},
     "output_type": "execute_result"
    }
   ],
   "source": [
    "ten1.dtype #查看类型"
   ]
  },
  {
   "cell_type": "markdown",
   "id": "391c6abd",
   "metadata": {},
   "source": [
    "## 求导机制"
   ]
  },
  {
   "cell_type": "code",
   "execution_count": 7,
   "id": "754925d8",
   "metadata": {},
   "outputs": [],
   "source": [
    "ten1.grad"
   ]
  },
  {
   "cell_type": "code",
   "execution_count": 8,
   "id": "1fb37c23",
   "metadata": {},
   "outputs": [
    {
     "name": "stdout",
     "output_type": "stream",
     "text": [
      "None\n"
     ]
    }
   ],
   "source": [
    "print(ten1.grad)"
   ]
  },
  {
   "cell_type": "code",
   "execution_count": 9,
   "id": "478a471e",
   "metadata": {
    "scrolled": true
   },
   "outputs": [
    {
     "name": "stdout",
     "output_type": "stream",
     "text": [
      "反向传播前： None None\n",
      "反向传播后： tensor([5.]) tensor([2.])\n"
     ]
    }
   ],
   "source": [
    "x=torch.tensor([2.0],requires_grad=True)  #可以进行梯度回传\n",
    "k=torch.tensor([5.0],requires_grad=True) \n",
    "print('反向传播前：',x.grad,k.grad)\n",
    "y=k*x  #根据给定的数据，设计一个函数\n",
    "y.backward()\n",
    "print('反向传播后：',x.grad,k.grad)"
   ]
  },
  {
   "cell_type": "code",
   "execution_count": null,
   "id": "df719e37",
   "metadata": {},
   "outputs": [],
   "source": [
    "y=k*x\n",
    "y.backward"
   ]
  },
  {
   "cell_type": "code",
   "execution_count": 10,
   "id": "02a39f9e",
   "metadata": {},
   "outputs": [],
   "source": [
    "x=torch.randn(100)\n",
    "y=8*x+9"
   ]
  },
  {
   "cell_type": "code",
   "execution_count": 13,
   "id": "2c74e80b",
   "metadata": {},
   "outputs": [
    {
     "name": "stdout",
     "output_type": "stream",
     "text": [
      "tensor([-13.3436])\n",
      "tensor([-16.5187])\n",
      "tensor([0.])\n",
      "tensor([0.])\n"
     ]
    }
   ],
   "source": [
    "#初始化参数\n",
    "k=torch.tensor([0.0],requires_grad=True) \n",
    "b=torch.tensor([0.0],requires_grad=True) \n",
    "y_pre=k*x+b\n",
    "def loss(y,y_pre):\n",
    "    return torch.sum(torch.square(y-y_pre))/len(y)\n",
    "\n",
    "err=loss(y,y_pre)\n",
    "\n",
    "#反向梯度回传\n",
    "err.backward()\n",
    "#设置学习速率\n",
    "lr=0.02\n",
    "# 更新参数\n",
    "k.data-=lr*k.grad   #k=k-lr*k.grad\n",
    "b.data-=lr*b.grad\n",
    "print(k.grad)\n",
    "print(b.grad)\n",
    "#更新梯度\n",
    "k.grad.data.zero_()\n",
    "b.grad.data.zero_()\n",
    "print(k.grad)\n",
    "print(b.grad)"
   ]
  },
  {
   "cell_type": "markdown",
   "id": "bd6595ff",
   "metadata": {},
   "source": [
    "## 循环迭代"
   ]
  },
  {
   "cell_type": "code",
   "execution_count": 16,
   "id": "4a18aad1",
   "metadata": {},
   "outputs": [
    {
     "name": "stdout",
     "output_type": "stream",
     "text": [
      "0 代： k: 0.26687169075012207 b= 0.3303743004798889 误差值: 127.70856475830078\n",
      "100 代： k: 7.753889083862305 b= 8.783151626586914 误差值: 0.10089340806007385\n",
      "200 代： k: 7.992615699768066 b= 8.994175910949707 误差值: 8.27782423584722e-05\n",
      "300 代： k: 7.999783992767334 b= 8.999837875366211 误差值: 6.811188768551801e-08\n",
      "400 代： k: 7.999992847442627 b= 8.999987602233887 误差值: 1.8530499357183317e-10\n",
      "500 代： k: 7.999992847442627 b= 8.999987602233887 误差值: 1.8530499357183317e-10\n",
      "600 代： k: 7.999992847442627 b= 8.999987602233887 误差值: 1.8530499357183317e-10\n",
      "700 代： k: 7.999992847442627 b= 8.999987602233887 误差值: 1.8530499357183317e-10\n",
      "800 代： k: 7.999992847442627 b= 8.999987602233887 误差值: 1.8530499357183317e-10\n",
      "900 代： k: 7.999992847442627 b= 8.999987602233887 误差值: 1.8530499357183317e-10\n"
     ]
    }
   ],
   "source": [
    "#初始化参数\n",
    "k=torch.tensor([0.0],requires_grad=True) \n",
    "b=torch.tensor([0.0],requires_grad=True) \n",
    "#设置学习速率\n",
    "lr=0.02\n",
    "Err=[]\n",
    "for i in range(1000):\n",
    "    y_pre=k*x+b\n",
    "    err=loss(y,y_pre)\n",
    "    err.backward()\n",
    "    # 更新参数\n",
    "    k.data-=lr*k.grad   #k=k-lr*k.grad\n",
    "    b.data-=lr*b.grad\n",
    "    k.grad.data.zero_()\n",
    "    b.grad.data.zero_()\n",
    "    Err.append(err.item())\n",
    "    if i%100==0:\n",
    "        print(i,'代：','k:',k.item(),'b=',b.item(),'误差值:',err.item())"
   ]
  },
  {
   "cell_type": "code",
   "execution_count": null,
   "id": "d7a5fd4d",
   "metadata": {},
   "outputs": [],
   "source": [
    "#pip install matplotlib"
   ]
  },
  {
   "cell_type": "code",
   "execution_count": null,
   "id": "1ea5239f",
   "metadata": {},
   "outputs": [],
   "source": [
    "#pip install pandas"
   ]
  },
  {
   "cell_type": "code",
   "execution_count": 24,
   "id": "4c86a845",
   "metadata": {},
   "outputs": [
    {
     "data": {
      "text/plain": [
       "<function matplotlib.pyplot.show(close=None, block=None)>"
      ]
     },
     "execution_count": 24,
     "metadata": {},
     "output_type": "execute_result"
    },
    {
     "data": {
      "image/png": "[encoded data removed]",
      "text/plain": [
       "<Figure size 640x480 with 1 Axes>"
      ]
     },
     "metadata": {},
     "output_type": "display_data"
    }
   ],
   "source": [
    "import matplotlib.pyplot as plt\n",
    "plt.plot(Err)\n",
    "plt.show"
   ]
  }
 ],
 "metadata": {
  "kernelspec": {
   "display_name": "torch2",
   "language": "python",
   "name": "torch2"
  },
  "language_info": {
   "codemirror_mode": {
    "name": "ipython",
    "version": 3
   },
   "file_extension": ".py",
   "mimetype": "text/x-python",
   "name": "python",
   "nbconvert_exporter": "python",
   "pygments_lexer": "ipython3",
   "version": "3.9.21"
  }
 },
 "nbformat": 4,
 "nbformat_minor": 5
}
