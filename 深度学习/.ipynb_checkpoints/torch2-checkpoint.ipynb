{
 "cells": [
  {
   "cell_type": "code",
   "execution_count": 1,
   "id": "1ea58b7f",
   "metadata": {},
   "outputs": [],
   "source": [
    "import torch"
   ]
  },
  {
   "cell_type": "code",
   "execution_count": 2,
   "id": "0fcd1327",
   "metadata": {},
   "outputs": [],
   "source": [
    "import numpy as np\n",
    "import pandas as pd"
   ]
  },
  {
   "cell_type": "code",
   "execution_count": 3,
   "id": "67189d3d",
   "metadata": {},
   "outputs": [
    {
     "data": {
      "text/plain": [
       "tensor(4)"
      ]
     },
     "execution_count": 3,
     "metadata": {},
     "output_type": "execute_result"
    }
   ],
   "source": [
    "torch.tensor(4)"
   ]
  },
  {
   "cell_type": "code",
   "execution_count": 4,
   "id": "f12c0606",
   "metadata": {},
   "outputs": [
    {
     "data": {
      "text/plain": [
       "tensor([1, 2, 3])"
      ]
     },
     "execution_count": 4,
     "metadata": {},
     "output_type": "execute_result"
    }
   ],
   "source": [
    "torch.tensor([1,2,3])"
   ]
  },
  {
   "cell_type": "code",
   "execution_count": 5,
   "id": "87ae2072",
   "metadata": {},
   "outputs": [],
   "source": [
    "ten1=torch.tensor([1,2,3,4])"
   ]
  },
  {
   "cell_type": "code",
   "execution_count": 6,
   "id": "d675a8d0",
   "metadata": {},
   "outputs": [
    {
     "data": {
      "text/plain": [
       "torch.Size([4])"
      ]
     },
     "execution_count": 6,
     "metadata": {},
     "output_type": "execute_result"
    }
   ],
   "source": [
    "ten1.shape #查看尺寸"
   ]
  },
  {
   "cell_type": "code",
   "execution_count": 7,
   "id": "ee8aabde",
   "metadata": {},
   "outputs": [
    {
     "data": {
      "text/plain": [
       "torch.int64"
      ]
     },
     "execution_count": 7,
     "metadata": {},
     "output_type": "execute_result"
    }
   ],
   "source": [
    "ten1.dtype #查看类型"
   ]
  },
  {
   "cell_type": "markdown",
   "id": "391c6abd",
   "metadata": {},
   "source": [
    "## 求导机制"
   ]
  },
  {
   "cell_type": "code",
   "execution_count": 8,
   "id": "754925d8",
   "metadata": {},
   "outputs": [],
   "source": [
    "ten1.grad"
   ]
  },
  {
   "cell_type": "code",
   "execution_count": 9,
   "id": "1fb37c23",
   "metadata": {},
   "outputs": [
    {
     "name": "stdout",
     "output_type": "stream",
     "text": [
      "None\n"
     ]
    }
   ],
   "source": [
    "print(ten1.grad)"
   ]
  },
  {
   "cell_type": "code",
   "execution_count": 10,
   "id": "478a471e",
   "metadata": {
    "scrolled": true
   },
   "outputs": [
    {
     "name": "stdout",
     "output_type": "stream",
     "text": [
      "反向传播前： None None\n",
      "反向传播后： tensor([5.]) tensor([2.])\n"
     ]
    }
   ],
   "source": [
    "x=torch.tensor([2.0],requires_grad=True)  #可以进行梯度回传\n",
    "k=torch.tensor([5.0],requires_grad=True) \n",
    "print('反向传播前：',x.grad,k.grad)\n",
    "y=k*x  #根据给定的数据，设计一个函数\n",
    "y.backward()\n",
    "print('反向传播后：',x.grad,k.grad)"
   ]
  },
  {
   "cell_type": "code",
   "execution_count": 11,
   "id": "2c90b109-e018-40b2-bd6e-37adf7f05734",
   "metadata": {},
   "outputs": [],
   "source": [
    "#y.backward()要清空，否则积累，会报错"
   ]
  },
  {
   "cell_type": "code",
   "execution_count": 12,
   "id": "df719e37",
   "metadata": {},
   "outputs": [
    {
     "data": {
      "text/plain": [
       "<bound method Tensor.backward of tensor([10.], grad_fn=<MulBackward0>)>"
      ]
     },
     "execution_count": 12,
     "metadata": {},
     "output_type": "execute_result"
    }
   ],
   "source": [
    "y=k*x\n",
    "y.backward"
   ]
  },
  {
   "cell_type": "code",
   "execution_count": 13,
   "id": "02a39f9e",
   "metadata": {},
   "outputs": [],
   "source": [
    "x=torch.randn(100)\n",
    "y=8*x+9"
   ]
  },
  {
   "cell_type": "code",
   "execution_count": 14,
   "id": "2c74e80b",
   "metadata": {},
   "outputs": [
    {
     "name": "stdout",
     "output_type": "stream",
     "text": [
      "tensor([-17.6262])\n",
      "tensor([-19.5343])\n",
      "tensor([0.])\n",
      "tensor([0.])\n"
     ]
    }
   ],
   "source": [
    "#初始化参数\n",
    "k=torch.tensor([0.0],requires_grad=True) \n",
    "b=torch.tensor([0.0],requires_grad=True) \n",
    "y_pre=k*x+b\n",
    "def loss(y,y_pre):\n",
    "    return torch.sum(torch.square(y-y_pre))/len(y)\n",
    "\n",
    "err=loss(y,y_pre)\n",
    "\n",
    "#反向梯度回传\n",
    "err.backward()\n",
    "#设置学习速率\n",
    "lr=0.02\n",
    "# 更新参数\n",
    "k.data-=lr*k.grad   #k=k-lr*k.grad\n",
    "b.data-=lr*b.grad\n",
    "print(k.grad)\n",
    "print(b.grad)\n",
    "#更新梯度\n",
    "k.grad.data.zero_()\n",
    "b.grad.data.zero_()\n",
    "print(k.grad)\n",
    "print(b.grad)"
   ]
  },
  {
   "cell_type": "markdown",
   "id": "bd6595ff",
   "metadata": {},
   "source": [
    "## 循环迭代"
   ]
  },
  {
   "cell_type": "code",
   "execution_count": 15,
   "id": "4a18aad1",
   "metadata": {},
   "outputs": [
    {
     "name": "stdout",
     "output_type": "stream",
     "text": [
      "0 代： k: 0.35252395272254944 b= 0.390685498714447 误差值: 158.40902709960938\n",
      "100 代： k: 7.917397499084473 b= 8.896611213684082 误差值: 0.020891932770609856\n",
      "200 代： k: 7.999180793762207 b= 8.99869155883789 误差值: 2.8252800348127494e-06\n",
      "300 代： k: 7.999993801116943 b= 8.999980926513672 误差值: 4.73414751844814e-10\n",
      "400 代： k: 7.999995708465576 b= 8.999988555908203 误差值: 1.5700379885075222e-10\n",
      "500 代： k: 7.999995708465576 b= 8.999988555908203 误差值: 1.5700379885075222e-10\n",
      "600 代： k: 7.999995708465576 b= 8.999988555908203 误差值: 1.5700379885075222e-10\n",
      "700 代： k: 7.999995708465576 b= 8.999988555908203 误差值: 1.5700379885075222e-10\n",
      "800 代： k: 7.999995708465576 b= 8.999988555908203 误差值: 1.5700379885075222e-10\n",
      "900 代： k: 7.999995708465576 b= 8.999988555908203 误差值: 1.5700379885075222e-10\n"
     ]
    }
   ],
   "source": [
    "#初始化参数\n",
    "k=torch.tensor([0.0],requires_grad=True) \n",
    "b=torch.tensor([0.0],requires_grad=True) \n",
    "#设置学习速率\n",
    "lr=0.02\n",
    "Err=[]\n",
    "for i in range(1000):\n",
    "    y_pre=k*x+b\n",
    "    err=loss(y,y_pre)\n",
    "    err.backward()\n",
    "    # 更新参数\n",
    "    k.data-=lr*k.grad   #k=k-lr*k.grad\n",
    "    b.data-=lr*b.grad\n",
    "    k.grad.data.zero_()\n",
    "    b.grad.data.zero_()\n",
    "    Err.append(err.item())\n",
    "    if i%100==0:\n",
    "        print(i,'代：','k:',k.item(),'b=',b.item(),'误差值:',err.item())"
   ]
  },
  {
   "cell_type": "code",
   "execution_count": 16,
   "id": "d7a5fd4d",
   "metadata": {},
   "outputs": [],
   "source": [
    "#pip install matplotlib"
   ]
  },
  {
   "cell_type": "code",
   "execution_count": 17,
   "id": "1ea5239f",
   "metadata": {},
   "outputs": [],
   "source": [
    "#pip install pandas"
   ]
  },
  {
   "cell_type": "code",
   "execution_count": 18,
   "id": "4c86a845",
   "metadata": {
    "scrolled": true
   },
   "outputs": [
    {
     "data": {
      "text/plain": [
       "<function matplotlib.pyplot.show(close=None, block=None)>"
      ]
     },
     "execution_count": 18,
     "metadata": {},
     "output_type": "execute_result"
    },
    {
     "data": {
      "image/png": "[encoded data removed]",
      "text/plain": [
       "<Figure size 640x480 with 1 Axes>"
      ]
     },
     "metadata": {},
     "output_type": "display_data"
    }
   ],
   "source": [
    "import matplotlib.pyplot as plt\n",
    "plt.plot(Err)\n",
    "plt.show"
   ]
  },
  {
   "cell_type": "code",
   "execution_count": 19,
   "id": "f491fcbb",
   "metadata": {},
   "outputs": [
    {
     "data": {
      "text/plain": [
       "(torch.Size([100, 3]), torch.Size([100]))"
      ]
     },
     "execution_count": 19,
     "metadata": {},
     "output_type": "execute_result"
    }
   ],
   "source": [
    "XBP=torch.randn((100,3))\n",
    "YBP=torch.sum(XBP*torch.tensor([1,2,3])+4,axis=1)#设置线性模型\n",
    "XBP.shape,YBP.shape"
   ]
  },
  {
   "cell_type": "code",
   "execution_count": 20,
   "id": "23a1146c",
   "metadata": {},
   "outputs": [],
   "source": [
    "from torch import nn\n",
    "import torch.optim as optim\n",
    "import warnings\n",
    "warnings.filterwarnings('ignore')"
   ]
  },
  {
   "cell_type": "markdown",
   "id": "3a8d3e50",
   "metadata": {},
   "source": [
    "## 模型搭建"
   ]
  },
  {
   "cell_type": "code",
   "execution_count": 21,
   "id": "1f09601b",
   "metadata": {},
   "outputs": [],
   "source": [
    "BPmodel=nn.Sequential(\n",
    "nn.Linear(3,100),   #输入神经元个数，隐层神经元个数\n",
    "nn.Softmax(),\n",
    "nn.Linear(100,1)    #隐层神经元个数，输出神经元个数\n",
    ")\n",
    "loss_mes=nn.MSELoss()\n",
    "optimizer=optim.SGD(BPmodel.parameters(),lr=0.001)"
   ]
  },
  {
   "cell_type": "markdown",
   "id": "e6c2fb86",
   "metadata": {},
   "source": [
    "## 模型训练"
   ]
  },
  {
   "cell_type": "code",
   "execution_count": 23,
   "id": "0c1f9ce8",
   "metadata": {
    "scrolled": true
   },
   "outputs": [
    {
     "name": "stdout",
     "output_type": "stream",
     "text": [
      "0 代 误差是： 19.206283569335938\n",
      "50 代 误差是： 18.751859664916992\n",
      "100 代 误差是： 18.3807373046875\n",
      "150 代 误差是： 18.077640533447266\n",
      "200 代 误差是： 17.830106735229492\n",
      "250 代 误差是： 17.62794303894043\n",
      "300 代 误差是： 17.462844848632812\n",
      "350 代 误差是： 17.328006744384766\n",
      "400 代 误差是： 17.21788215637207\n",
      "450 代 误差是： 17.127944946289062\n",
      "500 代 误差是： 17.054492950439453\n",
      "550 代 误差是： 16.994504928588867\n",
      "600 代 误差是： 16.94550895690918\n",
      "650 代 误差是： 16.905498504638672\n",
      "700 代 误差是： 16.872821807861328\n",
      "750 代 误差是： 16.846134185791016\n",
      "800 代 误差是： 16.8243350982666\n",
      "850 代 误差是： 16.806533813476562\n",
      "900 代 误差是： 16.79199981689453\n",
      "950 代 误差是： 16.78013038635254\n",
      "1000 代 误差是： 16.77043342590332\n"
     ]
    },
    {
     "data": {
      "image/png": "[encoded data removed]",
      "text/plain": [
       "<Figure size 640x480 with 1 Axes>"
      ]
     },
     "metadata": {},
     "output_type": "display_data"
    }
   ],
   "source": [
    "loss_data=[]\n",
    "for i in range(1001):\n",
    "    output=BPmodel(XBP)#计算预测值\n",
    "    loss=loss_mes(output,YBP)  #计算误差\n",
    "    optimizer.zero_grad()#清空梯度\n",
    "    loss.backward()#误差回传\n",
    "    optimizer.step()#更新参数\n",
    "    if i % 50==0:\n",
    "        print(i,'代','误差是：',loss.item())\n",
    "    loss_data.append(loss.item())\n",
    "plt.plot(loss_data)\n",
    "plt.show()\n",
    "    "
   ]
  },
  {
   "cell_type": "markdown",
   "id": "5f87bf93",
   "metadata": {},
   "source": [
    "## 模型预测"
   ]
  },
  {
   "cell_type": "code",
   "execution_count": 24,
   "id": "88a0f871",
   "metadata": {},
   "outputs": [
    {
     "data": {
      "image/png": "[encoded data removed]",
      "text/plain": [
       "<Figure size 640x480 with 1 Axes>"
      ]
     },
     "metadata": {},
     "output_type": "display_data"
    }
   ],
   "source": [
    "output=BPmodel(XBP)\n",
    "plt.figure()\n",
    "plt.plot(YBP.numpy(),'b-')\n",
    "plt.plot(output.detach().numpy(),'r:')\n",
    "plt.show()"
   ]
  },
  {
   "cell_type": "code",
   "execution_count": null,
   "id": "06a5f1ae",
   "metadata": {},
   "outputs": [],
   "source": []
  },
  {
   "cell_type": "code",
   "execution_count": null,
   "id": "57b7ec38",
   "metadata": {},
   "outputs": [],
   "source": []
  }
 ],
 "metadata": {
  "kernelspec": {
   "display_name": "torch2",
   "language": "python",
   "name": "torch2"
  },
  "language_info": {
   "codemirror_mode": {
    "name": "ipython",
    "version": 3
   },
   "file_extension": ".py",
   "mimetype": "text/x-python",
   "name": "python",
   "nbconvert_exporter": "python",
   "pygments_lexer": "ipython3",
   "version": "3.9.21"
  }
 },
 "nbformat": 4,
 "nbformat_minor": 5
}
