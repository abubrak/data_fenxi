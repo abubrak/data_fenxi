{
 "cells": [
  {
   "cell_type": "code",
   "execution_count": 1,
   "id": "16fbd500",
   "metadata": {},
   "outputs": [],
   "source": [
    "import numpy as np\n",
    "import os\n",
    "import matplotlib.pyplot as plt"
   ]
  },
  {
   "cell_type": "markdown",
   "id": "1f37da7b",
   "metadata": {},
   "source": [
    "## 获取图片名称"
   ]
  },
  {
   "cell_type": "code",
   "execution_count": 2,
   "id": "4a741b76",
   "metadata": {},
   "outputs": [
    {
     "data": {
      "text/plain": [
       "['0.jpg',\n",
       " '1.jpg',\n",
       " '2.jpg',\n",
       " '3.jpg',\n",
       " '4.jpg',\n",
       " '5.jpg',\n",
       " '6.jpg',\n",
       " '7.jpg',\n",
       " '8.jpg',\n",
       " '9.jpg']"
      ]
     },
     "execution_count": 2,
     "metadata": {},
     "output_type": "execute_result"
    }
   ],
   "source": [
    "pic_name_list=os.listdir('data')\n",
    "pic_name_list"
   ]
  },
  {
   "cell_type": "markdown",
   "id": "5df839ac",
   "metadata": {},
   "source": [
    "## 图片预处理"
   ]
  },
  {
   "cell_type": "markdown",
   "id": "fd6b2ed5",
   "metadata": {},
   "source": [
    "### 定义图片裁剪函数"
   ]
  },
  {
   "cell_type": "code",
   "execution_count": 3,
   "id": "618298ce",
   "metadata": {},
   "outputs": [],
   "source": [
    "def pic_cut(pic_name):\n",
    "    pic=plt.imread(f'data/{pic_name}')\n",
    "    N,M,D=pic.shape\n",
    "    Npic_=pic[135:2825,150:1950]#\n",
    "    return Npic_"
   ]
  },
  {
   "cell_type": "markdown",
   "id": "f3afe4a7",
   "metadata": {},
   "source": [
    "### 定义图片分割函数"
   ]
  },
  {
   "cell_type": "code",
   "execution_count": 4,
   "id": "b63bc626",
   "metadata": {},
   "outputs": [],
   "source": [
    "def pic_split(Npic):\n",
    "    pic_data_=[]\n",
    "    M,N,D=Npic.shape\n",
    "    for i in range(5):\n",
    "        for j in range(10):\n",
    "            pic_new=Npic[270*j:(270*(j+1)),360*i:(360*(i+1)),:]\n",
    "            pic_data_.append(pic_new)\n",
    "    return pic_data_"
   ]
  },
  {
   "cell_type": "markdown",
   "id": "7c747ede",
   "metadata": {},
   "source": [
    "### 颜色矩识别"
   ]
  },
  {
   "cell_type": "code",
   "execution_count": 5,
   "id": "df875aae",
   "metadata": {},
   "outputs": [],
   "source": [
    "# 求颜色通道的三阶颜色矩\n",
    "def var(rd):\n",
    "    mid=np.mean((rd-rd.mean())**3)\n",
    "    return np.sign(mid)*abs(mid)**(1/3) #sign取正负号\n"
   ]
  },
  {
   "cell_type": "code",
   "execution_count": 6,
   "id": "a447d8e4",
   "metadata": {},
   "outputs": [],
   "source": [
    "# 定义数据存放空间\n",
    "data=[]\n",
    "labels=[]\n",
    "for pic_name in pic_name_list:\n",
    "    #提取图片标签信息\n",
    "    label=int(pic_name.replace('.jpg',''))\n",
    "    #对图片进行裁剪\n",
    "    Npic=pic_cut(pic_name)\n",
    "    #对图片进行分割\n",
    "    pic_set=pic_split(Npic)\n",
    "    for pic_s in pic_set:\n",
    "        rd=pic_s[:,:,0]\n",
    "        gd=pic_s[:,:,1]\n",
    "        bd=pic_s[:,:,2]\n",
    "        data.append([rd.mean(),gd.mean(),bd.mean(),\n",
    "                     rd.std(),gd.std(),bd.std(),\n",
    "                     var(rd), var(gd), var(bd)])\n",
    "        #记录标签信息\n",
    "        labels.append(label)"
   ]
  },
  {
   "cell_type": "markdown",
   "id": "571b34a6",
   "metadata": {},
   "source": [
    "### 数据转换"
   ]
  },
  {
   "cell_type": "code",
   "execution_count": 7,
   "id": "4aa26ef4",
   "metadata": {},
   "outputs": [],
   "source": [
    "data=np.array(data)\n",
    "labels=np.array(labels)"
   ]
  },
  {
   "cell_type": "code",
   "execution_count": 8,
   "id": "3b42c853",
   "metadata": {
    "scrolled": true
   },
   "outputs": [],
   "source": [
    "#pip install scikit-learn"
   ]
  },
  {
   "cell_type": "markdown",
   "id": "c1b7ad3d",
   "metadata": {},
   "source": [
    "### 数据划分"
   ]
  },
  {
   "cell_type": "code",
   "execution_count": 9,
   "id": "42ec47d8",
   "metadata": {},
   "outputs": [],
   "source": [
    "from sklearn.model_selection import train_test_split\n",
    "from sklearn.tree import DecisionTreeClassifier\n",
    "from sklearn.metrics import confusion_matrix,classification_report"
   ]
  },
  {
   "cell_type": "code",
   "execution_count": 10,
   "id": "2502383e",
   "metadata": {},
   "outputs": [],
   "source": [
    "#将样本划分为训练集与测试集\n",
    "data_tr,data_te,labels_tr,label_te=train_test_split(data,labels,train_size=0.8)\n"
   ]
  },
  {
   "cell_type": "markdown",
   "id": "4200fac1",
   "metadata": {},
   "source": [
    "## 训练模型并预测"
   ]
  },
  {
   "cell_type": "code",
   "execution_count": 11,
   "id": "a78dc8fb",
   "metadata": {},
   "outputs": [
    {
     "name": "stdout",
     "output_type": "stream",
     "text": [
      "              precision    recall  f1-score   support\n",
      "\n",
      "           0       0.59      0.62      0.61        16\n",
      "           1       0.62      0.71      0.67         7\n",
      "           2       0.67      0.60      0.63        10\n",
      "           3       0.80      0.57      0.67         7\n",
      "           4       0.57      0.57      0.57        14\n",
      "           5       0.40      0.40      0.40         5\n",
      "           6       0.54      0.54      0.54        13\n",
      "           7       0.38      0.71      0.50         7\n",
      "           8       0.67      0.46      0.55        13\n",
      "           9       0.71      0.62      0.67         8\n",
      "\n",
      "    accuracy                           0.58       100\n",
      "   macro avg       0.60      0.58      0.58       100\n",
      "weighted avg       0.60      0.58      0.58       100\n",
      "\n"
     ]
    }
   ],
   "source": [
    "dtc=DecisionTreeClassifier().fit(data_tr,labels_tr)\n",
    "pre=dtc.predict(data_te)\n",
    "sum(pre==label_te)/len(pre)\n",
    "confusion_matrix(pre,label_te)\n",
    "print(classification_report(pre,label_te))"
   ]
  },
  {
   "cell_type": "markdown",
   "id": "742ea843",
   "metadata": {},
   "source": [
    "# 基于BP神经网络实现"
   ]
  },
  {
   "cell_type": "markdown",
   "id": "bb04f983",
   "metadata": {},
   "source": [
    "## 图片预处理"
   ]
  },
  {
   "cell_type": "code",
   "execution_count": 12,
   "id": "ae960cb1",
   "metadata": {},
   "outputs": [],
   "source": [
    "#pip install opencv-python"
   ]
  },
  {
   "cell_type": "code",
   "execution_count": 13,
   "id": "a387f6a5",
   "metadata": {},
   "outputs": [],
   "source": [
    "import cv2"
   ]
  },
  {
   "cell_type": "code",
   "execution_count": 14,
   "id": "fe729e75",
   "metadata": {},
   "outputs": [],
   "source": [
    "# 定义数据存放空间\n",
    "data=[]\n",
    "labels=[]\n",
    "for pic_name in pic_name_list:\n",
    "    #提取图片标签信息\n",
    "    label=int(pic_name.replace('.jpg',''))\n",
    "    #对图片进行裁剪\n",
    "    Npic=pic_cut(pic_name)\n",
    "    #对图片进行分割\n",
    "    pic_set=pic_split(Npic)\n",
    "    for pic_s in pic_set:\n",
    "        #对裁剪图片灰度化处理\n",
    "        gray_pic=cv2.cvtColor(pic_s,cv2.COLOR_BGR2GRAY)\n",
    "        #对图片进行二值化处理\n",
    "        #127阈值，像素低于127设置为0（黑色），高于或等于127设置为255（百）\n",
    "        _,binary_pic=cv2.threshold(gray_pic,127,255,cv2.THRESH_BINARY)\n",
    "        #修改图片尺寸\n",
    "        pic_resize=cv2.resize(binary_pic,(64,64))/255\n",
    "        #记录图片数据\n",
    "        data.append(pic_resize)\n",
    "        #记录图片标签\n",
    "        labels.append(label)"
   ]
  },
  {
   "cell_type": "code",
   "execution_count": 15,
   "id": "8b12c63d",
   "metadata": {},
   "outputs": [],
   "source": [
    "#数据转换（只有数组才能转换成tensor）\n",
    "data=np.array(data)\n",
    "labels=np.array(labels)"
   ]
  },
  {
   "cell_type": "code",
   "execution_count": 16,
   "id": "ce5e741a",
   "metadata": {},
   "outputs": [],
   "source": [
    "#将样本划分为训练集与测试集\n",
    "data_tr,data_te,labels_tr,labels_te=train_test_split(data,labels,train_size=0.8)"
   ]
  },
  {
   "cell_type": "markdown",
   "id": "ded837bd",
   "metadata": {},
   "source": [
    "## 建立BP神经网络并训练"
   ]
  },
  {
   "cell_type": "code",
   "execution_count": 17,
   "id": "2a90707b",
   "metadata": {},
   "outputs": [],
   "source": [
    "import torch\n",
    "import torch.nn as nn\n",
    "import torch.optim as optim\n",
    "from torch.utils.data import TensorDataset,DataLoader"
   ]
  },
  {
   "cell_type": "code",
   "execution_count": 18,
   "id": "283a1ac3",
   "metadata": {},
   "outputs": [],
   "source": [
    "# 利用类自定义网络\n",
    "class Net(nn.Module):\n",
    "    def __init__(self):\n",
    "        super().__init__()\n",
    "        #全连接层，可修改\n",
    "        self.fc1=torch.nn.Linear(64*64,500)\n",
    "        self.fc2=torch.nn.Linear(500,128)\n",
    "        self.fc3=torch.nn.Linear(128,64)\n",
    "        self.fc4=torch.nn.Linear(64,10)    #输出为分类数\n",
    "        \n",
    "        \n",
    "    #向前传播，输入数据为图片处理后张量\n",
    "    def forward(self,x):\n",
    "        x=torch.nn.functional.relu(self.fc1(x))\n",
    "        x=torch.nn.functional.relu(self.fc2(x))\n",
    "        x=torch.nn.functional.relu(self.fc3(x))\n",
    "        x=self.fc4(x)\n",
    "        return x"
   ]
  },
  {
   "cell_type": "code",
   "execution_count": 19,
   "id": "9bf8633c-0e7b-4e97-a7e4-cfcf5c3e62be",
   "metadata": {},
   "outputs": [
    {
     "name": "stdout",
     "output_type": "stream",
     "text": [
      "Net(\n",
      "  (fc1): Linear(in_features=4096, out_features=500, bias=True)\n",
      "  (fc2): Linear(in_features=500, out_features=128, bias=True)\n",
      "  (fc3): Linear(in_features=128, out_features=64, bias=True)\n",
      "  (fc4): Linear(in_features=64, out_features=10, bias=True)\n",
      ")\n"
     ]
    }
   ],
   "source": [
    "# 实例化模型\n",
    "model=Net()\n",
    "print(model)"
   ]
  },
  {
   "cell_type": "markdown",
   "id": "7b622001-cf58-4ccf-815d-7aa6d441f229",
   "metadata": {},
   "source": [
    "## 定义损失函数和优化器"
   ]
  },
  {
   "cell_type": "code",
   "execution_count": 20,
   "id": "70ecf939-371c-4958-8612-b320fd3e42f6",
   "metadata": {},
   "outputs": [],
   "source": [
    "\n",
    "# 损失函数\n",
    "criterion=nn.CrossEntropyLoss()\n",
    "# 优化器\n",
    "optimizer=optim.Adam(model.parameters(),lr=0.001)"
   ]
  },
  {
   "cell_type": "markdown",
   "id": "9ab76dbb-a41a-4f4a-820b-0cd2d9fb10f9",
   "metadata": {},
   "source": [
    "### 数据转换"
   ]
  },
  {
   "cell_type": "code",
   "execution_count": 21,
   "id": "fe3cfd12-ceca-4971-bbc4-2636c00536d8",
   "metadata": {},
   "outputs": [],
   "source": [
    "# 将data和label从ndarray转换成模型能接受的张量\n",
    "data_tr_tensor=torch.tensor(data_tr).float()\n",
    "data_te_tensor=torch.tensor(data_te).float()\n",
    "labels_tr_tensor=torch.tensor(labels_tr).long()\n",
    "labels_te_tensor=torch.tensor(labels_te).long()"
   ]
  },
  {
   "cell_type": "code",
   "execution_count": 22,
   "id": "5a5441b9-7552-42e3-8c8c-f20ab484d741",
   "metadata": {},
   "outputs": [],
   "source": [
    "# 创建tensorDataset对象\n",
    "train_dataset=TensorDataset(data_tr_tensor,labels_tr_tensor)\n",
    "test_dataset=TensorDataset(data_te_tensor,labels_te_tensor)\n"
   ]
  },
  {
   "cell_type": "code",
   "execution_count": 23,
   "id": "ac728376-e565-45b2-bd1e-9c12e7bf32f0",
   "metadata": {},
   "outputs": [],
   "source": [
    "# 创建DataLoader对象  batch_size一次放入样本数量，shuffle打乱样本顺序，提供模型泛化能力\n",
    "train_loader=DataLoader(train_dataset,batch_size=30,shuffle=True)\n",
    "test_loader=DataLoader(test_dataset,batch_size=30,shuffle=True)"
   ]
  },
  {
   "cell_type": "markdown",
   "id": "161c0652-56b6-484f-8496-ca05b2e52e91",
   "metadata": {},
   "source": [
    "## 定义函数去评估模型效果"
   ]
  },
  {
   "cell_type": "code",
   "execution_count": 24,
   "id": "b9742010-7d93-43e9-b624-4592e188d27d",
   "metadata": {},
   "outputs": [],
   "source": [
    "def evaluate(test_data,net):\n",
    "    n_correct=0\n",
    "    n_total=0\n",
    "    #禁止梯度回传\n",
    "    with torch.no_grad():\n",
    "        for (x,y) in test_data:  #x(batch_size,channels,height,weight)30*1*64*64\n",
    "            output=net.forward(x.view(-1,64*64))  #-1自动计算该纬度的大小，保持数据元\n",
    "            for i,output in enumerate(output):\n",
    "                if torch.argmax(output)==y[i]:#取得概率最大的标签值\n",
    "                    n_correct+=1\n",
    "                n_total+=1\n",
    "    return n_correct/n_total\n",
    "                "
   ]
  },
  {
   "cell_type": "markdown",
   "id": "6231c350-10ad-41f9-9814-abe92226dbde",
   "metadata": {},
   "source": [
    "### 训练模型"
   ]
  },
  {
   "cell_type": "code",
   "execution_count": 25,
   "id": "d55ddd24-4598-4e47-97a7-621acd82b358",
   "metadata": {},
   "outputs": [
    {
     "name": "stdout",
     "output_type": "stream",
     "text": [
      "Epoch 1 accuray: 0.0600\n",
      "Epoch 11 accuray: 0.1700\n",
      "Epoch 21 accuray: 0.3300\n",
      "Epoch 31 accuray: 0.4900\n",
      "Epoch 41 accuray: 0.4800\n",
      "Epoch 51 accuray: 0.4500\n",
      "Epoch 61 accuray: 0.5600\n"
     ]
    }
   ],
   "source": [
    "for i in range(61):\n",
    "    for batch_idx,(data,label) in enumerate(train_loader):\n",
    "        #清空梯度\n",
    "        optimizer.zero_grad()\n",
    "        \n",
    "        data=data.view(-1,64*64)\n",
    "        outputs=model(data)\n",
    "        loss=criterion(outputs,label)\n",
    "        \n",
    "        loss.backward()\n",
    "        \n",
    "        optimizer.step()\n",
    "        \n",
    "    current_accuracy=evaluate(test_loader,model)\n",
    "    if i % 10 ==0:\n",
    "        print(f'Epoch {i+1} accuray: {current_accuracy:.4f}')"
   ]
  },
  {
   "cell_type": "markdown",
   "id": "0a139925-d364-48df-9504-49440f606ddc",
   "metadata": {},
   "source": [
    "### 预测数据"
   ]
  },
  {
   "cell_type": "code",
   "execution_count": 26,
   "id": "5089e1d0-7fde-4f8e-a100-f91cb3051a50",
   "metadata": {},
   "outputs": [
    {
     "name": "stdout",
     "output_type": "stream",
     "text": [
      "tensor([6, 2, 0, 6, 9, 1, 6, 5, 1, 7, 0, 1, 9, 1, 7, 3, 5, 8, 7, 2, 4, 7, 7, 6,\n",
      "        2, 2, 8, 9, 0, 4, 0, 7, 1, 8, 1, 3, 3, 9, 8, 0, 6, 3, 0, 7, 7, 8, 0, 5,\n",
      "        7, 2, 8, 5, 5, 5, 3, 2, 6, 4, 0, 5, 9, 7, 6, 8, 3, 4, 4, 1, 0, 9, 3, 4,\n",
      "        6, 1, 9, 0, 0, 5, 6, 6, 3, 0, 5, 9, 7, 7, 6, 7, 0, 2, 3, 2, 4, 5, 4, 6,\n",
      "        3, 5, 6, 1])\n",
      "tensor([8, 2, 5, 5, 8, 1, 4, 9, 1, 9, 5, 0, 9, 1, 7, 2, 5, 8, 7, 2, 3, 7, 7, 2,\n",
      "        2, 2, 9, 9, 4, 4, 5, 7, 6, 8, 1, 3, 9, 9, 8, 8, 3, 0, 0, 1, 7, 8, 6, 1,\n",
      "        7, 3, 8, 5, 5, 9, 5, 1, 6, 4, 7, 5, 9, 7, 2, 8, 3, 4, 4, 6, 1, 9, 6, 4,\n",
      "        0, 1, 4, 2, 8, 5, 6, 4, 3, 7, 5, 9, 9, 7, 6, 7, 0, 2, 9, 9, 4, 7, 4, 6,\n",
      "        2, 5, 1, 1])\n"
     ]
    }
   ],
   "source": [
    "label_pre=torch.argmax(model(data_te_tensor.view(-1,64*64)),dim=1)\n",
    "print(label_pre)\n",
    "print(labels_te_tensor)"
   ]
  },
  {
   "cell_type": "code",
   "execution_count": 27,
   "id": "7df9deff-a505-4458-9400-f858ce52b40d",
   "metadata": {
    "scrolled": true
   },
   "outputs": [
    {
     "name": "stdout",
     "output_type": "stream",
     "text": [
      "              precision    recall  f1-score   support\n",
      "\n",
      "           0       0.40      0.15      0.22        13\n",
      "           1       0.55      0.67      0.60         9\n",
      "           2       0.50      0.62      0.56         8\n",
      "           3       0.50      0.30      0.38        10\n",
      "           4       0.64      0.88      0.74         8\n",
      "           5       0.58      0.64      0.61        11\n",
      "           6       0.50      0.31      0.38        13\n",
      "           7       0.77      0.77      0.77        13\n",
      "           8       0.60      0.86      0.71         7\n",
      "           9       0.43      0.75      0.55         8\n",
      "\n",
      "    accuracy                           0.56       100\n",
      "   macro avg       0.55      0.59      0.55       100\n",
      "weighted avg       0.55      0.56      0.53       100\n",
      "\n"
     ]
    }
   ],
   "source": [
    "# 计算精度\n",
    "sum(labels_te_tensor==label_pre)/len(label_pre)\n",
    "\n",
    "#混淆矩阵\n",
    "confusion_matrix(label_pre,labels_te_tensor)\n",
    "#分类性能报告\n",
    "print(classification_report(label_pre,labels_te_tensor))"
   ]
  },
  {
   "cell_type": "markdown",
   "id": "707ecbd2",
   "metadata": {},
   "source": [
    "# 基于卷积神经网络"
   ]
  },
  {
   "cell_type": "code",
   "execution_count": null,
   "id": "31a7c47e",
   "metadata": {},
   "outputs": [],
   "source": []
  },
  {
   "cell_type": "code",
   "execution_count": null,
   "id": "f3f681fb",
   "metadata": {},
   "outputs": [],
   "source": []
  },
  {
   "cell_type": "code",
   "execution_count": null,
   "id": "031bb0b2",
   "metadata": {},
   "outputs": [],
   "source": []
  }
 ],
 "metadata": {
  "kernelspec": {
   "display_name": "torch2",
   "language": "python",
   "name": "torch2"
  },
  "language_info": {
   "codemirror_mode": {
    "name": "ipython",
    "version": 3
   },
   "file_extension": ".py",
   "mimetype": "text/x-python",
   "name": "python",
   "nbconvert_exporter": "python",
   "pygments_lexer": "ipython3",
   "version": "3.9.21"
  }
 },
 "nbformat": 4,
 "nbformat_minor": 5
}
