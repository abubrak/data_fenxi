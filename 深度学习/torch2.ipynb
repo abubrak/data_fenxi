{
 "cells": [
  {
   "cell_type": "code",
   "execution_count": 1,
   "id": "1ea58b7f",
   "metadata": {},
   "outputs": [],
   "source": [
    "import torch"
   ]
  },
  {
   "cell_type": "code",
   "execution_count": 2,
   "id": "0fcd1327",
   "metadata": {},
   "outputs": [],
   "source": [
    "import numpy as np\n",
    "import pandas as pd"
   ]
  },
  {
   "cell_type": "code",
   "execution_count": 3,
   "id": "67189d3d",
   "metadata": {},
   "outputs": [
    {
     "data": {
      "text/plain": [
       "tensor(4)"
      ]
     },
     "execution_count": 3,
     "metadata": {},
     "output_type": "execute_result"
    }
   ],
   "source": [
    "torch.tensor(4)"
   ]
  },
  {
   "cell_type": "code",
   "execution_count": 4,
   "id": "f12c0606",
   "metadata": {},
   "outputs": [
    {
     "data": {
      "text/plain": [
       "tensor([1, 2, 3])"
      ]
     },
     "execution_count": 4,
     "metadata": {},
     "output_type": "execute_result"
    }
   ],
   "source": [
    "torch.tensor([1,2,3])"
   ]
  },
  {
   "cell_type": "code",
   "execution_count": 5,
   "id": "87ae2072",
   "metadata": {},
   "outputs": [],
   "source": [
    "ten1=torch.tensor([1,2,3,4])"
   ]
  },
  {
   "cell_type": "code",
   "execution_count": 6,
   "id": "d675a8d0",
   "metadata": {},
   "outputs": [
    {
     "data": {
      "text/plain": [
       "torch.Size([4])"
      ]
     },
     "execution_count": 6,
     "metadata": {},
     "output_type": "execute_result"
    }
   ],
   "source": [
    "ten1.shape #查看尺寸"
   ]
  },
  {
   "cell_type": "code",
   "execution_count": 7,
   "id": "ee8aabde",
   "metadata": {},
   "outputs": [
    {
     "data": {
      "text/plain": [
       "torch.int64"
      ]
     },
     "execution_count": 7,
     "metadata": {},
     "output_type": "execute_result"
    }
   ],
   "source": [
    "ten1.dtype #查看类型"
   ]
  },
  {
   "cell_type": "markdown",
   "id": "391c6abd",
   "metadata": {},
   "source": [
    "## 求导机制"
   ]
  },
  {
   "cell_type": "code",
   "execution_count": 8,
   "id": "754925d8",
   "metadata": {},
   "outputs": [],
   "source": [
    "ten1.grad"
   ]
  },
  {
   "cell_type": "code",
   "execution_count": 9,
   "id": "1fb37c23",
   "metadata": {},
   "outputs": [
    {
     "name": "stdout",
     "output_type": "stream",
     "text": [
      "None\n"
     ]
    }
   ],
   "source": [
    "print(ten1.grad)"
   ]
  },
  {
   "cell_type": "code",
   "execution_count": 10,
   "id": "478a471e",
   "metadata": {
    "scrolled": true
   },
   "outputs": [
    {
     "name": "stdout",
     "output_type": "stream",
     "text": [
      "反向传播前： None None\n",
      "反向传播后： tensor([5.]) tensor([2.])\n"
     ]
    }
   ],
   "source": [
    "x=torch.tensor([2.0],requires_grad=True)  #可以进行梯度回传\n",
    "k=torch.tensor([5.0],requires_grad=True) \n",
    "print('反向传播前：',x.grad,k.grad)\n",
    "y=k*x  #根据给定的数据，设计一个函数\n",
    "y.backward()\n",
    "print('反向传播后：',x.grad,k.grad)"
   ]
  },
  {
   "cell_type": "code",
   "execution_count": 11,
   "id": "2c90b109-e018-40b2-bd6e-37adf7f05734",
   "metadata": {},
   "outputs": [],
   "source": [
    "#y.backward()要清空，否则积累，会报错"
   ]
  },
  {
   "cell_type": "code",
   "execution_count": 12,
   "id": "df719e37",
   "metadata": {},
   "outputs": [
    {
     "data": {
      "text/plain": [
       "<bound method Tensor.backward of tensor([10.], grad_fn=<MulBackward0>)>"
      ]
     },
     "execution_count": 12,
     "metadata": {},
     "output_type": "execute_result"
    }
   ],
   "source": [
    "y=k*x\n",
    "y.backward"
   ]
  },
  {
   "cell_type": "code",
   "execution_count": 13,
   "id": "02a39f9e",
   "metadata": {},
   "outputs": [],
   "source": [
    "x=torch.randn(100)\n",
    "y=8*x+9"
   ]
  },
  {
   "cell_type": "code",
   "execution_count": 14,
   "id": "2c74e80b",
   "metadata": {},
   "outputs": [
    {
     "name": "stdout",
     "output_type": "stream",
     "text": [
      "tensor([-13.8802])\n",
      "tensor([-16.8943])\n",
      "tensor([0.])\n",
      "tensor([0.])\n"
     ]
    }
   ],
   "source": [
    "#初始化参数\n",
    "k=torch.tensor([0.0],requires_grad=True) \n",
    "b=torch.tensor([0.0],requires_grad=True) \n",
    "y_pre=k*x+b\n",
    "def loss(y,y_pre):\n",
    "    return torch.sum(torch.square(y-y_pre))/len(y)\n",
    "\n",
    "err=loss(y,y_pre)\n",
    "\n",
    "#反向梯度回传\n",
    "err.backward()\n",
    "#设置学习速率\n",
    "lr=0.02\n",
    "# 更新参数\n",
    "k.data-=lr*k.grad   #k=k-lr*k.grad\n",
    "b.data-=lr*b.grad\n",
    "print(k.grad)\n",
    "print(b.grad)\n",
    "#更新梯度\n",
    "k.grad.data.zero_()\n",
    "b.grad.data.zero_()\n",
    "print(k.grad)\n",
    "print(b.grad)"
   ]
  },
  {
   "cell_type": "markdown",
   "id": "bd6595ff",
   "metadata": {},
   "source": [
    "## 循环迭代"
   ]
  },
  {
   "cell_type": "code",
   "execution_count": 15,
   "id": "4a18aad1",
   "metadata": {},
   "outputs": [
    {
     "name": "stdout",
     "output_type": "stream",
     "text": [
      "0 代： k: 0.27760347723960876 b= 0.3378857374191284 误差值: 131.54498291015625\n",
      "100 代： k: 7.782292366027832 b= 8.804706573486328 误差值: 0.08293817192316055\n",
      "200 代： k: 7.994132995605469 b= 8.995355606079102 误差值: 5.416772182798013e-05\n",
      "300 代： k: 7.999845027923584 b= 8.999885559082031 误差值: 3.579322438440613e-08\n",
      "400 代： k: 7.999993324279785 b= 8.999988555908203 误差值: 1.6217427400988527e-10\n",
      "500 代： k: 7.999993324279785 b= 8.999988555908203 误差值: 1.6217427400988527e-10\n",
      "600 代： k: 7.999993324279785 b= 8.999988555908203 误差值: 1.6217427400988527e-10\n",
      "700 代： k: 7.999993324279785 b= 8.999988555908203 误差值: 1.6217427400988527e-10\n",
      "800 代： k: 7.999993324279785 b= 8.999988555908203 误差值: 1.6217427400988527e-10\n",
      "900 代： k: 7.999993324279785 b= 8.999988555908203 误差值: 1.6217427400988527e-10\n"
     ]
    }
   ],
   "source": [
    "#初始化参数\n",
    "k=torch.tensor([0.0],requires_grad=True) \n",
    "b=torch.tensor([0.0],requires_grad=True) \n",
    "#设置学习速率\n",
    "lr=0.02\n",
    "Err=[]\n",
    "for i in range(1000):\n",
    "    y_pre=k*x+b\n",
    "    err=loss(y,y_pre)\n",
    "    err.backward()\n",
    "    # 更新参数\n",
    "    k.data-=lr*k.grad   #k=k-lr*k.grad\n",
    "    b.data-=lr*b.grad\n",
    "    k.grad.data.zero_()\n",
    "    b.grad.data.zero_()\n",
    "    Err.append(err.item())\n",
    "    if i%100==0:\n",
    "        print(i,'代：','k:',k.item(),'b=',b.item(),'误差值:',err.item())"
   ]
  },
  {
   "cell_type": "code",
   "execution_count": 16,
   "id": "d7a5fd4d",
   "metadata": {},
   "outputs": [],
   "source": [
    "#pip install matplotlib"
   ]
  },
  {
   "cell_type": "code",
   "execution_count": 17,
   "id": "1ea5239f",
   "metadata": {},
   "outputs": [],
   "source": [
    "#pip install pandas"
   ]
  },
  {
   "cell_type": "code",
   "execution_count": 18,
   "id": "4c86a845",
   "metadata": {},
   "outputs": [
    {
     "data": {
      "text/plain": [
       "<function matplotlib.pyplot.show(close=None, block=None)>"
      ]
     },
     "execution_count": 18,
     "metadata": {},
     "output_type": "execute_result"
    },
    {
     "data": {
      "image/png": "[encoded data removed]",
      "text/plain": [
       "<Figure size 640x480 with 1 Axes>"
      ]
     },
     "metadata": {},
     "output_type": "display_data"
    }
   ],
   "source": [
    "import matplotlib.pyplot as plt\n",
    "plt.plot(Err)\n",
    "plt.show"
   ]
  }
 ],
 "metadata": {
  "kernelspec": {
   "display_name": "torch2",
   "language": "python",
   "name": "torch2"
  },
  "language_info": {
   "codemirror_mode": {
    "name": "ipython",
    "version": 3
   },
   "file_extension": ".py",
   "mimetype": "text/x-python",
   "name": "python",
   "nbconvert_exporter": "python",
   "pygments_lexer": "ipython3",
   "version": "3.9.21"
  }
 },
 "nbformat": 4,
 "nbformat_minor": 5
}
