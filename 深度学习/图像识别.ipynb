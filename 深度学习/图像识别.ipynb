{
 "cells": [
  {
   "cell_type": "code",
   "execution_count": 1,
   "id": "16fbd500",
   "metadata": {},
   "outputs": [],
   "source": [
    "import numpy as np\n",
    "import os\n",
    "import matplotlib.pyplot as plt"
   ]
  },
  {
   "cell_type": "markdown",
   "id": "1f37da7b",
   "metadata": {},
   "source": [
    "## 获取图片名称"
   ]
  },
  {
   "cell_type": "code",
   "execution_count": 2,
   "id": "4a741b76",
   "metadata": {},
   "outputs": [
    {
     "data": {
      "text/plain": [
       "['0.jpg',\n",
       " '1.jpg',\n",
       " '2.jpg',\n",
       " '3.jpg',\n",
       " '4.jpg',\n",
       " '5.jpg',\n",
       " '6.jpg',\n",
       " '7.jpg',\n",
       " '8.jpg',\n",
       " '9.jpg']"
      ]
     },
     "execution_count": 2,
     "metadata": {},
     "output_type": "execute_result"
    }
   ],
   "source": [
    "pic_name_list=os.listdir('data')\n",
    "pic_name_list"
   ]
  },
  {
   "cell_type": "markdown",
   "id": "5df839ac",
   "metadata": {},
   "source": [
    "## 图片预处理"
   ]
  },
  {
   "cell_type": "markdown",
   "id": "fd6b2ed5",
   "metadata": {},
   "source": [
    "### 定义图片裁剪函数"
   ]
  },
  {
   "cell_type": "code",
   "execution_count": 3,
   "id": "618298ce",
   "metadata": {},
   "outputs": [],
   "source": [
    "def pic_cut(pic_name):\n",
    "    pic=plt.imread(f'data/{pic_name}')\n",
    "    N,M,D=pic.shape\n",
    "    Npic_=pic[135:2825,150:1950]#\n",
    "    return Npic_"
   ]
  },
  {
   "cell_type": "markdown",
   "id": "f3afe4a7",
   "metadata": {},
   "source": [
    "### 定义图片分割函数"
   ]
  },
  {
   "cell_type": "code",
   "execution_count": 4,
   "id": "b63bc626",
   "metadata": {},
   "outputs": [],
   "source": [
    "def pic_split(Npic):\n",
    "    pic_data_=[]\n",
    "    M,N,D=Npic.shape\n",
    "    for i in range(5):\n",
    "        for j in range(10):\n",
    "            pic_new=Npic[270*j:(270*(j+1)),360*i:(360*(i+1)),:]\n",
    "            pic_data_.append(pic_new)\n",
    "    return pic_data_"
   ]
  },
  {
   "cell_type": "markdown",
   "id": "7c747ede",
   "metadata": {},
   "source": [
    "### 颜色矩识别"
   ]
  },
  {
   "cell_type": "code",
   "execution_count": 5,
   "id": "df875aae",
   "metadata": {},
   "outputs": [],
   "source": [
    "# 求颜色通道的三阶颜色矩\n",
    "def var(rd):\n",
    "    mid=np.mean((rd-rd.mean())**3)\n",
    "    return np.sign(mid)*abs(mid)**(1/3) #sign取正负号\n"
   ]
  },
  {
   "cell_type": "code",
   "execution_count": 6,
   "id": "a447d8e4",
   "metadata": {},
   "outputs": [],
   "source": [
    "# 定义数据存放空间\n",
    "data=[]\n",
    "labels=[]\n",
    "for pic_name in pic_name_list:\n",
    "    #提取图片标签信息\n",
    "    label=int(pic_name.replace('.jpg',''))\n",
    "    #对图片进行裁剪\n",
    "    Npic=pic_cut(pic_name)\n",
    "    #对图片进行分割\n",
    "    pic_set=pic_split(Npic)\n",
    "    for pic_s in pic_set:\n",
    "        rd=pic_s[:,:,0]\n",
    "        gd=pic_s[:,:,1]\n",
    "        bd=pic_s[:,:,2]\n",
    "        data.append([rd.mean(),gd.mean(),bd.mean(),\n",
    "                     rd.std(),gd.std(),bd.std(),\n",
    "                     var(rd), var(gd), var(bd)])\n",
    "        #记录标签信息\n",
    "        labels.append(label)"
   ]
  },
  {
   "cell_type": "markdown",
   "id": "571b34a6",
   "metadata": {},
   "source": [
    "### 数据转换"
   ]
  },
  {
   "cell_type": "code",
   "execution_count": 7,
   "id": "4aa26ef4",
   "metadata": {},
   "outputs": [],
   "source": [
    "data=np.array(data)\n",
    "labels=np.array(labels)"
   ]
  },
  {
   "cell_type": "code",
   "execution_count": 8,
   "id": "3b42c853",
   "metadata": {
    "scrolled": true
   },
   "outputs": [],
   "source": [
    "#pip install scikit-learn"
   ]
  },
  {
   "cell_type": "markdown",
   "id": "c1b7ad3d",
   "metadata": {},
   "source": [
    "### 数据划分"
   ]
  },
  {
   "cell_type": "code",
   "execution_count": 9,
   "id": "42ec47d8",
   "metadata": {},
   "outputs": [],
   "source": [
    "from sklearn.model_selection import train_test_split\n",
    "from sklearn.tree import DecisionTreeClassifier\n",
    "from sklearn.metrics import confusion_matrix,classification_report"
   ]
  },
  {
   "cell_type": "code",
   "execution_count": 10,
   "id": "2502383e",
   "metadata": {},
   "outputs": [],
   "source": [
    "#将样本划分为训练集与测试集\n",
    "data_tr,data_te,labels_tr,label_te=train_test_split(data,labels,train_size=0.8)\n"
   ]
  },
  {
   "cell_type": "markdown",
   "id": "4200fac1",
   "metadata": {},
   "source": [
    "## 训练模型并预测"
   ]
  },
  {
   "cell_type": "code",
   "execution_count": 11,
   "id": "a78dc8fb",
   "metadata": {},
   "outputs": [
    {
     "name": "stdout",
     "output_type": "stream",
     "text": [
      "              precision    recall  f1-score   support\n",
      "\n",
      "           0       0.15      0.40      0.22         5\n",
      "           1       0.88      0.78      0.82         9\n",
      "           2       0.88      0.70      0.78        10\n",
      "           3       0.50      0.60      0.55        10\n",
      "           4       0.75      0.60      0.67        10\n",
      "           5       0.56      0.42      0.48        12\n",
      "           6       0.70      0.37      0.48        19\n",
      "           7       0.33      0.60      0.43         5\n",
      "           8       0.73      0.73      0.73        11\n",
      "           9       0.75      1.00      0.86         9\n",
      "\n",
      "    accuracy                           0.60       100\n",
      "   macro avg       0.62      0.62      0.60       100\n",
      "weighted avg       0.66      0.60      0.61       100\n",
      "\n"
     ]
    }
   ],
   "source": [
    "dtc=DecisionTreeClassifier().fit(data_tr,labels_tr)\n",
    "pre=dtc.predict(data_te)\n",
    "sum(pre==label_te)/len(pre)\n",
    "confusion_matrix(pre,label_te)\n",
    "print(classification_report(pre,label_te))"
   ]
  },
  {
   "cell_type": "markdown",
   "id": "742ea843",
   "metadata": {},
   "source": [
    "# 基于BP神经网络实现"
   ]
  },
  {
   "cell_type": "markdown",
   "id": "bb04f983",
   "metadata": {},
   "source": [
    "## 图片预处理"
   ]
  },
  {
   "cell_type": "code",
   "execution_count": 12,
   "id": "ae960cb1",
   "metadata": {},
   "outputs": [],
   "source": [
    "#pip install opencv-python"
   ]
  },
  {
   "cell_type": "code",
   "execution_count": 13,
   "id": "a387f6a5",
   "metadata": {},
   "outputs": [],
   "source": [
    "import cv2"
   ]
  },
  {
   "cell_type": "code",
   "execution_count": 14,
   "id": "fe729e75",
   "metadata": {},
   "outputs": [],
   "source": [
    "# 定义数据存放空间\n",
    "data=[]\n",
    "labels=[]\n",
    "for pic_name in pic_name_list:\n",
    "    #提取图片标签信息\n",
    "    label=int(pic_name.replace('.jpg',''))\n",
    "    #对图片进行裁剪\n",
    "    Npic=pic_cut(pic_name)\n",
    "    #对图片进行分割\n",
    "    pic_set=pic_split(Npic)\n",
    "    for pic_s in pic_set:\n",
    "        #对裁剪图片灰度化处理\n",
    "        gray_pic=cv2.cvtColor(pic_s,cv2.COLOR_BGR2GRAY)\n",
    "        #对图片进行二值化处理\n",
    "        #127阈值，像素低于127设置为0（黑色），高于或等于127设置为255（百）\n",
    "        _,binary_pic=cv2.threshold(gray_pic,127,255,cv2.THRESH_BINARY)\n",
    "        #修改图片尺寸\n",
    "        pic_resize=cv2.resize(binary_pic,(64,64))/255\n",
    "        #记录图片数据\n",
    "        data.append(pic_resize)\n",
    "        #记录图片标签\n",
    "        labels.append(label)"
   ]
  },
  {
   "cell_type": "code",
   "execution_count": 15,
   "id": "8b12c63d",
   "metadata": {},
   "outputs": [],
   "source": [
    "#数据转换（只有数组才能转换成tensor）\n",
    "data=np.array(data)\n",
    "labels=np.array(labels)"
   ]
  },
  {
   "cell_type": "code",
   "execution_count": 16,
   "id": "ce5e741a",
   "metadata": {},
   "outputs": [],
   "source": [
    "#将样本划分为训练集与测试集\n",
    "data_tr,data_te,labels_tr,labels_te=train_test_split(data,labels,train_size=0.8)"
   ]
  },
  {
   "cell_type": "markdown",
   "id": "ded837bd",
   "metadata": {},
   "source": [
    "## 建立BP神经网络并训练"
   ]
  },
  {
   "cell_type": "code",
   "execution_count": 17,
   "id": "2a90707b",
   "metadata": {},
   "outputs": [],
   "source": [
    "import torch\n",
    "import torch.nn as nn\n",
    "import torch.optim as optim\n",
    "from torch.utils.data import TensorDataset,DataLoader"
   ]
  },
  {
   "cell_type": "code",
   "execution_count": 18,
   "id": "283a1ac3",
   "metadata": {},
   "outputs": [],
   "source": [
    "# 利用类自定义网络\n",
    "class Net(nn.Module):\n",
    "    def __init__(self):\n",
    "        super().__init__()\n",
    "        #全连接层，可修改\n",
    "        self.fc1=torch.nn.Linear(64*64,500)\n",
    "        self.fc2=torch.nn.Linear(500,128)\n",
    "        self.fc3=torch.nn.Linear(128,64)\n",
    "        self.fc4=torch.nn.Linear(64,10)    #输出为分类数\n",
    "        \n",
    "        \n",
    "    #向前传播，输入数据为图片处理后张量\n",
    "    def forward(self,x):\n",
    "        x=torch.nn.functional.relu(self.fc1(x))\n",
    "        x=torch.nn.functional.relu(self.fc2(x))\n",
    "        x=torch.nn.functional.relu(self.fc3(x))\n",
    "        x=self.fc4(x)\n",
    "        return x"
   ]
  },
  {
   "cell_type": "code",
   "execution_count": 19,
   "id": "9bf8633c-0e7b-4e97-a7e4-cfcf5c3e62be",
   "metadata": {},
   "outputs": [
    {
     "name": "stdout",
     "output_type": "stream",
     "text": [
      "Net(\n",
      "  (fc1): Linear(in_features=4096, out_features=500, bias=True)\n",
      "  (fc2): Linear(in_features=500, out_features=128, bias=True)\n",
      "  (fc3): Linear(in_features=128, out_features=64, bias=True)\n",
      "  (fc4): Linear(in_features=64, out_features=10, bias=True)\n",
      ")\n"
     ]
    }
   ],
   "source": [
    "# 实例化模型\n",
    "model=Net()\n",
    "print(model)"
   ]
  },
  {
   "cell_type": "markdown",
   "id": "7b622001-cf58-4ccf-815d-7aa6d441f229",
   "metadata": {},
   "source": [
    "## 定义损失函数和优化器"
   ]
  },
  {
   "cell_type": "code",
   "execution_count": 20,
   "id": "70ecf939-371c-4958-8612-b320fd3e42f6",
   "metadata": {},
   "outputs": [],
   "source": [
    "\n",
    "# 损失函数\n",
    "criterion=nn.CrossEntropyLoss()\n",
    "# 优化器\n",
    "optimizer=optim.Adam(model.parameters(),lr=0.001)"
   ]
  },
  {
   "cell_type": "markdown",
   "id": "9ab76dbb-a41a-4f4a-820b-0cd2d9fb10f9",
   "metadata": {},
   "source": [
    "### 数据转换"
   ]
  },
  {
   "cell_type": "code",
   "execution_count": 21,
   "id": "fe3cfd12-ceca-4971-bbc4-2636c00536d8",
   "metadata": {},
   "outputs": [],
   "source": [
    "# 将data和label从ndarray转换成模型能接受的张量\n",
    "data_tr_tensor=torch.tensor(data_tr).float()\n",
    "data_te_tensor=torch.tensor(data_te).float()\n",
    "labels_tr_tensor=torch.tensor(labels_tr).long()\n",
    "labels_te_tensor=torch.tensor(labels_te).long()"
   ]
  },
  {
   "cell_type": "code",
   "execution_count": 22,
   "id": "5a5441b9-7552-42e3-8c8c-f20ab484d741",
   "metadata": {},
   "outputs": [],
   "source": [
    "# 创建tensorDataset对象\n",
    "train_dataset=TensorDataset(data_tr_tensor,labels_tr_tensor)\n",
    "test_dataset=TensorDataset(data_te_tensor,labels_te_tensor)\n"
   ]
  },
  {
   "cell_type": "code",
   "execution_count": 23,
   "id": "ac728376-e565-45b2-bd1e-9c12e7bf32f0",
   "metadata": {},
   "outputs": [],
   "source": [
    "# 创建DataLoader对象  batch_size一次放入样本数量，shuffle打乱样本顺序，提供模型泛化能力\n",
    "train_loader=DataLoader(train_dataset,batch_size=30,shuffle=True)\n",
    "test_loader=DataLoader(test_dataset,batch_size=30,shuffle=True)"
   ]
  },
  {
   "cell_type": "markdown",
   "id": "161c0652-56b6-484f-8496-ca05b2e52e91",
   "metadata": {},
   "source": [
    "## 定义函数去评估模型效果"
   ]
  },
  {
   "cell_type": "code",
   "execution_count": 24,
   "id": "b9742010-7d93-43e9-b624-4592e188d27d",
   "metadata": {},
   "outputs": [],
   "source": [
    "def evaluate(test_data,net):\n",
    "    n_correct=0\n",
    "    n_total=0\n",
    "    #禁止梯度回传\n",
    "    with torch.no_grad():\n",
    "        for (x,y) in test_data:  #x(batch_size,channels,height,weight)30*1*64*64\n",
    "            output=net.forward(x.view(-1,64*64))  #-1自动计算该纬度的大小，保持数据元\n",
    "            for i,output in enumerate(output):\n",
    "                if torch.argmax(output)==y[i]:#取得概率最大的标签值\n",
    "                    n_correct+=1\n",
    "                n_total+=1\n",
    "    return n_correct/n_total\n",
    "                "
   ]
  },
  {
   "cell_type": "markdown",
   "id": "6231c350-10ad-41f9-9814-abe92226dbde",
   "metadata": {},
   "source": [
    "### 训练模型"
   ]
  },
  {
   "cell_type": "code",
   "execution_count": 25,
   "id": "d55ddd24-4598-4e47-97a7-621acd82b358",
   "metadata": {},
   "outputs": [
    {
     "name": "stdout",
     "output_type": "stream",
     "text": [
      "Epoch 1 accuray: 0.1100\n",
      "Epoch 11 accuray: 0.2400\n",
      "Epoch 21 accuray: 0.3300\n",
      "Epoch 31 accuray: 0.4400\n",
      "Epoch 41 accuray: 0.5000\n",
      "Epoch 51 accuray: 0.4700\n",
      "Epoch 61 accuray: 0.5000\n"
     ]
    }
   ],
   "source": [
    "for i in range(61):\n",
    "    for batch_idx,(data,label) in enumerate(train_loader):\n",
    "        #清空梯度\n",
    "        optimizer.zero_grad()\n",
    "        \n",
    "        data=data.view(-1,64*64)\n",
    "        outputs=model(data)\n",
    "        loss=criterion(outputs,label)\n",
    "        \n",
    "        loss.backward()\n",
    "        \n",
    "        optimizer.step()\n",
    "        \n",
    "    current_accuracy=evaluate(test_loader,model)\n",
    "    if i % 10 ==0:\n",
    "        print(f'Epoch {i+1} accuray: {current_accuracy:.4f}')"
   ]
  },
  {
   "cell_type": "markdown",
   "id": "0a139925-d364-48df-9504-49440f606ddc",
   "metadata": {},
   "source": [
    "### 预测数据"
   ]
  },
  {
   "cell_type": "code",
   "execution_count": 26,
   "id": "5089e1d0-7fde-4f8e-a100-f91cb3051a50",
   "metadata": {},
   "outputs": [
    {
     "name": "stdout",
     "output_type": "stream",
     "text": [
      "tensor([5, 5, 3, 3, 6, 9, 8, 7, 9, 4, 3, 9, 0, 9, 4, 3, 0, 4, 2, 2, 1, 3, 5, 3,\n",
      "        5, 0, 8, 3, 5, 2, 5, 1, 5, 3, 0, 8, 3, 5, 5, 5, 3, 5, 7, 6, 5, 2, 3, 5,\n",
      "        0, 2, 9, 4, 3, 3, 5, 9, 4, 5, 8, 8, 1, 9, 5, 7, 5, 7, 2, 2, 1, 9, 1, 5,\n",
      "        8, 2, 5, 3, 5, 2, 2, 1, 9, 5, 2, 8, 5, 7, 0, 3, 1, 2, 3, 1, 1, 6, 8, 3,\n",
      "        1, 5, 9, 9])\n",
      "tensor([5, 5, 7, 6, 6, 5, 8, 7, 9, 4, 8, 9, 6, 8, 4, 2, 0, 4, 0, 2, 1, 0, 5, 1,\n",
      "        8, 1, 8, 3, 5, 2, 5, 9, 5, 8, 6, 8, 0, 7, 8, 6, 2, 0, 7, 6, 2, 0, 3, 0,\n",
      "        0, 2, 8, 4, 5, 6, 9, 9, 4, 0, 9, 8, 1, 7, 9, 7, 5, 7, 2, 4, 7, 3, 1, 5,\n",
      "        9, 2, 0, 3, 5, 2, 6, 1, 9, 8, 0, 8, 2, 7, 6, 6, 7, 4, 1, 1, 7, 6, 8, 2,\n",
      "        7, 5, 4, 9])\n"
     ]
    }
   ],
   "source": [
    "label_pre=torch.argmax(model(data_te_tensor.view(-1,64*64)),dim=1)\n",
    "print(label_pre)\n",
    "print(labels_te_tensor)"
   ]
  },
  {
   "cell_type": "code",
   "execution_count": 27,
   "id": "7df9deff-a505-4458-9400-f858ce52b40d",
   "metadata": {
    "scrolled": true
   },
   "outputs": [
    {
     "name": "stdout",
     "output_type": "stream",
     "text": [
      "              precision    recall  f1-score   support\n",
      "\n",
      "           0       0.18      0.33      0.24         6\n",
      "           1       0.62      0.50      0.56        10\n",
      "           2       0.55      0.50      0.52        12\n",
      "           3       0.75      0.18      0.29        17\n",
      "           4       0.62      1.00      0.77         5\n",
      "           5       0.83      0.43      0.57        23\n",
      "           6       0.27      1.00      0.43         3\n",
      "           7       0.42      1.00      0.59         5\n",
      "           8       0.46      0.75      0.57         8\n",
      "           9       0.50      0.45      0.48        11\n",
      "\n",
      "    accuracy                           0.50       100\n",
      "   macro avg       0.52      0.61      0.50       100\n",
      "weighted avg       0.61      0.50      0.49       100\n",
      "\n"
     ]
    }
   ],
   "source": [
    "# 计算精度\n",
    "sum(labels_te_tensor==label_pre)/len(label_pre)\n",
    "\n",
    "#混淆矩阵\n",
    "confusion_matrix(label_pre,labels_te_tensor)\n",
    "#分类性能报告\n",
    "print(classification_report(label_pre,labels_te_tensor))"
   ]
  },
  {
   "cell_type": "markdown",
   "id": "707ecbd2",
   "metadata": {},
   "source": [
    "# 基于卷积神经网络"
   ]
  },
  {
   "cell_type": "markdown",
   "id": "64cf766d-6c33-4e5f-8c41-df820fc06e4c",
   "metadata": {},
   "source": [
    "## 模型构建"
   ]
  },
  {
   "cell_type": "code",
   "execution_count": 28,
   "id": "f3f681fb",
   "metadata": {},
   "outputs": [],
   "source": [
    "class Net_CNN(nn.Module):\n",
    "    def __init__(self):\n",
    "        super(Net_CNN,self).__init__()\n",
    "        #卷积层：输入通道数数、输出通道数、卷积核的大小、输入数据的边缘添加的零填充量的数量\n",
    "        \n",
    "        self.conv1=nn.Conv2d(1,16,kernel_size=3,padding=1)\n",
    "        #池化层: 池化窗口大小，步长：池化窗口移动间隔\n",
    "        self.pool=nn.MaxPool2d(kernel_size=2,stride=2)\n",
    "        self.conv2=nn.Conv2d(16,32,kernel_size=3,padding=1)\n",
    "        self.conv3=nn.Conv2d(32,64,kernel_size=3)\n",
    "        self.conv4=nn.Conv2d(64,64,kernel_size=3)\n",
    "        # output=(input-kerner_size+2*padding)/stride+1\n",
    "        #全连接层\n",
    "        self.fc1=nn.Linear(256,64)\n",
    "        self.fc2=nn.Linear(64,10)\n",
    "        \n",
    "    def forward(self,x):\n",
    "        x=self.pool(nn.functional.relu(self.conv1(x)))\n",
    "        x=self.pool(nn.functional.relu(self.conv2(x)))\n",
    "        x=self.pool(nn.functional.relu(self.conv3(x)))\n",
    "        x=self.pool(nn.functional.relu(self.conv4(x)))\n",
    "        x=x.view(-1,256)\n",
    "        x=nn.functional.relu(self.fc1(x))\n",
    "        x=self.fc2(x)\n",
    "        return x\n",
    "    "
   ]
  },
  {
   "cell_type": "markdown",
   "id": "cdcef55c-9050-46bd-846b-bc77f3c980ef",
   "metadata": {},
   "source": [
    "### 实例化"
   ]
  },
  {
   "cell_type": "code",
   "execution_count": 29,
   "id": "031bb0b2",
   "metadata": {},
   "outputs": [
    {
     "name": "stdout",
     "output_type": "stream",
     "text": [
      "Net_CNN(\n",
      "  (conv1): Conv2d(1, 16, kernel_size=(3, 3), stride=(1, 1), padding=(1, 1))\n",
      "  (pool): MaxPool2d(kernel_size=2, stride=2, padding=0, dilation=1, ceil_mode=False)\n",
      "  (conv2): Conv2d(16, 32, kernel_size=(3, 3), stride=(1, 1), padding=(1, 1))\n",
      "  (conv3): Conv2d(32, 64, kernel_size=(3, 3), stride=(1, 1))\n",
      "  (conv4): Conv2d(64, 64, kernel_size=(3, 3), stride=(1, 1))\n",
      "  (fc1): Linear(in_features=256, out_features=64, bias=True)\n",
      "  (fc2): Linear(in_features=64, out_features=10, bias=True)\n",
      ")\n"
     ]
    }
   ],
   "source": [
    "model=Net_CNN()\n",
    "print(model)"
   ]
  },
  {
   "cell_type": "code",
   "execution_count": 30,
   "id": "da89c0ed-cf8d-43c5-8651-8314539c58ab",
   "metadata": {},
   "outputs": [],
   "source": [
    "#损失函数\n",
    "criterion=nn.CrossEntropyLoss()\n",
    "#优化器\n",
    "optimizer=optim.Adam(model.parameters(),lr=0.001)"
   ]
  },
  {
   "cell_type": "markdown",
   "id": "8ee8fbac-a23b-4c6c-b3c1-3f49b5a383a5",
   "metadata": {},
   "source": [
    "### 数据转换"
   ]
  },
  {
   "cell_type": "code",
   "execution_count": 31,
   "id": "22eaef39-a1e5-4fbe-ac4a-b7586ea0f31d",
   "metadata": {},
   "outputs": [],
   "source": [
    "#卷积神经网络的输入为（batch_size,channels,size,size），因此需要增加一个维度channels\n",
    "data_tr_tensor=torch.tensor(np.expand_dims(data_tr,1)).float()\n",
    "data_te_tensor=torch.tensor(np.expand_dims(data_te,1)).float()\n",
    "labels_tr_tensor=torch.tensor(labels_tr).long()\n",
    "labels_te_tensor=torch.tensor(labels_te).long()"
   ]
  },
  {
   "cell_type": "code",
   "execution_count": 38,
   "id": "18e88c90-82af-4c21-b18a-fb66b2b1368e",
   "metadata": {},
   "outputs": [
    {
     "data": {
      "text/plain": [
       "tensor([[[[1.0000, 1.0000, 1.0000,  ..., 0.0000, 0.0000, 0.4196],\n",
       "          [0.8275, 0.8275, 0.8275,  ..., 1.0000, 1.0000, 1.0000],\n",
       "          [1.0000, 1.0000, 1.0000,  ..., 1.0000, 1.0000, 1.0000],\n",
       "          ...,\n",
       "          [1.0000, 1.0000, 1.0000,  ..., 1.0000, 1.0000, 1.0000],\n",
       "          [1.0000, 1.0000, 1.0000,  ..., 1.0000, 1.0000, 1.0000],\n",
       "          [1.0000, 1.0000, 1.0000,  ..., 0.1725, 0.3922, 0.3922]]],\n",
       "\n",
       "\n",
       "        [[[1.0000, 1.0000, 1.0000,  ..., 1.0000, 1.0000, 1.0000],\n",
       "          [1.0000, 1.0000, 1.0000,  ..., 1.0000, 1.0000, 1.0000],\n",
       "          [1.0000, 1.0000, 1.0000,  ..., 1.0000, 1.0000, 1.0000],\n",
       "          ...,\n",
       "          [1.0000, 1.0000, 1.0000,  ..., 1.0000, 1.0000, 1.0000],\n",
       "          [1.0000, 1.0000, 0.7725,  ..., 0.5922, 0.5922, 0.5922],\n",
       "          [1.0000, 1.0000, 1.0000,  ..., 1.0000, 1.0000, 1.0000]]],\n",
       "\n",
       "\n",
       "        [[[1.0000, 1.0000, 1.0000,  ..., 1.0000, 1.0000, 1.0000],\n",
       "          [1.0000, 1.0000, 1.0000,  ..., 1.0000, 1.0000, 1.0000],\n",
       "          [1.0000, 1.0000, 1.0000,  ..., 1.0000, 1.0000, 1.0000],\n",
       "          ...,\n",
       "          [1.0000, 1.0000, 1.0000,  ..., 1.0000, 1.0000, 1.0000],\n",
       "          [1.0000, 1.0000, 1.0000,  ..., 1.0000, 1.0000, 1.0000],\n",
       "          [1.0000, 1.0000, 1.0000,  ..., 1.0000, 1.0000, 1.0000]]],\n",
       "\n",
       "\n",
       "        ...,\n",
       "\n",
       "\n",
       "        [[[1.0000, 1.0000, 1.0000,  ..., 1.0000, 1.0000, 1.0000],\n",
       "          [1.0000, 1.0000, 1.0000,  ..., 1.0000, 1.0000, 1.0000],\n",
       "          [1.0000, 1.0000, 1.0000,  ..., 1.0000, 1.0000, 1.0000],\n",
       "          ...,\n",
       "          [1.0000, 1.0000, 1.0000,  ..., 1.0000, 1.0000, 1.0000],\n",
       "          [0.8275, 0.8275, 0.8275,  ..., 1.0000, 1.0000, 1.0000],\n",
       "          [1.0000, 1.0000, 1.0000,  ..., 0.0000, 0.0000, 0.0000]]],\n",
       "\n",
       "\n",
       "        [[[1.0000, 1.0000, 1.0000,  ..., 1.0000, 0.0627, 1.0000],\n",
       "          [1.0000, 1.0000, 1.0000,  ..., 1.0000, 0.0627, 1.0000],\n",
       "          [1.0000, 1.0000, 1.0000,  ..., 1.0000, 0.0627, 1.0000],\n",
       "          ...,\n",
       "          [1.0000, 1.0000, 1.0000,  ..., 1.0000, 0.0627, 1.0000],\n",
       "          [1.0000, 1.0000, 1.0000,  ..., 1.0000, 0.0627, 1.0000],\n",
       "          [1.0000, 1.0000, 1.0000,  ..., 1.0000, 0.0627, 1.0000]]],\n",
       "\n",
       "\n",
       "        [[[1.0000, 1.0000, 1.0000,  ..., 1.0000, 1.0000, 1.0000],\n",
       "          [1.0000, 1.0000, 1.0000,  ..., 1.0000, 1.0000, 1.0000],\n",
       "          [1.0000, 1.0000, 1.0000,  ..., 1.0000, 1.0000, 1.0000],\n",
       "          ...,\n",
       "          [1.0000, 1.0000, 1.0000,  ..., 1.0000, 1.0000, 1.0000],\n",
       "          [1.0000, 1.0000, 1.0000,  ..., 1.0000, 1.0000, 1.0000],\n",
       "          [1.0000, 1.0000, 1.0000,  ..., 1.0000, 0.6314, 1.0000]]]])"
      ]
     },
     "execution_count": 38,
     "metadata": {},
     "output_type": "execute_result"
    }
   ],
   "source": [
    "data_tr_tensor"
   ]
  },
  {
   "cell_type": "code",
   "execution_count": 32,
   "id": "48fae8e9-9f8a-4001-ac8f-3d723974833f",
   "metadata": {},
   "outputs": [],
   "source": [
    "# 创建tensorDataset对象\n",
    "train_dataset=TensorDataset(data_tr_tensor,labels_tr_tensor)\n",
    "test_dataset=TensorDataset(data_te_tensor,labels_te_tensor)\n",
    "# 创建DataLoader对象  batch_size一次放入样本数量，shuffle打乱样本顺序，提供模型泛化能力\n",
    "train_loader=DataLoader(train_dataset,batch_size=15,shuffle=True)\n",
    "test_loader=DataLoader(test_dataset,batch_size=15,shuffle=True)"
   ]
  },
  {
   "cell_type": "code",
   "execution_count": 33,
   "id": "32723e72-2b0f-48cb-b90e-98510ed2de54",
   "metadata": {},
   "outputs": [
    {
     "name": "stdout",
     "output_type": "stream",
     "text": [
      "torch.Size([15, 1, 64, 64]) torch.Size([15])\n",
      "torch.Size([15, 1, 64, 64]) torch.Size([15])\n",
      "torch.Size([15, 1, 64, 64]) torch.Size([15])\n",
      "torch.Size([15, 1, 64, 64]) torch.Size([15])\n",
      "torch.Size([15, 1, 64, 64]) torch.Size([15])\n",
      "torch.Size([15, 1, 64, 64]) torch.Size([15])\n",
      "torch.Size([15, 1, 64, 64]) torch.Size([15])\n",
      "torch.Size([15, 1, 64, 64]) torch.Size([15])\n",
      "torch.Size([15, 1, 64, 64]) torch.Size([15])\n",
      "torch.Size([15, 1, 64, 64]) torch.Size([15])\n",
      "torch.Size([15, 1, 64, 64]) torch.Size([15])\n",
      "torch.Size([15, 1, 64, 64]) torch.Size([15])\n",
      "torch.Size([15, 1, 64, 64]) torch.Size([15])\n",
      "torch.Size([15, 1, 64, 64]) torch.Size([15])\n",
      "torch.Size([15, 1, 64, 64]) torch.Size([15])\n",
      "torch.Size([15, 1, 64, 64]) torch.Size([15])\n",
      "torch.Size([15, 1, 64, 64]) torch.Size([15])\n",
      "torch.Size([15, 1, 64, 64]) torch.Size([15])\n",
      "torch.Size([15, 1, 64, 64]) torch.Size([15])\n",
      "torch.Size([15, 1, 64, 64]) torch.Size([15])\n",
      "torch.Size([15, 1, 64, 64]) torch.Size([15])\n",
      "torch.Size([15, 1, 64, 64]) torch.Size([15])\n",
      "torch.Size([15, 1, 64, 64]) torch.Size([15])\n",
      "torch.Size([15, 1, 64, 64]) torch.Size([15])\n",
      "torch.Size([15, 1, 64, 64]) torch.Size([15])\n",
      "torch.Size([15, 1, 64, 64]) torch.Size([15])\n",
      "torch.Size([10, 1, 64, 64]) torch.Size([10])\n"
     ]
    }
   ],
   "source": [
    "# 检查输入的数据是否符合卷积神经网络的输入要求\n",
    "for batch_idx,(data,label) in enumerate(train_loader):\n",
    "    print(data.size(),label.size())"
   ]
  },
  {
   "cell_type": "code",
   "execution_count": 34,
   "id": "c14d1236-5772-4122-a24a-8a7dbc0b2715",
   "metadata": {},
   "outputs": [
    {
     "name": "stdout",
     "output_type": "stream",
     "text": [
      "torch.Size([15, 1, 64, 64]) torch.Size([15])\n",
      "torch.Size([15, 1, 64, 64]) torch.Size([15])\n",
      "torch.Size([15, 1, 64, 64]) torch.Size([15])\n",
      "torch.Size([15, 1, 64, 64]) torch.Size([15])\n",
      "torch.Size([15, 1, 64, 64]) torch.Size([15])\n",
      "torch.Size([15, 1, 64, 64]) torch.Size([15])\n",
      "torch.Size([10, 1, 64, 64]) torch.Size([10])\n"
     ]
    }
   ],
   "source": [
    "for batch_idx,(data,label) in enumerate(test_loader):\n",
    "    print(data.size(),label.size())"
   ]
  },
  {
   "cell_type": "markdown",
   "id": "49edade6-fd01-4edd-a066-b188bb998e92",
   "metadata": {},
   "source": [
    "### 评估函数"
   ]
  },
  {
   "cell_type": "code",
   "execution_count": 35,
   "id": "0708cfd4-e001-47ea-9c53-20c6ca981505",
   "metadata": {},
   "outputs": [],
   "source": [
    "def evaluate(test_data,net):\n",
    "    n_correct=0\n",
    "    n_total=0\n",
    "    #禁止梯度回传\n",
    "    with torch.no_grad():\n",
    "        for (x,y) in test_data:  #x(batch_size,channels,height,weight)30*1*64*64\n",
    "            output=net.forward(x)  #-1自动计算该纬度的大小，保持数据元\n",
    "            for i,output in enumerate(output):\n",
    "                if torch.argmax(output)==y[i]:#取得概率最大的标签值\n",
    "                    n_correct+=1\n",
    "                n_total+=1\n",
    "    return n_correct/n_total"
   ]
  },
  {
   "cell_type": "code",
   "execution_count": 36,
   "id": "7a31ef62-5864-49d7-9acb-e400845e56a1",
   "metadata": {},
   "outputs": [
    {
     "name": "stdout",
     "output_type": "stream",
     "text": [
      "Epoch 1 accuray:0.1100\n",
      "Epoch 11 accuray:0.8400\n",
      "Epoch 21 accuray:0.9400\n",
      "Epoch 31 accuray:0.9700\n",
      "Epoch 41 accuray:0.9600\n",
      "Epoch 51 accuray:0.9700\n",
      "Epoch 61 accuray:0.9700\n"
     ]
    }
   ],
   "source": [
    "for i in range(61):\n",
    "    for batch_idx,(data,label) in enumerate(train_loader):\n",
    "        \n",
    "        optimizer.zero_grad()\n",
    "        \n",
    "        outputs=model(data)\n",
    "        loss=criterion(outputs,label)\n",
    "        #反向传播\n",
    "        loss.backward()\n",
    "        #更新参数\n",
    "        optimizer.step()\n",
    "        \n",
    "    current_accuracy=evaluate(test_loader,model)\n",
    "    if i%10==0:\n",
    "        print(f'Epoch {i+1} accuray:{current_accuracy:.4f}')"
   ]
  },
  {
   "cell_type": "markdown",
   "id": "cf5d0b7a-d96d-414e-9371-e2895327f42c",
   "metadata": {},
   "source": [
    "## 模型预测"
   ]
  },
  {
   "cell_type": "code",
   "execution_count": 39,
   "id": "94392b0b-5181-4400-8153-82b6ab1aec4b",
   "metadata": {},
   "outputs": [
    {
     "name": "stdout",
     "output_type": "stream",
     "text": [
      "tensor([5, 5, 7, 6, 6, 5, 8, 7, 9, 4, 8, 9, 6, 9, 0, 2, 0, 4, 0, 2, 1, 0, 5, 1,\n",
      "        8, 1, 8, 3, 5, 2, 5, 9, 9, 8, 6, 8, 0, 7, 8, 6, 2, 0, 7, 6, 2, 0, 3, 0,\n",
      "        0, 2, 8, 4, 5, 6, 9, 9, 4, 0, 9, 8, 1, 7, 9, 7, 5, 7, 2, 4, 7, 3, 1, 5,\n",
      "        9, 2, 0, 3, 5, 2, 6, 1, 9, 8, 0, 8, 2, 7, 6, 6, 7, 4, 1, 1, 7, 6, 8, 2,\n",
      "        7, 5, 4, 9])\n",
      "tensor([5, 5, 7, 6, 6, 5, 8, 7, 9, 4, 8, 9, 6, 8, 4, 2, 0, 4, 0, 2, 1, 0, 5, 1,\n",
      "        8, 1, 8, 3, 5, 2, 5, 9, 5, 8, 6, 8, 0, 7, 8, 6, 2, 0, 7, 6, 2, 0, 3, 0,\n",
      "        0, 2, 8, 4, 5, 6, 9, 9, 4, 0, 9, 8, 1, 7, 9, 7, 5, 7, 2, 4, 7, 3, 1, 5,\n",
      "        9, 2, 0, 3, 5, 2, 6, 1, 9, 8, 0, 8, 2, 7, 6, 6, 7, 4, 1, 1, 7, 6, 8, 2,\n",
      "        7, 5, 4, 9])\n"
     ]
    }
   ],
   "source": [
    "labels_pre=torch.argmax(model(data_te_tensor),dim=1)\n",
    "print(label_pre)\n",
    "print(labels_te_tensor)"
   ]
  },
  {
   "cell_type": "code",
   "execution_count": 40,
   "id": "455acffe-3626-444e-8cf4-c2b796317158",
   "metadata": {},
   "outputs": [
    {
     "name": "stdout",
     "output_type": "stream",
     "text": [
      "              precision    recall  f1-score   support\n",
      "\n",
      "           0       1.00      0.92      0.96        12\n",
      "           1       1.00      1.00      1.00         8\n",
      "           2       1.00      1.00      1.00        11\n",
      "           3       1.00      1.00      1.00         4\n",
      "           4       0.88      1.00      0.93         7\n",
      "           5       0.92      1.00      0.96        11\n",
      "           6       1.00      1.00      1.00        11\n",
      "           7       1.00      1.00      1.00        12\n",
      "           8       0.92      1.00      0.96        12\n",
      "           9       1.00      0.83      0.91        12\n",
      "\n",
      "    accuracy                           0.97       100\n",
      "   macro avg       0.97      0.97      0.97       100\n",
      "weighted avg       0.97      0.97      0.97       100\n",
      "\n"
     ]
    }
   ],
   "source": [
    "# 计算精度\n",
    "sum(label_pre==labels_te_tensor)/len(label_pre)\n",
    "#混淆矩阵\n",
    "confusion_matrix(label_pre,labels_te_tensor)\n",
    "#分类性能报告\n",
    "print(classification_report(labels_pre,labels_te_tensor))"
   ]
  }
 ],
 "metadata": {
  "kernelspec": {
   "display_name": "torch2",
   "language": "python",
   "name": "torch2"
  },
  "language_info": {
   "codemirror_mode": {
    "name": "ipython",
    "version": 3
   },
   "file_extension": ".py",
   "mimetype": "text/x-python",
   "name": "python",
   "nbconvert_exporter": "python",
   "pygments_lexer": "ipython3",
   "version": "3.9.21"
  }
 },
 "nbformat": 4,
 "nbformat_minor": 5
}
