{
 "cells": [
  {
   "cell_type": "code",
   "execution_count": 1,
   "id": "ad562c29-8e6f-47d4-9a91-5fd5d3871b48",
   "metadata": {},
   "outputs": [],
   "source": [
    "import pandas as pd\n",
    "import matplotlib.pyplot as plt\n",
    "import os\n",
    "import warnings\n",
    "warnings.filterwarnings('ignore')\n",
    "plt.rcParams['font.sans-serif'] =  ['SimHei']\n",
    "plt.rcParams['axes.unicode_minus'] =  False"
   ]
  },
  {
   "cell_type": "code",
   "execution_count": 2,
   "id": "e6ba2273-e16a-41f3-9c9b-d27077b8e133",
   "metadata": {},
   "outputs": [],
   "source": [
    "# 加载\n",
    "def get_files(file_path='./data1/'):\n",
    "    file_names = os.listdir(file_path)\n",
    "    # 1 获取单个工作簿中所有子表名称\n",
    "    f = pd.ExcelFile(file_path + file_names[0], engine='openpyxl')\n",
    "    sheet_names = f.sheet_names\n",
    "\n",
    "    # 2 循环获取数据\n",
    "    # 一类数据为一个键值对\n",
    "    all_data = {sheet_name: pd.DataFrame([]) for sheet_name in sheet_names}\n",
    "\n",
    "    for file_name in file_names:  # 循环11个文件\n",
    "        for sheet_name in sheet_names:  # 循环4个子表\n",
    "            # 读取数据\n",
    "            tmp = pd.read_excel(file_path + file_name, sheet_name=sheet_name, engine='openpyxl')\n",
    "            # 添加字段\n",
    "            tmp['yd_type'] = file_name.split('.')[0]\n",
    "            # 拼接数据\n",
    "            all_data[sheet_name] = pd.concat([all_data[sheet_name], tmp])\n",
    "    return all_data"
   ]
  },
  {
   "cell_type": "code",
   "execution_count": 3,
   "id": "3b49a2e0-0ec6-4837-bf5a-9d065b0d8b23",
   "metadata": {},
   "outputs": [],
   "source": [
    "all_data_test = get_files('./data/附件2/')"
   ]
  },
  {
   "cell_type": "code",
   "execution_count": 4,
   "id": "ff6d906a-9a42-4b20-8859-81158bd4a103",
   "metadata": {},
   "outputs": [],
   "source": [
    "# 预处理\n",
    "def fix_na(data):\n",
    "    tmp2 = data.copy()\n",
    "    # 1 时间格式转换\n",
    "    tmp2['time'] = pd.to_datetime(data['time'])\n",
    "    # 2 时间作为索引\n",
    "    tmp2 = tmp2.set_index('time')\n",
    "    # 3 重采样\n",
    "    tmp3 = tmp2.resample('S').max()\n",
    "    # 4 缺失值处理\n",
    "    ind = tmp3.iloc[:,0].isna()\n",
    "    ind2 = pd.Series(ind[ind].index, index= ind[ind].index).diff().dt.seconds\n",
    "    ind3 = ind2.loc[ind2 == 1].index\n",
    "    # 删除\n",
    "    tmp4 = tmp3.drop(ind3)\n",
    "    tmp_res = tmp4.fillna(method='ffill')\n",
    "    return tmp_res"
   ]
  },
  {
   "cell_type": "code",
   "execution_count": 5,
   "id": "a6cdfd2b-10cc-424b-87bb-f69f88a42753",
   "metadata": {},
   "outputs": [
    {
     "name": "stdout",
     "output_type": "stream",
     "text": [
      "设备数据 (505, 11) (526, 10)\n",
      "周波数据 (505, 259) (526, 258)\n",
      "谐波数据 (505, 103) (526, 102)\n"
     ]
    }
   ],
   "source": [
    "# 构建\n",
    "all_data_fix_na_test = {i:pd.DataFrame() for i in ['设备数据', '周波数据', '谐波数据']}\n",
    "# 循环处理\n",
    "for i in all_data_test['设备数据']['yd_type'].unique():\n",
    "    for j in ['设备数据', '周波数据', '谐波数据']:\n",
    "        # 提取对应数据\n",
    "        tmp = all_data_test[j].loc[all_data_test[j]['yd_type']==i,:]\n",
    "        # 处理\n",
    "        all_data_fix_na_test[j] = pd.concat([all_data_fix_na_test[j],fix_na(tmp)])\n",
    "\n",
    "for i in ['设备数据', '周波数据', '谐波数据']:\n",
    "    print(i, all_data_test[i].shape, all_data_fix_na_test[i].shape)"
   ]
  },
  {
   "cell_type": "code",
   "execution_count": 6,
   "id": "097e80f1-b784-40f4-978c-224b10631e85",
   "metadata": {},
   "outputs": [],
   "source": [
    "# 特征构建\n",
    "def get_feature(data):\n",
    "    feature1 =data['设备数据'][['IC','UC','PC','QC','PFC','label','yd_type']]\n",
    "\n",
    "    tmp = data['周波数据']\n",
    "    cols = [i for i in tmp.columns if 'UC' not in i]\n",
    "    feature2 = tmp[cols]\n",
    "    feature21 = pd.DataFrame([], columns=['波峰','波谷'])\n",
    "    from sklearn.cluster import KMeans\n",
    "    for i in range(len(feature2)):\n",
    "        d = feature2.iloc[i,:-2]\n",
    "        model = KMeans(n_clusters=2)\n",
    "        model.fit(d.values.reshape((-1,1)))\n",
    "        tmp = model.cluster_centers_\n",
    "        feature21.loc[d.name, '波峰'] = tmp.max() # 波峰\n",
    "        feature21.loc[d.name, '波谷'] = tmp.min() # 波谷\n",
    "        feature21.loc[d.name,'波峰_num'] = sum(model.labels_ == tmp.argmax())\n",
    "        feature21.loc[d.name,'波谷_num'] = sum(model.labels_ == tmp.argmin())\n",
    "\n",
    "    tmp = data['谐波数据']\n",
    "    cols = [i for i in tmp.columns if 'UC' not in i]\n",
    "    feature3 = tmp[cols]\n",
    "    tmp = feature3.drop(['label','yd_type'],axis=1)\n",
    "    from scipy import stats\n",
    "    feature31 = tmp.apply(lambda d: [d.max(), d.mean(), d.std(), d.kurt(),\n",
    "                       stats.skew(d), d.median(), d.quantile(0.9)], axis=1 )\n",
    "    feature31_new = pd.DataFrame(list(feature31.values),index=feature31.index,\n",
    "                                 columns=['最大值','均值','标准差','峰度','偏度','中位数','0.9分位数'])\n",
    "\n",
    "    data_feature_fe = pd.concat([feature1,feature21, feature31_new],axis=1)\n",
    "    return data_feature_fe\n",
    "\n",
    "feature_test = get_feature(all_data_fix_na_test)"
   ]
  },
  {
   "cell_type": "code",
   "execution_count": 7,
   "id": "f6881712-4f3a-488a-9ab8-40e8110cea0c",
   "metadata": {},
   "outputs": [
    {
     "name": "stdout",
     "output_type": "stream",
     "text": [
      "(526, 16) (526,)\n"
     ]
    }
   ],
   "source": [
    "# 拆分\n",
    "x, y = feature_test.drop(['label','yd_type'], axis=1), feature_test['label']\n",
    "print(x.shape, y.shape)"
   ]
  },
  {
   "cell_type": "code",
   "execution_count": 8,
   "id": "783d5d0c-7ae5-4e34-86dc-0c5ef8fc1e82",
   "metadata": {},
   "outputs": [],
   "source": [
    "# 加载数据标准化模型\n",
    "from joblib import load\n",
    "scale_test =load('scale_ss')\n",
    "x_ss = scale_test.transform(x)"
   ]
  },
  {
   "cell_type": "code",
   "execution_count": 9,
   "id": "5436a1c0-f448-4390-b23e-c7f6cc50f11d",
   "metadata": {},
   "outputs": [],
   "source": [
    "# 加载KNN模型预测\n",
    "model_test = load('model_knn')\n",
    "y_pred = model_test.predict(x_ss)\n",
    "y_pred"
   ]
  },
  {
   "cell_type": "code",
   "execution_count": 10,
   "id": "b9931d27-4456-4796-95fb-cb0cc1e6ee08",
   "metadata": {},
   "outputs": [
    {
     "data": {
      "image/png": "[encoded data removed]",
      "text/plain": [
       "<Figure size 640x480 with 2 Axes>"
      ]
     },
     "metadata": {},
     "output_type": "display_data"
    }
   ],
   "source": [
    "# 模型评估\n",
    "from sklearn.metrics import roc_curve, auc, confusion_matrix, classification_report\n",
    "import seaborn as sns\n",
    "sns.heatmap(confusion_matrix(y, y_pred),cmap='Greens')\n",
    "plt.show()"
   ]
  },
  {
   "cell_type": "code",
   "execution_count": 11,
   "id": "dadcc7ae-cfcd-429c-b7cd-1b09a636e380",
   "metadata": {},
   "outputs": [
    {
     "data": {
      "image/png": "[encoded data removed]",
      "text/plain": [
       "<Figure size 640x480 with 1 Axes>"
      ]
     },
     "metadata": {},
     "output_type": "display_data"
    }
   ],
   "source": [
    "# 输出模型评价参数并绘制AUC图像\n",
    "plt.figure()\n",
    "y_scores = model_test.predict_proba(x_ss)\n",
    "y_scores\n",
    "fpr, tpr, _  = roc_curve(y==0, y_scores[:,0])\n",
    "plt.step(fpr, tpr)\n",
    "plt.title(f'AUC={auc(fpr,tpr):.2f}')\n",
    "plt.show()"
   ]
  },
  {
   "cell_type": "code",
   "execution_count": 12,
   "id": "d752c393-922e-424d-8815-ccfb60335717",
   "metadata": {},
   "outputs": [],
   "source": [
    "# 设备用电量预测\n",
    "data_res_all = pd.DataFrame()\n",
    "for yd_type in all_data_test['设备数据']['yd_type'].unique():\n",
    "    # 提取特征中的设备数据\n",
    "    tmp = feature_test.loc[feature_test['yd_type']==yd_type, :]\n",
    "    # 计算设备用电量\n",
    "    data_res = pd.DataFrame(tmp['PC']*100/3600) # 计算用电量\n",
    "    # 改名字\n",
    "    data_res.columns = ['用电量']\n",
    "    # 根据相同的设备添加预测出来的类型信息\n",
    "    data_res['label'] = y_pred[feature_test['yd_type'] == yd_type]\n",
    "    # 对数据进行按秒抽样\n",
    "    data_res2 = data_res.resample('S').fillna('bfill')\n",
    "    # 合并两个设备的数据\n",
    "    data_res_all = pd.concat([data_res2,data_res_all])"
   ]
  },
  {
   "cell_type": "code",
   "execution_count": 13,
   "id": "9862b223-9d29-4d54-80f5-4cb11892098c",
   "metadata": {},
   "outputs": [
    {
     "data": {
      "text/html": [
       "<div>\n",
       "<style scoped>\n",
       "    .dataframe tbody tr th:only-of-type {\n",
       "        vertical-align: middle;\n",
       "    }\n",
       "\n",
       "    .dataframe tbody tr th {\n",
       "        vertical-align: top;\n",
       "    }\n",
       "\n",
       "    .dataframe thead th {\n",
       "        text-align: right;\n",
       "    }\n",
       "</style>\n",
       "<table border=\"1\" class=\"dataframe\">\n",
       "  <thead>\n",
       "    <tr style=\"text-align: right;\">\n",
       "      <th></th>\n",
       "      <th>用电量</th>\n",
       "      <th>label</th>\n",
       "    </tr>\n",
       "  </thead>\n",
       "  <tbody>\n",
       "    <tr>\n",
       "      <th>2018-01-21 18:49:14</th>\n",
       "      <td>0.638889</td>\n",
       "      <td>0.0</td>\n",
       "    </tr>\n",
       "    <tr>\n",
       "      <th>2018-01-21 18:49:15</th>\n",
       "      <td>0.611111</td>\n",
       "      <td>0.0</td>\n",
       "    </tr>\n",
       "    <tr>\n",
       "      <th>2018-01-21 18:49:16</th>\n",
       "      <td>0.666667</td>\n",
       "      <td>0.0</td>\n",
       "    </tr>\n",
       "    <tr>\n",
       "      <th>2018-01-21 18:49:17</th>\n",
       "      <td>0.638889</td>\n",
       "      <td>0.0</td>\n",
       "    </tr>\n",
       "    <tr>\n",
       "      <th>2018-01-21 18:49:18</th>\n",
       "      <td>0.638889</td>\n",
       "      <td>0.0</td>\n",
       "    </tr>\n",
       "    <tr>\n",
       "      <th>...</th>\n",
       "      <td>...</td>\n",
       "      <td>...</td>\n",
       "    </tr>\n",
       "    <tr>\n",
       "      <th>2018-01-16 16:04:45</th>\n",
       "      <td>0.055556</td>\n",
       "      <td>0.0</td>\n",
       "    </tr>\n",
       "    <tr>\n",
       "      <th>2018-01-16 16:04:46</th>\n",
       "      <td>0.083333</td>\n",
       "      <td>0.0</td>\n",
       "    </tr>\n",
       "    <tr>\n",
       "      <th>2018-01-16 16:04:47</th>\n",
       "      <td>0.111111</td>\n",
       "      <td>0.0</td>\n",
       "    </tr>\n",
       "    <tr>\n",
       "      <th>2018-01-16 16:04:48</th>\n",
       "      <td>0.083333</td>\n",
       "      <td>0.0</td>\n",
       "    </tr>\n",
       "    <tr>\n",
       "      <th>2018-01-16 16:04:49</th>\n",
       "      <td>0.083333</td>\n",
       "      <td>0.0</td>\n",
       "    </tr>\n",
       "  </tbody>\n",
       "</table>\n",
       "<p>1859 rows × 2 columns</p>\n",
       "</div>"
      ],
      "text/plain": [
       "                          用电量  label\n",
       "2018-01-21 18:49:14  0.638889    0.0\n",
       "2018-01-21 18:49:15  0.611111    0.0\n",
       "2018-01-21 18:49:16  0.666667    0.0\n",
       "2018-01-21 18:49:17  0.638889    0.0\n",
       "2018-01-21 18:49:18  0.638889    0.0\n",
       "...                       ...    ...\n",
       "2018-01-16 16:04:45  0.055556    0.0\n",
       "2018-01-16 16:04:46  0.083333    0.0\n",
       "2018-01-16 16:04:47  0.111111    0.0\n",
       "2018-01-16 16:04:48  0.083333    0.0\n",
       "2018-01-16 16:04:49  0.083333    0.0\n",
       "\n",
       "[1859 rows x 2 columns]"
      ]
     },
     "execution_count": 13,
     "metadata": {},
     "output_type": "execute_result"
    }
   ],
   "source": [
    "data_res_all"
   ]
  },
  {
   "cell_type": "code",
   "execution_count": null,
   "id": "2a096eaf-3bc4-4490-b174-1c6eebff8992",
   "metadata": {},
   "outputs": [],
   "source": []
  }
 ],
 "metadata": {
  "kernelspec": {
   "display_name": "Python 3 (ipykernel)",
   "language": "python",
   "name": "python3"
  },
  "language_info": {
   "codemirror_mode": {
    "name": "ipython",
    "version": 3
   },
   "file_extension": ".py",
   "mimetype": "text/x-python",
   "name": "python",
   "nbconvert_exporter": "python",
   "pygments_lexer": "ipython3",
   "version": "3.11.0"
  },
  "widgets": {
   "application/vnd.jupyter.widget-state+json": {
    "state": {},
    "version_major": 2,
    "version_minor": 0
   }
  }
 },
 "nbformat": 4,
 "nbformat_minor": 5
}
