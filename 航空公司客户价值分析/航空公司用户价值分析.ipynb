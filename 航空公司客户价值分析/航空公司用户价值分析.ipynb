{
 "cells": [
  {
   "cell_type": "code",
   "execution_count": 25,
   "id": "780441cc-a2bb-43a3-b59e-5f98a165da88",
   "metadata": {},
   "outputs": [],
   "source": [
    "import numpy as np\n",
    "import pandas as pd\n",
    "import matplotlib.pyplot as plt\n",
    "from sklearn.preprocessing import StandardScaler\n",
    "from sklearn.cluster import KMeans\n",
    "from display import plot\n",
    "import warnings\n",
    "warnings.filterwarnings('ignore')"
   ]
  },
  {
   "cell_type": "code",
   "execution_count": 5,
   "id": "fd9b8cb7-726c-4879-a8e5-a9c788272138",
   "metadata": {},
   "outputs": [
    {
     "data": {
      "text/plain": [
       "(62988, 44)"
      ]
     },
     "execution_count": 5,
     "metadata": {},
     "output_type": "execute_result"
    }
   ],
   "source": [
    "# 读取数据\n",
    "airline_data=pd.read_csv('air_data.csv',encoding='gb18030')#gb18030比utf-8和GBK级别都高\n",
    "airline_data.shape"
   ]
  },
  {
   "cell_type": "markdown",
   "id": "3abb3481-ab2a-45d7-bf8b-9d82f6f298a2",
   "metadata": {},
   "source": [
    "## 数据预处理"
   ]
  },
  {
   "cell_type": "code",
   "execution_count": 6,
   "id": "0ad46ea9-cbe7-4fca-ab36-523d5f0bb08c",
   "metadata": {
    "scrolled": true
   },
   "outputs": [
    {
     "name": "stdout",
     "output_type": "stream",
     "text": [
      "<class 'pandas.core.frame.DataFrame'>\n",
      "RangeIndex: 62988 entries, 0 to 62987\n",
      "Data columns (total 44 columns):\n",
      " #   Column                   Non-Null Count  Dtype  \n",
      "---  ------                   --------------  -----  \n",
      " 0   MEMBER_NO                62988 non-null  int64  \n",
      " 1   FFP_DATE                 62988 non-null  object \n",
      " 2   FIRST_FLIGHT_DATE        62988 non-null  object \n",
      " 3   GENDER                   62985 non-null  object \n",
      " 4   FFP_TIER                 62988 non-null  int64  \n",
      " 5   WORK_CITY                60719 non-null  object \n",
      " 6   WORK_PROVINCE            59740 non-null  object \n",
      " 7   WORK_COUNTRY             62962 non-null  object \n",
      " 8   AGE                      62568 non-null  float64\n",
      " 9   LOAD_TIME                62988 non-null  object \n",
      " 10  FLIGHT_COUNT             62988 non-null  int64  \n",
      " 11  BP_SUM                   62988 non-null  int64  \n",
      " 12  EP_SUM_YR_1              62988 non-null  int64  \n",
      " 13  EP_SUM_YR_2              62988 non-null  int64  \n",
      " 14  SUM_YR_1                 62437 non-null  float64\n",
      " 15  SUM_YR_2                 62850 non-null  float64\n",
      " 16  SEG_KM_SUM               62988 non-null  int64  \n",
      " 17  WEIGHTED_SEG_KM          62988 non-null  float64\n",
      " 18  LAST_FLIGHT_DATE         62988 non-null  object \n",
      " 19  AVG_FLIGHT_COUNT         62988 non-null  float64\n",
      " 20  AVG_BP_SUM               62988 non-null  float64\n",
      " 21  BEGIN_TO_FIRST           62988 non-null  int64  \n",
      " 22  LAST_TO_END              62988 non-null  int64  \n",
      " 23  AVG_INTERVAL             62988 non-null  float64\n",
      " 24  MAX_INTERVAL             62988 non-null  int64  \n",
      " 25  ADD_POINTS_SUM_YR_1      62988 non-null  int64  \n",
      " 26  ADD_POINTS_SUM_YR_2      62988 non-null  int64  \n",
      " 27  EXCHANGE_COUNT           62988 non-null  int64  \n",
      " 28  avg_discount             62988 non-null  float64\n",
      " 29  P1Y_Flight_Count         62988 non-null  int64  \n",
      " 30  L1Y_Flight_Count         62988 non-null  int64  \n",
      " 31  P1Y_BP_SUM               62988 non-null  int64  \n",
      " 32  L1Y_BP_SUM               62988 non-null  int64  \n",
      " 33  EP_SUM                   62988 non-null  int64  \n",
      " 34  ADD_Point_SUM            62988 non-null  int64  \n",
      " 35  Eli_Add_Point_Sum        62988 non-null  int64  \n",
      " 36  L1Y_ELi_Add_Points       62988 non-null  int64  \n",
      " 37  Points_Sum               62988 non-null  int64  \n",
      " 38  L1Y_Points_Sum           62988 non-null  int64  \n",
      " 39  Ration_L1Y_Flight_Count  62988 non-null  float64\n",
      " 40  Ration_P1Y_Flight_Count  62988 non-null  float64\n",
      " 41  Ration_P1Y_BPS           62988 non-null  float64\n",
      " 42  Ration_L1Y_BPS           62988 non-null  float64\n",
      " 43  Point_NotFlight          62988 non-null  int64  \n",
      "dtypes: float64(12), int64(24), object(8)\n",
      "memory usage: 21.1+ MB\n"
     ]
    }
   ],
   "source": [
    "airline_data.info()"
   ]
  },
  {
   "cell_type": "markdown",
   "id": "d86e1a50-13f0-442b-98b6-a41569b4618d",
   "metadata": {},
   "source": [
    "### 丢弃票价为空的数据"
   ]
  },
  {
   "cell_type": "code",
   "execution_count": 7,
   "id": "56a8a771-a5f1-4f41-8fc8-4383a1187144",
   "metadata": {},
   "outputs": [
    {
     "data": {
      "text/plain": [
       "0         True\n",
       "1         True\n",
       "2         True\n",
       "3         True\n",
       "4         True\n",
       "         ...  \n",
       "62983     True\n",
       "62984     True\n",
       "62985     True\n",
       "62986     True\n",
       "62987    False\n",
       "Name: SUM_YR_1, Length: 62988, dtype: bool"
      ]
     },
     "execution_count": 7,
     "metadata": {},
     "output_type": "execute_result"
    }
   ],
   "source": [
    "exp1=airline_data['SUM_YR_1'].notnull()\n",
    "exp1"
   ]
  },
  {
   "cell_type": "code",
   "execution_count": 8,
   "id": "748156bc-afad-4032-b51e-878b094ea865",
   "metadata": {
    "scrolled": true
   },
   "outputs": [
    {
     "data": {
      "text/plain": [
       "0        True\n",
       "1        True\n",
       "2        True\n",
       "3        True\n",
       "4        True\n",
       "         ... \n",
       "62983    True\n",
       "62984    True\n",
       "62985    True\n",
       "62986    True\n",
       "62987    True\n",
       "Name: SUM_YR_2, Length: 62988, dtype: bool"
      ]
     },
     "execution_count": 8,
     "metadata": {},
     "output_type": "execute_result"
    }
   ],
   "source": [
    "exp2=airline_data['SUM_YR_2'].notnull()\n",
    "exp2"
   ]
  },
  {
   "cell_type": "code",
   "execution_count": 9,
   "id": "45455448-0043-44a6-b39f-c93b6698c487",
   "metadata": {},
   "outputs": [
    {
     "data": {
      "text/plain": [
       "(62299, 44)"
      ]
     },
     "execution_count": 9,
     "metadata": {},
     "output_type": "execute_result"
    }
   ],
   "source": [
    "airline_notnull=airline_data[exp1&exp2]\n",
    "airline_notnull.shape"
   ]
  },
  {
   "cell_type": "markdown",
   "id": "d8818106-5a36-43ba-be7d-86d167d3f6f9",
   "metadata": {},
   "source": [
    "### 丢弃票价为0，平均折扣率不为0，总飞行公里大于0的记录"
   ]
  },
  {
   "cell_type": "code",
   "execution_count": 10,
   "id": "6f4d7d16-90bc-4ff7-b324-103e3570831c",
   "metadata": {},
   "outputs": [
    {
     "data": {
      "text/plain": [
       "(62051, 44)"
      ]
     },
     "execution_count": 10,
     "metadata": {},
     "output_type": "execute_result"
    }
   ],
   "source": [
    "index=(airline_notnull['SUM_YR_1']==0)&(airline_notnull['SUM_YR_2']==0)&(airline_notnull['avg_discount']!=0)&(airline_notnull['SEG_KM_SUM']>0)\n",
    "airline=airline_notnull[-index]\n",
    "airline.shape"
   ]
  },
  {
   "cell_type": "markdown",
   "id": "2deb8531-a8b9-4115-8f2b-2e7e94b164a0",
   "metadata": {},
   "source": [
    "# 特征构建"
   ]
  },
  {
   "cell_type": "markdown",
   "id": "673d3788-f289-4a34-bb09-53f56b89e8fc",
   "metadata": {},
   "source": [
    "+ 部分字段说明：\n",
    "+ FFP_DATE:入会时间\n",
    "+ LOAD_TIME:观测窗口结束时间\n",
    "+ FLIGHT_COUNT:飞行次数\n",
    "+ LAST_TO_END:最后一次乘机时间至观测窗口结束月数\n",
    "+ avg_discount:平均折扣系数\n",
    "+ SEG_KM_SUM: 总飞行公里数"
   ]
  },
  {
   "cell_type": "code",
   "execution_count": 14,
   "id": "82bd8bc2-b1b5-4bb5-8aec-feebdabc66b3",
   "metadata": {
    "scrolled": true
   },
   "outputs": [
    {
     "data": {
      "text/plain": [
       "0        90.200000\n",
       "1        86.566667\n",
       "2        87.166667\n",
       "3        68.233333\n",
       "4        60.533333\n",
       "           ...    \n",
       "62982    14.500000\n",
       "62983    34.866667\n",
       "62984    49.466667\n",
       "62985    97.433333\n",
       "62986    13.933333\n",
       "Length: 62051, dtype: float64"
      ]
     },
     "execution_count": 14,
     "metadata": {},
     "output_type": "execute_result"
    }
   ],
   "source": [
    "airline_selection=airline.loc[:,['FFP_DATE','LOAD_TIME','FLIGHT_COUNT','LAST_TO_END','avg_discount','SEG_KM_SUM']]\n",
    "# airline_selection.head()\n",
    "airline_selection['FFP_DATE']=pd.to_datetime(airline_selection['FFP_DATE'])\n",
    "airline_selection['LOAD_TIME']=pd.to_datetime(airline_selection['LOAD_TIME'])\n",
    "L=airline_selection['LOAD_TIME']-airline_selection['FFP_DATE']\n",
    "L=L.astype(str).str.split().str[0]\n",
    "L=L.astype(int)/30\n",
    "L"
   ]
  },
  {
   "cell_type": "code",
   "execution_count": 17,
   "id": "96c0a29f-e4bf-47f6-9a93-6e0c701f3054",
   "metadata": {
    "scrolled": true
   },
   "outputs": [
    {
     "data": {
      "text/html": [
       "<div>\n",
       "<style scoped>\n",
       "    .dataframe tbody tr th:only-of-type {\n",
       "        vertical-align: middle;\n",
       "    }\n",
       "\n",
       "    .dataframe tbody tr th {\n",
       "        vertical-align: top;\n",
       "    }\n",
       "\n",
       "    .dataframe thead th {\n",
       "        text-align: right;\n",
       "    }\n",
       "</style>\n",
       "<table border=\"1\" class=\"dataframe\">\n",
       "  <thead>\n",
       "    <tr style=\"text-align: right;\">\n",
       "      <th></th>\n",
       "      <th>L</th>\n",
       "      <th>R</th>\n",
       "      <th>F</th>\n",
       "      <th>M</th>\n",
       "      <th>C</th>\n",
       "    </tr>\n",
       "  </thead>\n",
       "  <tbody>\n",
       "    <tr>\n",
       "      <th>0</th>\n",
       "      <td>90.200000</td>\n",
       "      <td>210</td>\n",
       "      <td>1</td>\n",
       "      <td>0.961639</td>\n",
       "      <td>580717</td>\n",
       "    </tr>\n",
       "    <tr>\n",
       "      <th>1</th>\n",
       "      <td>86.566667</td>\n",
       "      <td>140</td>\n",
       "      <td>7</td>\n",
       "      <td>1.252314</td>\n",
       "      <td>293678</td>\n",
       "    </tr>\n",
       "    <tr>\n",
       "      <th>2</th>\n",
       "      <td>87.166667</td>\n",
       "      <td>135</td>\n",
       "      <td>11</td>\n",
       "      <td>1.254676</td>\n",
       "      <td>283712</td>\n",
       "    </tr>\n",
       "    <tr>\n",
       "      <th>3</th>\n",
       "      <td>68.233333</td>\n",
       "      <td>23</td>\n",
       "      <td>97</td>\n",
       "      <td>1.090870</td>\n",
       "      <td>281336</td>\n",
       "    </tr>\n",
       "    <tr>\n",
       "      <th>4</th>\n",
       "      <td>60.533333</td>\n",
       "      <td>152</td>\n",
       "      <td>5</td>\n",
       "      <td>0.970658</td>\n",
       "      <td>309928</td>\n",
       "    </tr>\n",
       "    <tr>\n",
       "      <th>...</th>\n",
       "      <td>...</td>\n",
       "      <td>...</td>\n",
       "      <td>...</td>\n",
       "      <td>...</td>\n",
       "      <td>...</td>\n",
       "    </tr>\n",
       "    <tr>\n",
       "      <th>62982</th>\n",
       "      <td>14.500000</td>\n",
       "      <td>2</td>\n",
       "      <td>437</td>\n",
       "      <td>0.000000</td>\n",
       "      <td>3848</td>\n",
       "    </tr>\n",
       "    <tr>\n",
       "      <th>62983</th>\n",
       "      <td>34.866667</td>\n",
       "      <td>2</td>\n",
       "      <td>297</td>\n",
       "      <td>0.000000</td>\n",
       "      <td>1134</td>\n",
       "    </tr>\n",
       "    <tr>\n",
       "      <th>62984</th>\n",
       "      <td>49.466667</td>\n",
       "      <td>4</td>\n",
       "      <td>89</td>\n",
       "      <td>0.000000</td>\n",
       "      <td>8016</td>\n",
       "    </tr>\n",
       "    <tr>\n",
       "      <th>62985</th>\n",
       "      <td>97.433333</td>\n",
       "      <td>2</td>\n",
       "      <td>29</td>\n",
       "      <td>0.000000</td>\n",
       "      <td>2594</td>\n",
       "    </tr>\n",
       "    <tr>\n",
       "      <th>62986</th>\n",
       "      <td>13.933333</td>\n",
       "      <td>2</td>\n",
       "      <td>400</td>\n",
       "      <td>0.000000</td>\n",
       "      <td>3934</td>\n",
       "    </tr>\n",
       "  </tbody>\n",
       "</table>\n",
       "<p>62051 rows × 5 columns</p>\n",
       "</div>"
      ],
      "text/plain": [
       "               L    R    F         M       C\n",
       "0      90.200000  210    1  0.961639  580717\n",
       "1      86.566667  140    7  1.252314  293678\n",
       "2      87.166667  135   11  1.254676  283712\n",
       "3      68.233333   23   97  1.090870  281336\n",
       "4      60.533333  152    5  0.970658  309928\n",
       "...          ...  ...  ...       ...     ...\n",
       "62982  14.500000    2  437  0.000000    3848\n",
       "62983  34.866667    2  297  0.000000    1134\n",
       "62984  49.466667    4   89  0.000000    8016\n",
       "62985  97.433333    2   29  0.000000    2594\n",
       "62986  13.933333    2  400  0.000000    3934\n",
       "\n",
       "[62051 rows x 5 columns]"
      ]
     },
     "execution_count": 17,
     "metadata": {},
     "output_type": "execute_result"
    }
   ],
   "source": [
    "airline_feature=pd.concat((L,airline_selection.iloc[:,2:]),axis=1)\n",
    "airline_feature.columns=list('LRFMC')\n",
    "airline_feature"
   ]
  },
  {
   "cell_type": "code",
   "execution_count": 20,
   "id": "fa27032f-2b10-4d30-8fa4-1121e1372f3f",
   "metadata": {
    "scrolled": true
   },
   "outputs": [
    {
     "data": {
      "text/plain": [
       "array([[ 1.43575876e+00,  1.40346229e+01, -9.45005317e-01,\n",
       "         1.29494985e+00,  2.67623277e+01],\n",
       "       [ 1.30720291e+00,  9.07363254e+00, -9.11952633e-01,\n",
       "         2.86633445e+00,  1.31274763e+01],\n",
       "       [ 1.32843232e+00,  8.71927608e+00, -8.89917510e-01,\n",
       "         2.87909838e+00,  1.26540740e+01],\n",
       "       ...,\n",
       "       [-5.48209383e-03, -5.64863071e-01, -4.60232613e-01,\n",
       "        -3.90364899e+00, -4.41965150e-01],\n",
       "       [ 1.69169106e+00, -7.06605653e-01, -7.90759457e-01,\n",
       "        -3.90364899e+00, -6.99519573e-01],\n",
       "       [-1.26273476e+00, -7.06605653e-01,  1.25299819e+00,\n",
       "        -3.90364899e+00, -6.35867244e-01]], shape=(62051, 5))"
      ]
     },
     "execution_count": 20,
     "metadata": {},
     "output_type": "execute_result"
    }
   ],
   "source": [
    "data=StandardScaler().fit_transform(airline_feature)\n",
    "data"
   ]
  },
  {
   "cell_type": "markdown",
   "id": "7d65e693-8db0-4af9-ac92-add9a49efd03",
   "metadata": {},
   "source": [
    "# K-means聚类分析"
   ]
  },
  {
   "cell_type": "code",
   "execution_count": 21,
   "id": "d469400d-c7f1-4200-873a-c2d4b6fad6b1",
   "metadata": {},
   "outputs": [],
   "source": [
    "kmeans_model=KMeans(n_clusters=5).fit(data)"
   ]
  },
  {
   "cell_type": "code",
   "execution_count": 22,
   "id": "b27609cd-5584-471f-bf8e-dea7f61de8a8",
   "metadata": {},
   "outputs": [
    {
     "data": {
      "text/plain": [
       "array([[-0.31464551, -0.57390254,  1.683972  , -0.17000457, -0.53696254],\n",
       "       [ 0.08630451, -0.2138409 , -0.00728842,  2.24781743, -0.21440546],\n",
       "       [ 1.15897542, -0.08692107, -0.37751708, -0.1559032 , -0.09489707],\n",
       "       [ 0.48218583,  2.48707769, -0.79943623,  0.30551957,  2.42761924],\n",
       "       [-0.70029832, -0.16234341, -0.41354696, -0.24524145, -0.16254693]])"
      ]
     },
     "execution_count": 22,
     "metadata": {},
     "output_type": "execute_result"
    }
   ],
   "source": [
    "kmeans_model.cluster_centers_"
   ]
  },
  {
   "cell_type": "code",
   "execution_count": 23,
   "id": "38d014a3-8c5f-48d6-932a-5c7a11aea048",
   "metadata": {},
   "outputs": [
    {
     "data": {
      "text/plain": [
       "array([3, 3, 3, ..., 4, 2, 0], shape=(62051,), dtype=int32)"
      ]
     },
     "execution_count": 23,
     "metadata": {},
     "output_type": "execute_result"
    }
   ],
   "source": [
    "kmeans_model.labels_"
   ]
  },
  {
   "cell_type": "markdown",
   "id": "fdac7250-027c-4b2a-8cf3-debbadae9aab",
   "metadata": {},
   "source": [
    "## 雷达图"
   ]
  },
  {
   "cell_type": "code",
   "execution_count": 26,
   "id": "6143ccc0-2053-4480-abf6-ef0ecd2a6863",
   "metadata": {},
   "outputs": [
    {
     "data": {
      "text/plain": [
       "<Figure size 1100x1100 with 0 Axes>"
      ]
     },
     "metadata": {},
     "output_type": "display_data"
    },
    {
     "data": {
      "image/png": "[encoded data removed]",
      "text/plain": [
       "<Figure size 640x480 with 1 Axes>"
      ]
     },
     "metadata": {},
     "output_type": "display_data"
    }
   ],
   "source": [
    "plot(kmeans_model,airline_feature.columns)"
   ]
  }
 ],
 "metadata": {
  "kernelspec": {
   "display_name": "Python 3 (ipykernel)",
   "language": "python",
   "name": "python3"
  },
  "language_info": {
   "codemirror_mode": {
    "name": "ipython",
    "version": 3
   },
   "file_extension": ".py",
   "mimetype": "text/x-python",
   "name": "python",
   "nbconvert_exporter": "python",
   "pygments_lexer": "ipython3",
   "version": "3.11.0"
  }
 },
 "nbformat": 4,
 "nbformat_minor": 5
}
